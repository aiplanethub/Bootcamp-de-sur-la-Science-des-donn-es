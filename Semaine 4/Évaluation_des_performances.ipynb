{
  "nbformat": 4,
  "nbformat_minor": 0,
  "metadata": {
    "kernelspec": {
      "display_name": "Python 3",
      "language": "python",
      "name": "python3"
    },
    "language_info": {
      "codemirror_mode": {
        "name": "ipython",
        "version": 3
      },
      "file_extension": ".py",
      "mimetype": "text/x-python",
      "name": "python",
      "nbconvert_exporter": "python",
      "pygments_lexer": "ipython3",
      "version": "3.7.7"
    },
    "colab": {
      "name": "Évaluation des performances",
      "provenance": [],
      "collapsed_sections": [
        "HtZ2yI1Lgh2I",
        "SqjqAVSQgh2S",
        "Yh4fSgV9gh2a",
        "WlQf5BUtgh2o",
        "plCwrQB_gh23",
        "1_2Y9vQ9gh2_",
        "zY7eJaxsgh3K",
        "hum7bVaAgh3P",
        "GP8EUDXTgh3s",
        "AjIBhaItgh4X",
        "RHrz_JZAgh4j",
        "mx7Dtz5Wgh4r",
        "Onetrj_Agh5A",
        "gESg0k8_gh5H",
        "YoVnDQsigh5x",
        "QQwxdMUkgh6m",
        "1gp-Po0wgh7w"
      ]
    }
  },
  "cells": [
    {
      "cell_type": "markdown",
      "metadata": {
        "id": "tdPA03q3vRei"
      },
      "source": [
        "[![Open In Colab](https://colab.research.google.com/assets/colab-badge.svg)](https://colab.research.google.com/drive/1JuiXnrL99eZzIiRzdtREyLlCYhF6Nc4u?usp=sharing)"
      ]
    },
    {
      "cell_type": "markdown",
      "metadata": {
        "id": "N4yt1psqgh1X"
      },
      "source": [
        "# Évaluation des performances, validation croisée et réglage des hyperparamètres\n",
        "Dans ce cahier, nous allons apprendre 3 choses:\n",
        "* Métriques d'évaluation\n",
        "* Validation croisée\n",
        "* Réglage des hyperparamètres"
      ]
    },
    {
      "cell_type": "markdown",
      "metadata": {
        "id": "57GJ0KnnpC34"
      },
      "source": [
        "### Description des données\n",
        "Ici, nous utiliserons l'ensemble de données sur le diabète pour la classification. Compte tenu des différentes spécifications médicales d'une personne, nous devons prédire si la personne est diabétique ou non.\n",
        "\n",
        "**Différents attributs:**\n",
        "1. Nombre de fois enceinte\n",
        "2. Concentration de glucose plasmatique a 2 heures dans un test oral de tolérance au glucose\n",
        "3. Tension artérielle diastolique (mm Hg)\n",
        "4. Épaisseur du pli cutané du triceps (mm)\n",
        "5. Insuline sérique 2 heures (mu U / ml)\n",
        "6. Indice de masse corporelle (poids en kg / (taille en m) ^ 2)\n",
        "7. Fonction généalogique du diabète\n",
        "8. Âge (années)\n",
        "9. Variable de classe (0 ou 1)\n",
        "\n",
        "Tous les noms de fonction sont numériques. Donnons des noms textuels à ces fonctionnalités.\n",
        "* Nombre de fois enceinte: **num_preg**\n",
        "* Concentration de glucose plasmatique a 2 heures dans un test oral de tolérance au glucose: **plasma_glucose_conc**\n",
        "* Tension artérielle diastolique (mm Hg): **D_blood_pressure**\n",
        "* Épaisseur du pli cutané du triceps (mm): **skin_fold_thickness**\n",
        "* Insuline sérique 2 heures (mu U / ml): **sérum_insuline**\n",
        "* Indice de masse corporelle (poids en kg / (taille en m) ^ 2): **body_mass_index**\n",
        "* Fonction pedigree du diabète: **pedigree_func**\n",
        "* Âge (années): **âge**\n",
        "* Variable de classe (0 ou 1): **diabète**"
      ]
    },
    {
      "cell_type": "markdown",
      "metadata": {
        "id": "dYnubTr4oUKY"
      },
      "source": [
        "### Charger les bibliothèques"
      ]
    },
    {
      "cell_type": "code",
      "metadata": {
        "id": "7WQljMFOgh1a"
      },
      "source": [
        "import pandas as pd\n",
        "import numpy as np\n",
        "import matplotlib.pyplot as plt\n",
        "import warnings\n",
        "warnings.filterwarnings(\"ignore\")\n",
        "%matplotlib inline"
      ],
      "execution_count": null,
      "outputs": []
    },
    {
      "cell_type": "markdown",
      "metadata": {
        "id": "HRSnYQG9okA4"
      },
      "source": [
        "### Chargement des données"
      ]
    },
    {
      "cell_type": "code",
      "metadata": {
        "id": "QUaCOsuroooy"
      },
      "source": [
        "# since the column names are numerical, we will give our own column names for our understanding\n",
        "col = [\"num_preg\", \"plasma_glucose_conc\", \"D_blood_pressure\", \"skin_fold_thickness\", \"serum_insulin\", \"body_mass_index\", \"pedigree_func\", \"age\", \"diabetes\"]\n",
        "diabetes_data = pd.read_csv(\"https://raw.githubusercontent.com/dphi-official/ML_Models/master/Performance_Evaluation/diabetes.txt\", names = col)"
      ],
      "execution_count": null,
      "outputs": []
    },
    {
      "cell_type": "code",
      "metadata": {
        "id": "e3Gg7tKkv8uw",
        "outputId": "20e36dbf-726b-44d9-fc7b-c3949e2fd673",
        "colab": {
          "base_uri": "https://localhost:8080/",
          "height": 204
        }
      },
      "source": [
        "diabetes_data.head()"
      ],
      "execution_count": null,
      "outputs": [
        {
          "output_type": "execute_result",
          "data": {
            "text/html": [
              "<div>\n",
              "<style scoped>\n",
              "    .dataframe tbody tr th:only-of-type {\n",
              "        vertical-align: middle;\n",
              "    }\n",
              "\n",
              "    .dataframe tbody tr th {\n",
              "        vertical-align: top;\n",
              "    }\n",
              "\n",
              "    .dataframe thead th {\n",
              "        text-align: right;\n",
              "    }\n",
              "</style>\n",
              "<table border=\"1\" class=\"dataframe\">\n",
              "  <thead>\n",
              "    <tr style=\"text-align: right;\">\n",
              "      <th></th>\n",
              "      <th>num_preg</th>\n",
              "      <th>plasma_glucose_conc</th>\n",
              "      <th>D_blood_pressure</th>\n",
              "      <th>skin_fold_thickness</th>\n",
              "      <th>serum_insulin</th>\n",
              "      <th>body_mass_index</th>\n",
              "      <th>pedigree_func</th>\n",
              "      <th>age</th>\n",
              "      <th>diabetes</th>\n",
              "    </tr>\n",
              "  </thead>\n",
              "  <tbody>\n",
              "    <tr>\n",
              "      <th>0</th>\n",
              "      <td>6</td>\n",
              "      <td>148</td>\n",
              "      <td>72</td>\n",
              "      <td>35</td>\n",
              "      <td>0</td>\n",
              "      <td>33.6</td>\n",
              "      <td>0.627</td>\n",
              "      <td>50</td>\n",
              "      <td>1</td>\n",
              "    </tr>\n",
              "    <tr>\n",
              "      <th>1</th>\n",
              "      <td>1</td>\n",
              "      <td>85</td>\n",
              "      <td>66</td>\n",
              "      <td>29</td>\n",
              "      <td>0</td>\n",
              "      <td>26.6</td>\n",
              "      <td>0.351</td>\n",
              "      <td>31</td>\n",
              "      <td>0</td>\n",
              "    </tr>\n",
              "    <tr>\n",
              "      <th>2</th>\n",
              "      <td>8</td>\n",
              "      <td>183</td>\n",
              "      <td>64</td>\n",
              "      <td>0</td>\n",
              "      <td>0</td>\n",
              "      <td>23.3</td>\n",
              "      <td>0.672</td>\n",
              "      <td>32</td>\n",
              "      <td>1</td>\n",
              "    </tr>\n",
              "    <tr>\n",
              "      <th>3</th>\n",
              "      <td>1</td>\n",
              "      <td>89</td>\n",
              "      <td>66</td>\n",
              "      <td>23</td>\n",
              "      <td>94</td>\n",
              "      <td>28.1</td>\n",
              "      <td>0.167</td>\n",
              "      <td>21</td>\n",
              "      <td>0</td>\n",
              "    </tr>\n",
              "    <tr>\n",
              "      <th>4</th>\n",
              "      <td>0</td>\n",
              "      <td>137</td>\n",
              "      <td>40</td>\n",
              "      <td>35</td>\n",
              "      <td>168</td>\n",
              "      <td>43.1</td>\n",
              "      <td>2.288</td>\n",
              "      <td>33</td>\n",
              "      <td>1</td>\n",
              "    </tr>\n",
              "  </tbody>\n",
              "</table>\n",
              "</div>"
            ],
            "text/plain": [
              "   num_preg  plasma_glucose_conc  ...  age  diabetes\n",
              "0         6                  148  ...   50         1\n",
              "1         1                   85  ...   31         0\n",
              "2         8                  183  ...   32         1\n",
              "3         1                   89  ...   21         0\n",
              "4         0                  137  ...   33         1\n",
              "\n",
              "[5 rows x 9 columns]"
            ]
          },
          "metadata": {
            "tags": []
          },
          "execution_count": 3
        }
      ]
    },
    {
      "cell_type": "markdown",
      "metadata": {
        "id": "RbHhT_yMgh1p"
      },
      "source": [
        "**Cet ensemble de données contient 13 colonnes et en fonction de différentes caractéristiques, on devine si une personne est diabétique ou non**"
      ]
    },
    {
      "cell_type": "markdown",
      "metadata": {
        "id": "67Eap_ejyyJ5"
      },
      "source": [
        "### Séparation des variables d'entrée et de la variable de sortie"
      ]
    },
    {
      "cell_type": "code",
      "metadata": {
        "id": "Ly3PQ9DayxWX"
      },
      "source": [
        "X = diabetes_data.drop('diabetes', axis = 1)\n",
        "y = diabetes_data.diabetes"
      ],
      "execution_count": null,
      "outputs": []
    },
    {
      "cell_type": "markdown",
      "metadata": {
        "id": "mOQVck62gh1z"
      },
      "source": [
        "#### Split into training and testing (80:20)"
      ]
    },
    {
      "cell_type": "code",
      "metadata": {
        "id": "2AylKRHMgh12"
      },
      "source": [
        "from sklearn.model_selection import train_test_split\n",
        "x_train, x_test, y_train, y_test = train_test_split(X, y, test_size=0.2, random_state=3)\n",
        "\n",
        "# The below line of code will not need to separate input variables and output variables.\n",
        "# The code is very simple if you remember numpy and pandas session. Indexing dataframe and arrays\n",
        "# x_train, x_test, y_train, y_test = train_test_split(diabetes.iloc[:, :-1], diabetes.iloc[:,-1], test_size=0.2, random_state=3)"
      ],
      "execution_count": null,
      "outputs": []
    },
    {
      "cell_type": "markdown",
      "metadata": {
        "id": "P3R17-E7kqjD"
      },
      "source": [
        "**Note pour les apprenants:** Ici, nous avons utilisé MLPClassifier du module neural_network de la bibliothèque sklearn. MLP Classifier est également un algorithme de classification comme la régression logistique ou l'arbre de décision. Nous en apprendrons bientôt davantage sur les réseaux de neurones et les réseaux de neurones artificiels dans les prochaines sessions. Donc, pas besoin de vous en inquiéter."
      ]
    },
    {
      "cell_type": "markdown",
      "metadata": {
        "id": "ZizeBIHwgh17"
      },
      "source": [
        "### Développer un modèle"
      ]
    },
    {
      "cell_type": "code",
      "metadata": {
        "id": "BqeygkPIgh18"
      },
      "source": [
        "from sklearn.neural_network import MLPClassifier\n",
        "mlp = MLPClassifier(max_iter=1000)\n",
        "mlp.fit(x_train, y_train)\n",
        "y_pred = mlp.predict(x_test)"
      ],
      "execution_count": null,
      "outputs": []
    },
    {
      "cell_type": "markdown",
      "metadata": {
        "id": "j8-k13W0gh1T"
      },
      "source": [
        "## Évaluation des performances\n",
        "L'évaluation des performances du modèle d'apprentissage automatique que nous avons construit est une partie essentielle de tout projet d'apprentissage automatique. Les performances de notre modèle sont effectuées à l'aide de certaines mesures d'évaluation. Le score de précision est l'un d'entre eux.\n",
        "\n",
        "**Pourquoi le score de précision n'est-il pas une bonne mesure d'évaluation?**\n",
        "\n",
        "Notre modèle peut donner des résultats satisfaisants si nous utilisons le score de précision pour un ensemble de données particulier, mais en même temps, le score de précision n'est pas une bonne mesure d'évaluation pour un ensemble de données particulier comme la détection de fraude dont nous avons discuté lors du problème de déséquilibre de classe. Considérons le même ensemble de données, supposons que nous ayons 1000 transactions dans l'ensemble de données. Sur 1000 transactions, 20 transactions sont des transactions frauduleuses. Supposons maintenant que vous construisiez un modèle qui prédit que toutes les 1000 transactions ne sont pas des transactions frauduleuses, pour 980 transactions qui n'étaient pas des fraudes, la prédiction est correcte tandis que les transactions qui étaient en réalité des fraudes sont également prédites comme des non-fraudes. La précision n'est rien d'autre qu'une prédiction correcte totale divisée par une prédiction totale. Dans ce cas, nous avons une prédiction totale de 1000 (car nous avons 1000 transactions) tandis que la prédiction totale correcte est de 980, ce qui donne un score de précision de 980/1000 = 0,98. Le modèle donne 98% de précision. Pensez-vous que le modèle est bon? Non, car notre modèle ne pouvait pas remarquer la transaction qui était en fait une fraude.\n",
        "\n",
        "Ici, nous discuterons d'autres métrices pour la classification et la régression."
      ]
    },
    {
      "cell_type": "markdown",
      "metadata": {
        "id": "1D9DMXXigh1Z"
      },
      "source": [
        "## 1. Paramètres d'évaluation"
      ]
    },
    {
      "cell_type": "markdown",
      "metadata": {
        "id": "OD9O15axgh2G"
      },
      "source": [
        "**Toutes les mesures de performance dans sklearn doivent être écrites de la même manière -**\n",
        "> `` `` metric_function (true_label, preded_labels) `` ``"
      ]
    },
    {
      "cell_type": "markdown",
      "metadata": {
        "id": "_V1Az3YsBUgP"
      },
      "source": [
        "Vous trouverez ci-dessous les mesures des problèmes de classification."
      ]
    },
    {
      "cell_type": "markdown",
      "metadata": {
        "id": "HtZ2yI1Lgh2I"
      },
      "source": [
        "### Matrice de confusion\n",
        "Une matrice de confusion est un tableau qui est souvent utilisé pour décrire les performances d'un modèle de classification (ou «classificateur») sur un ensemble de données de test dont les vraies valeurs sont connues. La matrice de confusion elle-même est relativement simple à comprendre, mais la terminologie associée peut prêter à confusion.\n",
        "\n",
        "Lectures complémentaires sur la matrice de confusion et ses terminologies associées:\n",
        "1. https://www.dataschool.io/simple-guide-to-confusion-matrix-terminology/\n",
        "2. https://towardsdatascience.com/understanding-confusion-matrix-a9ad42dcfd62"
      ]
    },
    {
      "cell_type": "code",
      "metadata": {
        "id": "gKr_nFuRgh2K"
      },
      "source": [
        "from sklearn.metrics import confusion_matrix"
      ],
      "execution_count": null,
      "outputs": []
    },
    {
      "cell_type": "code",
      "metadata": {
        "id": "i3S3OpD6QLmq",
        "outputId": "7e1f3b5e-cb2e-4544-fd60-13c1d441a980",
        "colab": {
          "base_uri": "https://localhost:8080/",
          "height": 51
        }
      },
      "source": [
        "confusion_matrix(y_test, y_pred)"
      ],
      "execution_count": null,
      "outputs": [
        {
          "output_type": "execute_result",
          "data": {
            "text/plain": [
              "array([[43, 49],\n",
              "       [14, 48]])"
            ]
          },
          "metadata": {
            "tags": []
          },
          "execution_count": 8
        }
      ]
    },
    {
      "cell_type": "code",
      "metadata": {
        "id": "12hGE_5rgh2O",
        "outputId": "e0060e74-9f5e-4466-e18d-80a057c78fb2",
        "colab": {
          "base_uri": "https://localhost:8080/",
          "height": 85
        }
      },
      "source": [
        "tn, fp, fn, tp = confusion_matrix(y_test, y_pred).ravel()     # ravel() is used to convert a 2D array to 1D array. The output by confusion matrix is a 2D array.\n",
        "print(\"True Positive\", tp)\n",
        "print(\"True Negative\", tn)\n",
        "print(\"False Positive\", fp)\n",
        "print(\"False Negative\", fn)"
      ],
      "execution_count": null,
      "outputs": [
        {
          "output_type": "stream",
          "text": [
            "True Positive 48\n",
            "True Negative 43\n",
            "False Positive 49\n",
            "False Negative 14\n"
          ],
          "name": "stdout"
        }
      ]
    },
    {
      "cell_type": "markdown",
      "metadata": {
        "id": "SqjqAVSQgh2S"
      },
      "source": [
        "### Précision\n",
        "\\begin{align}\n",
        "Précision = \\frac{TP+TN}{TP+TN+FN+FP}\n",
        "\\end{align}"
      ]
    },
    {
      "cell_type": "code",
      "metadata": {
        "id": "AX3DELNUgh2U",
        "outputId": "5b42dc49-f0d8-418b-d9d0-a3cccc7d4279",
        "colab": {
          "base_uri": "https://localhost:8080/",
          "height": 34
        }
      },
      "source": [
        "from sklearn.metrics import accuracy_score\n",
        "acc = accuracy_score(y_test, y_pred)\n",
        "acc"
      ],
      "execution_count": null,
      "outputs": [
        {
          "output_type": "execute_result",
          "data": {
            "text/plain": [
              "0.5909090909090909"
            ]
          },
          "metadata": {
            "tags": []
          },
          "execution_count": 10
        }
      ]
    },
    {
      "cell_type": "markdown",
      "metadata": {
        "id": "KNFBGQaCEjCA"
      },
      "source": [
        "**Quand est-il bon d'utiliser le score d'exactitude comme mesure d'évaluation du modèle?**\n",
        "1. Les classifications dans l'ensemble de données sont presque symétriques (signifie une distribution égale de toutes les classes).\n",
        "2. Les faux positifs et faux négatifs sur les données de test sont presque égaux."
      ]
    },
    {
      "cell_type": "markdown",
      "metadata": {
        "id": "Yh4fSgV9gh2a"
      },
      "source": [
        "### Rappel (sensibilité)\n",
        "\\begin{align}\n",
        "Sensibilité = \\frac{TP}{TP+FN}\n",
        "\\end{align}"
      ]
    },
    {
      "cell_type": "code",
      "metadata": {
        "id": "GGBdDw9hgh2b"
      },
      "source": [
        "from sklearn.metrics import recall_score"
      ],
      "execution_count": null,
      "outputs": []
    },
    {
      "cell_type": "code",
      "metadata": {
        "id": "Jk9ffog9gh2g",
        "outputId": "c09f2c2e-365e-4e7b-a91e-75ef9927520e",
        "colab": {
          "base_uri": "https://localhost:8080/",
          "height": 34
        }
      },
      "source": [
        "recall_score(y_test, y_pred)"
      ],
      "execution_count": null,
      "outputs": [
        {
          "output_type": "execute_result",
          "data": {
            "text/plain": [
              "0.7741935483870968"
            ]
          },
          "metadata": {
            "tags": []
          },
          "execution_count": 12
        }
      ]
    },
    {
      "cell_type": "markdown",
      "metadata": {
        "id": "WlQf5BUtgh2o"
      },
      "source": [
        "### Spécificité\n",
        "sklearn n'a pas de fonction inbuild pour la spécificité. Mais en ajoutant le paramètre pos_label = 0 à la fonction de rappel, nous traitons cela comme la classe positive, et donc donne la sortie correcte\n",
        "\\begin{align}\n",
        "Spécificité = \\frac{TN}{TN+FP}\n",
        "\\end{align}"
      ]
    },
    {
      "cell_type": "code",
      "metadata": {
        "id": "lHTxK6NHgh2q",
        "outputId": "5b2f16ba-e7d8-44f5-d148-2caa2c426992",
        "colab": {
          "base_uri": "https://localhost:8080/",
          "height": 34
        }
      },
      "source": [
        "print(\"Specificity with recall pos label=0: \",recall_score(y_test, y_pred, pos_label=0))"
      ],
      "execution_count": null,
      "outputs": [
        {
          "output_type": "stream",
          "text": [
            "Specificity with recall pos label=0:  0.4673913043478261\n"
          ],
          "name": "stdout"
        }
      ]
    },
    {
      "cell_type": "markdown",
      "metadata": {
        "id": "6UAM0Kz2gh2u"
      },
      "source": [
        "**Vérification avec des formules (tn, fp de la matrice de confusion):**"
      ]
    },
    {
      "cell_type": "code",
      "metadata": {
        "id": "rrthV4dhgh2v",
        "outputId": "28f9677e-236f-4c3e-dd36-0f3d5f7b0849",
        "colab": {
          "base_uri": "https://localhost:8080/",
          "height": 34
        }
      },
      "source": [
        "print(\"Specificity with Formulas: \", tn/(tn+fp))"
      ],
      "execution_count": null,
      "outputs": [
        {
          "output_type": "stream",
          "text": [
            "Specificity with Formulas:  0.4673913043478261\n"
          ],
          "name": "stdout"
        }
      ]
    },
    {
      "cell_type": "markdown",
      "metadata": {
        "id": "A7QrITQBgh21"
      },
      "source": [
        "Ce sont les mêmes! Vous pouvez utiliser l'un ou l'autre d'entre eux!"
      ]
    },
    {
      "cell_type": "markdown",
      "metadata": {
        "id": "plCwrQB_gh23"
      },
      "source": [
        "### Précision\n",
        "\\begin{align}\n",
        "Précision = \\frac{TP}{TP+FP}\n",
        "\\end{align}"
      ]
    },
    {
      "cell_type": "code",
      "metadata": {
        "id": "14pynqe6gh25",
        "outputId": "162bd5b1-8b1c-4a0b-dca3-72b082c4b90c",
        "colab": {
          "base_uri": "https://localhost:8080/",
          "height": 34
        }
      },
      "source": [
        "from sklearn.metrics import precision_score\n",
        "precision_score(y_test, y_pred)"
      ],
      "execution_count": null,
      "outputs": [
        {
          "output_type": "execute_result",
          "data": {
            "text/plain": [
              "0.4948453608247423"
            ]
          },
          "metadata": {
            "tags": []
          },
          "execution_count": 15
        }
      ]
    },
    {
      "cell_type": "code",
      "metadata": {
        "id": "9ZOVR0Xt5D0w",
        "outputId": "fded3e27-3c6a-4a89-b8c8-4e7b9952b5b7",
        "colab": {
          "base_uri": "https://localhost:8080/",
          "height": 34
        }
      },
      "source": [
        "tp / (tp + fp)"
      ],
      "execution_count": null,
      "outputs": [
        {
          "output_type": "execute_result",
          "data": {
            "text/plain": [
              "0.4948453608247423"
            ]
          },
          "metadata": {
            "tags": []
          },
          "execution_count": 16
        }
      ]
    },
    {
      "cell_type": "markdown",
      "metadata": {
        "id": "1_2Y9vQ9gh2_"
      },
      "source": [
        "### Ensembles de données déséquilibrés"
      ]
    },
    {
      "cell_type": "code",
      "metadata": {
        "id": "UwMwh4mhgh3A",
        "outputId": "c0fa728c-c4c2-4af9-cf63-f188c940d9e1",
        "colab": {
          "base_uri": "https://localhost:8080/",
          "height": 68
        }
      },
      "source": [
        "diabetes_data.iloc[:,-1].value_counts()"
      ],
      "execution_count": null,
      "outputs": [
        {
          "output_type": "execute_result",
          "data": {
            "text/plain": [
              "0    500\n",
              "1    268\n",
              "Name: diabetes, dtype: int64"
            ]
          },
          "metadata": {
            "tags": []
          },
          "execution_count": 17
        }
      ]
    },
    {
      "cell_type": "markdown",
      "metadata": {
        "id": "zY7eJaxsgh3K"
      },
      "source": [
        "### Matthews Correlation Coefficient\n",
        "\\begin{align}\n",
        "MCC = \\frac{(TP*TN)-(FP*FN)}{\\sqrt{(TP+FP)(TP+FN)(TN+FP)(TN+FN)}}\n",
        "\\end{align}"
      ]
    },
    {
      "cell_type": "code",
      "metadata": {
        "id": "vr62zEHWgh3L",
        "outputId": "1c4a3709-8f7b-486d-f0d8-d6422bdde875",
        "colab": {
          "base_uri": "https://localhost:8080/"
        }
      },
      "source": [
        "from sklearn.metrics import matthews_corrcoef\n",
        "print(\"MCC Score: \",matthews_corrcoef(y_test, y_pred))"
      ],
      "execution_count": null,
      "outputs": [
        {
          "output_type": "stream",
          "text": [
            "MCC Score:  0.24537830614198208\n"
          ],
          "name": "stdout"
        }
      ]
    },
    {
      "cell_type": "markdown",
      "metadata": {
        "id": "hum7bVaAgh3P"
      },
      "source": [
        "### Score F1\n",
        "C'est la moyenne harmonique de la précision et du rappel\n",
        "\n",
        "\\begin{align}\n",
        "Precision = \\frac{2*Precision*Recall}{Precision+Recall}\n",
        "\\end{align}"
      ]
    },
    {
      "cell_type": "code",
      "metadata": {
        "id": "Q3A9uIKwgh3Q",
        "outputId": "ad5311d5-c131-45ca-9e41-d7feb3a448d6",
        "colab": {
          "base_uri": "https://localhost:8080/",
          "height": 34
        }
      },
      "source": [
        "from sklearn.metrics import f1_score\n",
        "print(\"F1 Score: \",f1_score(y_test, y_pred))"
      ],
      "execution_count": null,
      "outputs": [
        {
          "output_type": "stream",
          "text": [
            "F1 Score:  0.6037735849056605\n"
          ],
          "name": "stdout"
        }
      ]
    },
    {
      "cell_type": "markdown",
      "metadata": {
        "id": "JVcVsBEhgh3V"
      },
      "source": [
        "## Zone sous la courbe (caractéristiques de fonctionnement du récepteur)"
      ]
    },
    {
      "cell_type": "code",
      "metadata": {
        "id": "YypfoTaVgh3X"
      },
      "source": [
        "from sklearn.metrics import plot_roc_curve"
      ],
      "execution_count": null,
      "outputs": []
    },
    {
      "cell_type": "code",
      "metadata": {
        "id": "ZZPwqn0Dgh3c",
        "outputId": "7721bb8e-8a21-48da-a4b5-b08af67d1b9f",
        "colab": {
          "base_uri": "https://localhost:8080/",
          "height": 279
        }
      },
      "source": [
        "plot_roc_curve(mlp, x_test, y_test)\n",
        "plt.show()"
      ],
      "execution_count": null,
      "outputs": [
        {
          "output_type": "display_data",
          "data": {
            "image/png": "[encoded data removed]",
            "text/plain": [
              "<Figure size 432x288 with 1 Axes>"
            ]
          },
          "metadata": {
            "tags": [],
            "needs_background": "light"
          }
        }
      ]
    },
    {
      "cell_type": "markdown",
      "metadata": {
        "id": "rHrohQufgh3l"
      },
      "source": [
        "## 1.2 Métriques d'évaluation de la régression"
      ]
    },
    {
      "cell_type": "markdown",
      "metadata": {
        "id": "dUc_2Fz7gh3m"
      },
      "source": [
        "Ensemble de données sur le vin\n",
        "    <b> Predictor Variable: </b> Quality (Tells quality of wine)"
      ]
    },
    {
      "cell_type": "code",
      "metadata": {
        "id": "WMZbaFOcgh3o",
        "outputId": "b5c13e2c-f1f8-49e3-fab1-e54d898ebd63",
        "colab": {
          "base_uri": "https://localhost:8080/",
          "height": 204
        }
      },
      "source": [
        "wine = pd.read_csv(\"https://raw.githubusercontent.com/dphi-official/ML_Models/master/Performance_Evaluation/winequality.csv\", sep=\";\")\n",
        "wine.head()"
      ],
      "execution_count": null,
      "outputs": [
        {
          "output_type": "execute_result",
          "data": {
            "text/html": [
              "<div>\n",
              "<style scoped>\n",
              "    .dataframe tbody tr th:only-of-type {\n",
              "        vertical-align: middle;\n",
              "    }\n",
              "\n",
              "    .dataframe tbody tr th {\n",
              "        vertical-align: top;\n",
              "    }\n",
              "\n",
              "    .dataframe thead th {\n",
              "        text-align: right;\n",
              "    }\n",
              "</style>\n",
              "<table border=\"1\" class=\"dataframe\">\n",
              "  <thead>\n",
              "    <tr style=\"text-align: right;\">\n",
              "      <th></th>\n",
              "      <th>fixed acidity</th>\n",
              "      <th>volatile acidity</th>\n",
              "      <th>citric acid</th>\n",
              "      <th>residual sugar</th>\n",
              "      <th>chlorides</th>\n",
              "      <th>free sulfur dioxide</th>\n",
              "      <th>total sulfur dioxide</th>\n",
              "      <th>density</th>\n",
              "      <th>pH</th>\n",
              "      <th>sulphates</th>\n",
              "      <th>alcohol</th>\n",
              "      <th>quality</th>\n",
              "    </tr>\n",
              "  </thead>\n",
              "  <tbody>\n",
              "    <tr>\n",
              "      <th>0</th>\n",
              "      <td>7.0</td>\n",
              "      <td>0.27</td>\n",
              "      <td>0.36</td>\n",
              "      <td>20.7</td>\n",
              "      <td>0.045</td>\n",
              "      <td>45.0</td>\n",
              "      <td>170.0</td>\n",
              "      <td>1.0010</td>\n",
              "      <td>3.00</td>\n",
              "      <td>0.45</td>\n",
              "      <td>8.8</td>\n",
              "      <td>6</td>\n",
              "    </tr>\n",
              "    <tr>\n",
              "      <th>1</th>\n",
              "      <td>6.3</td>\n",
              "      <td>0.30</td>\n",
              "      <td>0.34</td>\n",
              "      <td>1.6</td>\n",
              "      <td>0.049</td>\n",
              "      <td>14.0</td>\n",
              "      <td>132.0</td>\n",
              "      <td>0.9940</td>\n",
              "      <td>3.30</td>\n",
              "      <td>0.49</td>\n",
              "      <td>9.5</td>\n",
              "      <td>6</td>\n",
              "    </tr>\n",
              "    <tr>\n",
              "      <th>2</th>\n",
              "      <td>8.1</td>\n",
              "      <td>0.28</td>\n",
              "      <td>0.40</td>\n",
              "      <td>6.9</td>\n",
              "      <td>0.050</td>\n",
              "      <td>30.0</td>\n",
              "      <td>97.0</td>\n",
              "      <td>0.9951</td>\n",
              "      <td>3.26</td>\n",
              "      <td>0.44</td>\n",
              "      <td>10.1</td>\n",
              "      <td>6</td>\n",
              "    </tr>\n",
              "    <tr>\n",
              "      <th>3</th>\n",
              "      <td>7.2</td>\n",
              "      <td>0.23</td>\n",
              "      <td>0.32</td>\n",
              "      <td>8.5</td>\n",
              "      <td>0.058</td>\n",
              "      <td>47.0</td>\n",
              "      <td>186.0</td>\n",
              "      <td>0.9956</td>\n",
              "      <td>3.19</td>\n",
              "      <td>0.40</td>\n",
              "      <td>9.9</td>\n",
              "      <td>6</td>\n",
              "    </tr>\n",
              "    <tr>\n",
              "      <th>4</th>\n",
              "      <td>7.2</td>\n",
              "      <td>0.23</td>\n",
              "      <td>0.32</td>\n",
              "      <td>8.5</td>\n",
              "      <td>0.058</td>\n",
              "      <td>47.0</td>\n",
              "      <td>186.0</td>\n",
              "      <td>0.9956</td>\n",
              "      <td>3.19</td>\n",
              "      <td>0.40</td>\n",
              "      <td>9.9</td>\n",
              "      <td>6</td>\n",
              "    </tr>\n",
              "  </tbody>\n",
              "</table>\n",
              "</div>"
            ],
            "text/plain": [
              "   fixed acidity  volatile acidity  citric acid  ...  sulphates  alcohol  quality\n",
              "0            7.0              0.27         0.36  ...       0.45      8.8        6\n",
              "1            6.3              0.30         0.34  ...       0.49      9.5        6\n",
              "2            8.1              0.28         0.40  ...       0.44     10.1        6\n",
              "3            7.2              0.23         0.32  ...       0.40      9.9        6\n",
              "4            7.2              0.23         0.32  ...       0.40      9.9        6\n",
              "\n",
              "[5 rows x 12 columns]"
            ]
          },
          "metadata": {
            "tags": []
          },
          "execution_count": 22
        }
      ]
    },
    {
      "cell_type": "markdown",
      "metadata": {
        "id": "K9dBEH_895Xx"
      },
      "source": [
        "### Variables d'entrée et de sortie séparées"
      ]
    },
    {
      "cell_type": "code",
      "metadata": {
        "id": "OIuUR4Hy9459"
      },
      "source": [
        "X = wine.drop('quality', axis = 1)\n",
        "y = wine.quality"
      ],
      "execution_count": null,
      "outputs": []
    },
    {
      "cell_type": "markdown",
      "metadata": {
        "id": "GP8EUDXTgh3s"
      },
      "source": [
        "#### Divisé en formation et test (80:20)"
      ]
    },
    {
      "cell_type": "code",
      "metadata": {
        "id": "GGgMF3Rzgh3t"
      },
      "source": [
        "# Here we are performing both separation of input and output variable and the splitting.\n",
        "from sklearn.model_selection import train_test_split\n",
        "x_train, x_test, y_train, y_test = train_test_split(X, y, test_size=0.2, random_state=3)"
      ],
      "execution_count": null,
      "outputs": []
    },
    {
      "cell_type": "markdown",
      "metadata": {
        "id": "DnuT2aaQgh3z"
      },
      "source": [
        "Créer un modèle"
      ]
    },
    {
      "cell_type": "code",
      "metadata": {
        "id": "bsRa3Pe0gh32"
      },
      "source": [
        "from sklearn.linear_model import LinearRegression"
      ],
      "execution_count": null,
      "outputs": []
    },
    {
      "cell_type": "code",
      "metadata": {
        "id": "_PMAIOYRgh4B",
        "outputId": "8df9b85a-47a4-48bc-cfe3-6acdeb9f71af",
        "colab": {
          "base_uri": "https://localhost:8080/",
          "height": 51
        }
      },
      "source": [
        "lr = LinearRegression()\n",
        "lr.fit(x_train, y_train)\n",
        "y_pred = lr.predict(x_test)\n",
        "y_pred[:10]"
      ],
      "execution_count": null,
      "outputs": [
        {
          "output_type": "execute_result",
          "data": {
            "text/plain": [
              "array([5.44455619, 5.57868309, 5.99091469, 5.19864346, 6.0666099 ,\n",
              "       5.01639077, 5.68416174, 6.26611011, 5.97010538, 5.65519351])"
            ]
          },
          "metadata": {
            "tags": []
          },
          "execution_count": 26
        }
      ]
    },
    {
      "cell_type": "markdown",
      "metadata": {
        "id": "HEQuSCzMgh4R"
      },
      "source": [
        "## Mesure du rendement"
      ]
    },
    {
      "cell_type": "markdown",
      "metadata": {
        "id": "0FZ86Xpbgh4U"
      },
      "source": [
        "Let y = Actual Value,  $\\tilde{y}$ = Predicted Value"
      ]
    },
    {
      "cell_type": "markdown",
      "metadata": {
        "id": "AjIBhaItgh4X"
      },
      "source": [
        "### Erreur absolue moyenne\n",
        "* MAE est la différence absolue entre la valeur cible et la valeur prédite par le modèle.\n",
        "* Le MAE est plus robuste aux valeurs aberrantes et ne pénalise pas les erreurs aussi fort que mse\n",
        "\\begin{align}\n",
        "MAE  = \\frac{1}{n}\\sum|y-\\tilde{y}| \n",
        "\\end{align}"
      ]
    },
    {
      "cell_type": "code",
      "metadata": {
        "id": "ZNOb1yb2gh4Y",
        "outputId": "d6e6ed19-a888-4813-b524-82a00b8ad0c9",
        "colab": {
          "base_uri": "https://localhost:8080/",
          "height": 34
        }
      },
      "source": [
        "from sklearn.metrics import mean_absolute_error\n",
        "mean_absolute_error(y_test, y_pred)"
      ],
      "execution_count": null,
      "outputs": [
        {
          "output_type": "execute_result",
          "data": {
            "text/plain": [
              "0.5972358558776472"
            ]
          },
          "metadata": {
            "tags": []
          },
          "execution_count": 27
        }
      ]
    },
    {
      "cell_type": "markdown",
      "metadata": {
        "id": "RHrz_JZAgh4j"
      },
      "source": [
        "### Erreur quadratique moyenne\n",
        "* Il s'agit simplement de la moyenne de la différence au carré entre la valeur cible et la valeur prédite par le modèle de régression.\n",
        "* En corrigeant les différences, cela pénalise même une petite erreur qui conduit à une surestimation de la gravité du modèle.\n",
        "* MSE ou erreur quadratique moyenne est l'une des mesures les plus préférées pour les tâches de régression.\n",
        "\\begin{align}\n",
        "MSE & = \\frac{1}{n}\\sum(y-\\tilde{y})^2\n",
        "\\end{align}"
      ]
    },
    {
      "cell_type": "code",
      "metadata": {
        "id": "NHZcMiDrgh4k",
        "outputId": "6c2200db-0075-4ddc-e9d6-1d6e4942661c",
        "colab": {
          "base_uri": "https://localhost:8080/",
          "height": 34
        }
      },
      "source": [
        "from sklearn.metrics import mean_squared_error\n",
        "print(\"Mean Squared Error: \",mean_squared_error(y_test, y_pred))"
      ],
      "execution_count": null,
      "outputs": [
        {
          "output_type": "stream",
          "text": [
            "Mean Squared Error:  0.5906658099548077\n"
          ],
          "name": "stdout"
        }
      ]
    },
    {
      "cell_type": "markdown",
      "metadata": {
        "id": "mx7Dtz5Wgh4r"
      },
      "source": [
        "### Erreur quadratique moyenne\n",
        "* RMSE est la racine carrée de la différence quadratique moyenne entre la valeur cible et la valeur prédite par le modèle.\n",
        "* Il est préférable dans certains cas car les erreurs sont d'abord mises au carré avant le calcul de la moyenne, ce qui entraîne une forte pénalité sur les erreurs importantes.\n",
        "* Cela implique que RMSE est utile lorsque des erreurs importantes ne sont pas souhaitées.\n",
        "\\begin{align}\n",
        "RMSE  = \\sqrt{\\frac{1}{n}\\sum(y-\\tilde{y})^2}\n",
        "\\end{align}"
      ]
    },
    {
      "cell_type": "code",
      "metadata": {
        "scrolled": false,
        "id": "EfQI1JFzgh4u",
        "outputId": "1153f4c7-bcc4-4fd0-a7b8-8f83e83825c2",
        "colab": {
          "base_uri": "https://localhost:8080/",
          "height": 34
        }
      },
      "source": [
        "print(\"Root Mean Squared Error: \",mean_squared_error(y_test, y_pred, squared=False))"
      ],
      "execution_count": null,
      "outputs": [
        {
          "output_type": "stream",
          "text": [
            "Root Mean Squared Error:  0.7685478579469256\n"
          ],
          "name": "stdout"
        }
      ]
    },
    {
      "cell_type": "markdown",
      "metadata": {
        "id": "Onetrj_Agh5A"
      },
      "source": [
        "### R au carré\n",
        "<li> La métrique nous aide à comparer notre modèle actuel avec une ligne de base constante et nous indique à quel point notre modèle est meilleur\n",
        "\\begin{align}\n",
        "R^2 = 1 - \\frac{MSE(Model)}{MSE(Baseline)}\n",
        "\\end{align}"
      ]
    },
    {
      "cell_type": "code",
      "metadata": {
        "id": "XmTpqG2rgh5B",
        "outputId": "5054c1c3-db8d-48ff-caaa-32f1cee148f1",
        "colab": {
          "base_uri": "https://localhost:8080/",
          "height": 34
        }
      },
      "source": [
        "from sklearn.metrics import r2_score\n",
        "r2_score(y_test, y_pred)"
      ],
      "execution_count": null,
      "outputs": [
        {
          "output_type": "execute_result",
          "data": {
            "text/plain": [
              "0.2832037191111023"
            ]
          },
          "metadata": {
            "tags": []
          },
          "execution_count": 30
        }
      ]
    },
    {
      "cell_type": "markdown",
      "metadata": {
        "id": "7VoVhiVKgh5H"
      },
      "source": [
        "# 2. Validation croisée\n",
        "Habituellement, nos données sont divisées en Train et Test Sets.\n",
        "L'ensemble de train est divisé en train et ensemble de validation.\n",
        "\n",
        "L'ensemble de validation nous aide à sélectionner de bons paramètres / à ajuster les paramètres de notre modèle.\n",
        "\n",
        "Cet ensemble à trois volets peut être vu dans la figure ci-dessous:\n",
        "\n",
        "![train-test-val](https://amueller.github.io/ml-training-intro/slides/images/threefold_split.png)\n",
        "\n",
        "Notre ensemble de données doit être aussi grand que possible pour entraîner le modèle et en supprimer une partie considérable pour validation pose un problème de perte d'une partie précieuse de données que nous préférerions pouvoir entraîner.\n",
        "\n",
        "Afin de résoudre ce problème, nous utilisons la technique de validation croisée. La validation croisée a un certain nombre de types parmi lesquels nous utiliserons la validation croisée K-fold aujourd'hui.\n",
        "\n"
      ]
    },
    {
      "cell_type": "code",
      "metadata": {
        "id": "0dGdSReX-iFq"
      },
      "source": [
        "# Here the diabetes data is use\n",
        "# separate input and output vairables\n",
        "X = diabetes_data.drop('diabetes', axis = 1)\n",
        "y = diabetes_data.diabetes"
      ],
      "execution_count": null,
      "outputs": []
    },
    {
      "cell_type": "markdown",
      "metadata": {
        "id": "gESg0k8_gh5H"
      },
      "source": [
        "### 2.1 Validation croisée du pli en K"
      ]
    },
    {
      "cell_type": "code",
      "metadata": {
        "id": "OKX8Gjyugh5I"
      },
      "source": [
        "from sklearn.model_selection import cross_validate"
      ],
      "execution_count": null,
      "outputs": []
    },
    {
      "cell_type": "markdown",
      "metadata": {
        "id": "H7kl2Ah_gh5Q"
      },
      "source": [
        "<blockquote> Nous pouvons également importer cross_val_score depuis la même bibliothèque, mais cela ne permet d'implémenter qu'un seul scorer. Nous utilisons donc cross_validate </blockquote>"
      ]
    },
    {
      "cell_type": "code",
      "metadata": {
        "id": "4GiU8TBWgh5Q",
        "outputId": "69de6841-0d87-42e5-e226-9da029b0199c",
        "colab": {
          "base_uri": "https://localhost:8080/",
          "height": 187
        }
      },
      "source": [
        "cv_results = cross_validate(mlp, X, y, cv=10, scoring=[\"accuracy\", \"precision\", \"recall\"])\n",
        "cv_results"
      ],
      "execution_count": null,
      "outputs": [
        {
          "output_type": "execute_result",
          "data": {
            "text/plain": [
              "{'fit_time': array([0.71222353, 0.28113151, 0.27015281, 0.53144264, 0.58878517,\n",
              "        0.7093277 , 0.38992119, 0.50623631, 0.50488782, 0.43695211]),\n",
              " 'score_time': array([0.00470662, 0.00444794, 0.0044117 , 0.0046351 , 0.00443244,\n",
              "        0.00435042, 0.00445032, 0.0045352 , 0.00460291, 0.00442624]),\n",
              " 'test_accuracy': array([0.67532468, 0.66233766, 0.66233766, 0.68831169, 0.72727273,\n",
              "        0.7012987 , 0.76623377, 0.74025974, 0.67105263, 0.75      ]),\n",
              " 'test_precision': array([0.53571429, 0.51851852, 0.51515152, 0.58823529, 0.625     ,\n",
              "        0.7       , 0.64516129, 0.68421053, 0.51724138, 0.70588235]),\n",
              " 'test_recall': array([0.55555556, 0.51851852, 0.62962963, 0.37037037, 0.55555556,\n",
              "        0.25925926, 0.74074074, 0.48148148, 0.57692308, 0.46153846])}"
            ]
          },
          "metadata": {
            "tags": []
          },
          "execution_count": 33
        }
      ]
    },
    {
      "cell_type": "markdown",
      "metadata": {
        "id": "C2N7yzQRgh5V"
      },
      "source": [
        "**cv = 10 est fourni, ce qui signifie que nous effectuons une validation croisée 10 fois**"
      ]
    },
    {
      "cell_type": "code",
      "metadata": {
        "id": "jxN-rYmigh5W",
        "outputId": "196bbed8-0830-4660-a3bf-536826b2a0e4",
        "colab": {
          "base_uri": "https://localhost:8080/",
          "height": 68
        }
      },
      "source": [
        "print(\"Accuracy: \", cv_results[\"test_accuracy\"].mean())\n",
        "print(\"Precision: \", cv_results[\"test_precision\"].mean())\n",
        "print(\"Recall: \", cv_results[\"test_recall\"].mean())"
      ],
      "execution_count": null,
      "outputs": [
        {
          "output_type": "stream",
          "text": [
            "Accuracy:  0.7044429254955571\n",
            "Precision:  0.6035115162391859\n",
            "Recall:  0.5149572649572649\n"
          ],
          "name": "stdout"
        }
      ]
    },
    {
      "cell_type": "markdown",
      "metadata": {
        "id": "NrNp0R93gh5a"
      },
      "source": [
        "**Pour toutes les options de notation valides - utilisez les éléments suivants:**"
      ]
    },
    {
      "cell_type": "code",
      "metadata": {
        "id": "7mz4G3U5gh5e",
        "outputId": "f8d4c020-935c-43f6-9a30-b147b0054054",
        "colab": {
          "base_uri": "https://localhost:8080/",
          "height": 54
        }
      },
      "source": [
        "import sklearn.metrics as m\n",
        "m.SCORERS.keys()\n"
      ],
      "execution_count": null,
      "outputs": [
        {
          "output_type": "execute_result",
          "data": {
            "text/plain": [
              "dict_keys(['explained_variance', 'r2', 'max_error', 'neg_median_absolute_error', 'neg_mean_absolute_error', 'neg_mean_squared_error', 'neg_mean_squared_log_error', 'neg_root_mean_squared_error', 'neg_mean_poisson_deviance', 'neg_mean_gamma_deviance', 'accuracy', 'roc_auc', 'roc_auc_ovr', 'roc_auc_ovo', 'roc_auc_ovr_weighted', 'roc_auc_ovo_weighted', 'balanced_accuracy', 'average_precision', 'neg_log_loss', 'neg_brier_score', 'adjusted_rand_score', 'homogeneity_score', 'completeness_score', 'v_measure_score', 'mutual_info_score', 'adjusted_mutual_info_score', 'normalized_mutual_info_score', 'fowlkes_mallows_score', 'precision', 'precision_macro', 'precision_micro', 'precision_samples', 'precision_weighted', 'recall', 'recall_macro', 'recall_micro', 'recall_samples', 'recall_weighted', 'f1', 'f1_macro', 'f1_micro', 'f1_samples', 'f1_weighted', 'jaccard', 'jaccard_macro', 'jaccard_micro', 'jaccard_samples', 'jaccard_weighted'])"
            ]
          },
          "metadata": {
            "tags": []
          },
          "execution_count": 35
        }
      ]
    },
    {
      "cell_type": "markdown",
      "metadata": {
        "id": "ygp5tnDdgh5q"
      },
      "source": [
        "Pour des métriques de scoring plus compliquées (comme la spécificité, qui n'est pas explicitement fournie par sklearn), ou pour créer vos propres métriques,\n",
        "http://scikit-learn.org/stable/modules/model_evaluation.html#using-multiple-metric-evaluation"
      ]
    },
    {
      "cell_type": "markdown",
      "metadata": {
        "id": "YoVnDQsigh5x"
      },
      "source": [
        "### 2.2 Validation croisée à exclure"
      ]
    },
    {
      "cell_type": "markdown",
      "metadata": {
        "id": "ZDxbxH6ggh5x"
      },
      "source": [
        "<blockquote> Ce code prend beaucoup de temps à s'exécuter, vous pouvez soit ignorer l'exécution de cette partie et voir directement les résultats imprimés, soit attendre 10 à 15 minutes pour que cela s'exécute </blockquote>"
      ]
    },
    {
      "cell_type": "code",
      "metadata": {
        "id": "BZEbpVaygh5y"
      },
      "source": [
        "from sklearn.model_selection import LeaveOneOut"
      ],
      "execution_count": null,
      "outputs": []
    },
    {
      "cell_type": "code",
      "metadata": {
        "scrolled": true,
        "id": "vBvtai8Xgh55",
        "outputId": "347c5fa3-aa43-4184-b507-a189409b0f15",
        "colab": {
          "base_uri": "https://localhost:8080/",
          "height": 1000
        }
      },
      "source": [
        "cv_results = cross_validate(mlp, X, y,\n",
        "                            cv=LeaveOneOut(), scoring=[\"accuracy\"])\n",
        "cv_results"
      ],
      "execution_count": null,
      "outputs": [
        {
          "output_type": "execute_result",
          "data": {
            "text/plain": [
              "{'fit_time': array([0.54535079, 0.5752933 , 0.71073174, 0.33698487, 0.58281159,\n",
              "        0.3993566 , 0.76314974, 0.69838762, 0.49601626, 0.63538527,\n",
              "        0.9600904 , 0.58919239, 0.68060994, 0.56826591, 0.49913931,\n",
              "        0.21703815, 0.98201919, 0.3034234 , 0.52994657, 0.38744879,\n",
              "        0.71416831, 0.34552741, 0.0592134 , 0.77077198, 0.82220578,\n",
              "        0.68921804, 0.4818368 , 0.65259147, 0.54856849, 0.41701102,\n",
              "        0.75025892, 0.605407  , 0.62205482, 0.27240896, 0.69677138,\n",
              "        0.71997547, 0.24220228, 0.53892565, 0.6946311 , 0.64098907,\n",
              "        0.68516278, 0.52363801, 0.61211181, 0.34277987, 0.46727824,\n",
              "        0.42548013, 0.34917736, 0.49840045, 0.32899809, 0.33908629,\n",
              "        0.67891002, 0.4307127 , 0.68910599, 0.42842364, 0.36996126,\n",
              "        0.27344131, 0.38640308, 0.52115798, 0.21037555, 0.8298831 ,\n",
              "        0.52916932, 0.39916658, 0.5670042 , 0.49933243, 0.35077095,\n",
              "        0.36177826, 0.45668697, 0.42439723, 0.54657006, 0.54131746,\n",
              "        0.33516312, 0.49887586, 0.21802688, 0.36688018, 0.4405396 ,\n",
              "        0.53389668, 1.08527923, 0.40414429, 0.56773806, 0.43569493,\n",
              "        0.44813514, 0.43789887, 0.58420181, 0.75318217, 0.34576344,\n",
              "        0.55599141, 0.47365975, 0.381284  , 0.78763103, 0.2259109 ,\n",
              "        0.43836713, 0.35023046, 0.53390265, 0.78883028, 0.432899  ,\n",
              "        0.55623245, 0.38791132, 0.78584361, 0.42388606, 0.44052386,\n",
              "        0.34158158, 0.74112129, 0.79362464, 0.28510118, 0.33663034,\n",
              "        0.58188868, 0.35854721, 0.77383685, 0.63876271, 0.31842589,\n",
              "        0.61529064, 0.34433293, 0.34512091, 0.66590476, 0.27160978,\n",
              "        0.37504268, 0.44672227, 0.54990482, 0.80177832, 0.50403476,\n",
              "        0.36300731, 0.37657952, 0.33677244, 0.86945891, 0.58113194,\n",
              "        0.36459517, 0.40877151, 0.48736978, 0.7517252 , 0.63749504,\n",
              "        0.39049554, 0.28750396, 0.51339149, 0.51698518, 0.58114767,\n",
              "        0.59354234, 0.76244283, 0.32126927, 0.6859107 , 0.45351744,\n",
              "        0.53487659, 0.91320372, 0.318115  , 0.62557244, 0.43272257,\n",
              "        0.81940079, 0.96162248, 0.5292871 , 0.76003766, 0.45061231,\n",
              "        0.51902747, 0.31765032, 0.74299598, 0.43285441, 0.32394385,\n",
              "        0.27605009, 0.44970727, 0.88301516, 0.37630177, 0.45719123,\n",
              "        0.58448434, 0.53753877, 0.47905731, 0.41876292, 0.48287606,\n",
              "        0.74300957, 0.58428264, 0.78696656, 0.45074487, 0.45630956,\n",
              "        0.48698664, 0.31350684, 0.2222333 , 0.52514434, 0.81608701,\n",
              "        0.3995142 , 0.49290252, 0.61018038, 0.34834599, 0.48711371,\n",
              "        0.6998775 , 0.60717869, 0.6701777 , 0.37912369, 0.58291483,\n",
              "        0.43760419, 0.65302491, 0.32614493, 0.58419752, 0.63042569,\n",
              "        0.79652929, 0.44585919, 0.22344303, 0.42647982, 0.49062347,\n",
              "        0.65322161, 0.82163143, 0.52320147, 0.25593996, 1.12474179,\n",
              "        0.63827324, 0.50724578, 0.55400062, 0.51856279, 0.65297413,\n",
              "        0.66208053, 0.43304563, 0.23365855, 0.34570003, 0.4850049 ,\n",
              "        0.47705674, 1.07978463, 0.38413477, 0.57965326, 0.3713243 ,\n",
              "        1.15701604, 0.40191793, 0.52395749, 0.38659143, 0.2752676 ,\n",
              "        0.55092549, 0.50716329, 0.60009193, 0.31609607, 0.40175223,\n",
              "        0.60426354, 0.29435539, 0.53014159, 0.4327333 , 0.6035347 ,\n",
              "        0.4711051 , 0.48364639, 0.56647515, 0.74009562, 0.57246828,\n",
              "        0.57656479, 0.71011925, 0.61474419, 0.30827212, 0.7860899 ,\n",
              "        0.70473886, 0.77813935, 0.52721   , 0.4102335 , 0.34835982,\n",
              "        0.48576307, 0.54093051, 0.20164418, 0.35919905, 0.58293724,\n",
              "        0.52250409, 0.28016949, 0.45187902, 0.5826118 , 0.38804698,\n",
              "        0.36516762, 0.358845  , 0.51690149, 0.55753875, 0.72313428,\n",
              "        0.4114728 , 0.71143174, 0.31653929, 0.44437814, 0.3955555 ,\n",
              "        0.51972413, 0.84115195, 0.88952613, 0.57582664, 0.94861221,\n",
              "        0.37759829, 0.62853074, 0.41054273, 0.5651648 , 0.45178437,\n",
              "        0.50845838, 0.82824302, 0.4329114 , 0.39743686, 0.50430322,\n",
              "        0.49846435, 0.81830645, 0.62488556, 0.35319281, 0.58175421,\n",
              "        0.81045413, 0.3720026 , 0.63331628, 0.3690033 , 0.48584533,\n",
              "        0.68606615, 0.42424464, 0.66132116, 0.65941644, 0.57386398,\n",
              "        0.55776572, 0.54172516, 0.83696222, 0.61367917, 0.36232948,\n",
              "        0.57412362, 0.44654036, 0.36552191, 0.5793097 , 0.42903495,\n",
              "        0.64331198, 0.35192633, 0.4815681 , 0.95585203, 0.40600443,\n",
              "        0.757622  , 0.59314513, 0.47638726, 0.36811423, 0.57383251,\n",
              "        0.55603385, 0.84980631, 0.51326251, 0.75373459, 0.60654116,\n",
              "        0.67006731, 0.7891593 , 1.09957576, 0.41989374, 0.58828139,\n",
              "        0.30283904, 0.39607906, 0.79850245, 0.39461923, 0.60295582,\n",
              "        0.32264566, 0.81453824, 0.3916893 , 0.51440287, 0.33571982,\n",
              "        0.61368871, 0.6990397 , 0.58144045, 0.60375071, 0.76871324,\n",
              "        0.54824114, 0.37054133, 0.77101135, 0.41290736, 0.38222218,\n",
              "        0.37738514, 0.51403356, 0.6658864 , 0.42597818, 0.46529746,\n",
              "        0.64859414, 0.52465367, 0.55632067, 0.38846588, 0.35534501,\n",
              "        0.50665665, 0.58640051, 0.51121259, 0.6103003 , 1.02684212,\n",
              "        0.36715865, 0.36455536, 0.68862486, 0.49545121, 0.47829676,\n",
              "        0.48890233, 0.85920715, 0.45875144, 0.32949948, 0.93869472,\n",
              "        0.20742774, 0.83902097, 0.39910412, 0.40120578, 0.27987909,\n",
              "        0.4563489 , 0.23805737, 0.36699533, 0.41246176, 0.94769096,\n",
              "        0.62337041, 0.32270527, 0.62272   , 0.47102833, 0.33640313,\n",
              "        0.48015451, 0.54525113, 0.48414564, 0.51119924, 0.51721931,\n",
              "        0.6146183 , 0.50209904, 0.58503795, 1.02611566, 0.82386541,\n",
              "        0.44320989, 0.37024522, 0.45910668, 0.60975289, 0.78633785,\n",
              "        0.50726032, 0.68231583, 0.72643685, 0.83672976, 0.41132927,\n",
              "        0.747087  , 0.51889062, 0.41140413, 0.72320008, 0.40484166,\n",
              "        0.5789361 , 0.32603383, 0.53394628, 0.47287273, 0.83783364,\n",
              "        0.30156922, 0.3062048 , 0.40666151, 0.45125151, 0.63873982,\n",
              "        0.84353399, 0.43153334, 0.54237986, 0.54315186, 0.3930707 ,\n",
              "        0.300174  , 0.30096841, 0.56421208, 0.22618556, 0.36186337,\n",
              "        0.72776031, 0.57816386, 0.60814548, 0.4020195 , 0.46332026,\n",
              "        0.80628562, 0.42954516, 0.28061485, 0.27496362, 0.4184463 ,\n",
              "        0.45714927, 0.56734157, 0.40386915, 0.53999138, 0.64532804,\n",
              "        0.29413414, 0.55473399, 0.76202512, 0.60723305, 0.39146137,\n",
              "        0.33836532, 0.29274535, 0.59473848, 0.57263041, 0.41397524,\n",
              "        0.32373953, 0.80370879, 0.42975259, 0.7379868 , 0.39132285,\n",
              "        0.45227957, 0.69097471, 0.64816761, 0.39480519, 0.50757074,\n",
              "        0.45096517, 0.52371192, 0.53569603, 0.74859571, 0.98213911,\n",
              "        0.37326121, 0.4943378 , 0.48400664, 0.65754247, 0.53834081,\n",
              "        0.51799226, 0.72052622, 0.22660255, 0.69440556, 0.51836038,\n",
              "        0.51036859, 0.53881288, 0.31809711, 0.4009378 , 0.45382452,\n",
              "        0.70778275, 0.46324801, 0.45301414, 0.84347796, 0.42854643,\n",
              "        0.35170913, 0.28179812, 0.31604886, 0.53177524, 0.32427716,\n",
              "        0.35841894, 0.65761018, 0.77599001, 0.59057784, 0.4599452 ,\n",
              "        0.86541677, 0.47462511, 0.80108285, 0.53221822, 0.4056952 ,\n",
              "        0.7839191 , 0.31946039, 0.57748342, 0.6855619 , 0.62441111,\n",
              "        0.76159143, 0.41749024, 0.62022495, 0.82145119, 0.34571433,\n",
              "        0.80670834, 0.39051294, 0.73645687, 0.71373177, 0.44044161,\n",
              "        0.40376782, 0.53014636, 0.82236028, 0.37135434, 0.51167321,\n",
              "        0.66738033, 0.36727262, 0.42841434, 0.43093872, 0.44221544,\n",
              "        0.23413134, 0.63446808, 0.57972479, 0.579638  , 0.55017614,\n",
              "        0.53612185, 0.93436575, 0.55242586, 0.6912055 , 1.28734636,\n",
              "        0.51051927, 0.71795726, 0.37379241, 0.39542937, 0.64220238,\n",
              "        0.33699799, 0.2359314 , 0.63170695, 0.73142362, 0.47223353,\n",
              "        0.76039505, 0.41986728, 0.46155977, 0.60200787, 0.92982197,\n",
              "        0.26553702, 0.48456883, 0.37998772, 0.50589681, 0.55162406,\n",
              "        0.36999202, 0.49220157, 0.73435855, 1.03375244, 0.34545231,\n",
              "        0.33095121, 0.64204907, 0.35090423, 0.45148826, 0.60115027,\n",
              "        0.41515326, 0.78160596, 0.3228879 , 0.51112199, 0.53169727,\n",
              "        0.49424529, 0.46933174, 0.54450274, 0.61297655, 0.43367863,\n",
              "        0.67642951, 0.552526  , 0.29839158, 0.78022265, 0.62317753,\n",
              "        0.43497562, 0.50972629, 0.3564024 , 0.60333753, 0.17442465,\n",
              "        0.70997691, 0.39761496, 0.55306411, 0.61974955, 0.7091701 ,\n",
              "        0.3413713 , 0.58143234, 0.47759795, 0.55590916, 0.44362569,\n",
              "        0.48174095, 0.55872869, 0.6556325 , 0.72156549, 0.4990828 ,\n",
              "        0.29871607, 0.35613251, 0.80946875, 0.57515359, 0.42662764,\n",
              "        0.37072873, 0.85095215, 0.73688889, 0.62953115, 0.23595142,\n",
              "        0.2429781 , 0.49032807, 0.26016021, 0.57767868, 0.55086565,\n",
              "        0.45491219, 0.34825563, 0.54997206, 0.48348331, 0.74739695,\n",
              "        0.35211182, 0.51205397, 0.23730636, 0.41196346, 0.48721147,\n",
              "        0.52189875, 0.56460595, 0.50578856, 0.74539375, 0.46071792,\n",
              "        0.32270408, 0.77081609, 0.49708009, 0.3762176 , 1.24180746,\n",
              "        0.30160213, 0.59296656, 0.31843948, 0.4151051 , 0.31508183,\n",
              "        0.59345698, 0.54612207, 0.47652817, 0.69068432, 0.36810923,\n",
              "        0.31178784, 0.33166957, 0.29429221, 0.52443743, 0.54543948,\n",
              "        0.47570562, 0.43941259, 0.41519666, 0.49493432, 0.37337613,\n",
              "        0.4069736 , 0.65724206, 0.54626393, 0.59247804, 0.7882421 ,\n",
              "        0.58421588, 0.47101426, 0.48660088, 0.46176243, 0.41697764,\n",
              "        0.8915658 , 0.70564985, 0.66811252, 0.91220713, 0.75210834,\n",
              "        0.59172344, 0.78621912, 0.41373825, 0.47757554, 0.38958597,\n",
              "        0.70128775, 0.75046563, 0.40004468, 0.50450706, 0.85968184,\n",
              "        0.66179228, 0.33289194, 0.52394819, 0.68144369, 0.42153406,\n",
              "        0.4801333 , 0.60347009, 0.60092258, 0.50872135, 0.63495231,\n",
              "        0.43697   , 0.3893857 , 0.34328723, 0.80041075, 0.73771739,\n",
              "        0.28591013, 0.41222501, 0.46573043, 0.5704031 , 0.3596046 ,\n",
              "        0.46487951, 0.53636932, 0.29371238, 0.45090342, 0.40627718,\n",
              "        0.69871783, 0.4582994 , 0.65468812, 0.75919294, 0.69420433,\n",
              "        0.39028382, 0.69189835, 0.40084052, 0.55210781, 0.72627735,\n",
              "        0.62136626, 0.3919282 , 0.43359661, 0.48975492, 0.42805481,\n",
              "        0.68893671, 0.67466474, 0.48298335, 0.55656099, 0.48620486,\n",
              "        0.36345315, 0.46023846, 0.51873755, 0.579036  , 0.21142721,\n",
              "        0.59287071, 0.83729005, 0.43021917, 0.51026344, 0.43831301,\n",
              "        0.67236567, 0.822088  , 0.49384975, 0.54428434, 0.59675431,\n",
              "        0.44105816, 0.33482552, 0.60234952, 0.95372653, 0.35812831,\n",
              "        0.47181702, 0.55970407, 0.34447694, 0.27249336, 0.44144297,\n",
              "        0.39415526, 0.42946243, 0.29395342, 0.37911987, 0.72557902,\n",
              "        0.48690414, 0.62387252, 0.49790072, 0.44145322, 0.55088019,\n",
              "        0.63642859, 0.46173215, 0.55868459]),\n",
              " 'score_time': array([0.0022521 , 0.00213242, 0.00185061, 0.00210023, 0.00189686,\n",
              "        0.00190091, 0.00186419, 0.00199604, 0.0019002 , 0.00188684,\n",
              "        0.00198293, 0.0019033 , 0.00194144, 0.00230956, 0.00183153,\n",
              "        0.00185657, 0.00189066, 0.00192356, 0.00184727, 0.00194263,\n",
              "        0.00189567, 0.00193834, 0.00193548, 0.00187683, 0.00189614,\n",
              "        0.00191307, 0.00186348, 0.00189257, 0.00202179, 0.00188804,\n",
              "        0.00190639, 0.00189447, 0.00189805, 0.00186038, 0.00188351,\n",
              "        0.00186706, 0.00184655, 0.00221753, 0.00190663, 0.00185227,\n",
              "        0.00190568, 0.00188375, 0.00198698, 0.00186658, 0.00192428,\n",
              "        0.00186229, 0.00196075, 0.00190401, 0.00187373, 0.00238132,\n",
              "        0.00190091, 0.00185895, 0.00188065, 0.00185132, 0.001966  ,\n",
              "        0.00191355, 0.00187945, 0.00190568, 0.0018754 , 0.00183582,\n",
              "        0.00192475, 0.00186753, 0.00191283, 0.00185776, 0.00192547,\n",
              "        0.00193334, 0.00192213, 0.00188446, 0.00186777, 0.00193739,\n",
              "        0.00189161, 0.00185132, 0.00189304, 0.00188589, 0.00188184,\n",
              "        0.00184321, 0.00184202, 0.00186229, 0.00200844, 0.00210381,\n",
              "        0.00194335, 0.00208807, 0.00193763, 0.00184894, 0.00188375,\n",
              "        0.00192714, 0.0021193 , 0.00183344, 0.00193381, 0.00189424,\n",
              "        0.00191402, 0.00192595, 0.00184131, 0.00184274, 0.00185394,\n",
              "        0.0018661 , 0.00192428, 0.00212383, 0.00191498, 0.00187612,\n",
              "        0.00189924, 0.00194001, 0.00183272, 0.00182772, 0.00189853,\n",
              "        0.00186849, 0.00193191, 0.00184655, 0.0019362 , 0.00186825,\n",
              "        0.00190234, 0.00184178, 0.00226545, 0.00193763, 0.00186849,\n",
              "        0.00188017, 0.0018959 , 0.0019846 , 0.00195193, 0.00187469,\n",
              "        0.0018661 , 0.00183773, 0.00186205, 0.00187898, 0.00192785,\n",
              "        0.00186038, 0.00219584, 0.00188613, 0.00187135, 0.00190592,\n",
              "        0.00192547, 0.00195575, 0.00190401, 0.00192976, 0.00190616,\n",
              "        0.00187755, 0.00190926, 0.00198007, 0.00198674, 0.00200224,\n",
              "        0.00189829, 0.00196505, 0.00216269, 0.00186467, 0.00197434,\n",
              "        0.00254011, 0.00200033, 0.00203896, 0.00189042, 0.00185347,\n",
              "        0.00191259, 0.00192952, 0.00190997, 0.00190473, 0.00188351,\n",
              "        0.00187612, 0.00189185, 0.00188184, 0.00185633, 0.00185108,\n",
              "        0.00189352, 0.00191355, 0.00185156, 0.00184441, 0.0018487 ,\n",
              "        0.00189185, 0.00186253, 0.00194597, 0.00192332, 0.00193501,\n",
              "        0.00207472, 0.00188541, 0.00184798, 0.00183153, 0.00186849,\n",
              "        0.00189066, 0.00190139, 0.0019114 , 0.00186777, 0.00202203,\n",
              "        0.00191736, 0.00211954, 0.00183249, 0.00185061, 0.00186133,\n",
              "        0.00188589, 0.00190306, 0.00190091, 0.00184703, 0.00190949,\n",
              "        0.00182915, 0.00183725, 0.00185943, 0.00202489, 0.00184894,\n",
              "        0.00189805, 0.00190258, 0.00188041, 0.00188851, 0.00192261,\n",
              "        0.00189424, 0.00188184, 0.0018754 , 0.00182366, 0.00183272,\n",
              "        0.00185418, 0.00195336, 0.00192118, 0.00182676, 0.00188732,\n",
              "        0.00186157, 0.00186396, 0.00188136, 0.00184464, 0.00185919,\n",
              "        0.00186133, 0.00197959, 0.00185823, 0.0017848 , 0.00181246,\n",
              "        0.00182319, 0.00185847, 0.00189519, 0.0019114 , 0.00187993,\n",
              "        0.00192761, 0.00187755, 0.00187516, 0.00187755, 0.00191355,\n",
              "        0.00192976, 0.00188756, 0.00189757, 0.00185847, 0.002002  ,\n",
              "        0.00190449, 0.00183749, 0.00191951, 0.00195122, 0.00185084,\n",
              "        0.00191402, 0.00189567, 0.00206137, 0.0018568 , 0.00187492,\n",
              "        0.00189877, 0.00183916, 0.00209284, 0.00190711, 0.0018971 ,\n",
              "        0.00179124, 0.00186133, 0.00185227, 0.00188661, 0.00194192,\n",
              "        0.00182891, 0.00194144, 0.00189018, 0.00195408, 0.00187898,\n",
              "        0.00210643, 0.0017879 , 0.00223184, 0.00191832, 0.00184822,\n",
              "        0.00185466, 0.00185084, 0.00186181, 0.00187135, 0.00189519,\n",
              "        0.00189686, 0.00194597, 0.00186181, 0.00191712, 0.00199056,\n",
              "        0.0019021 , 0.00190973, 0.00190997, 0.00184417, 0.00189734,\n",
              "        0.00187683, 0.00199223, 0.00189614, 0.0019083 , 0.00189471,\n",
              "        0.00191045, 0.00197339, 0.0020113 , 0.00190639, 0.0019815 ,\n",
              "        0.00350499, 0.00199127, 0.00195312, 0.00208211, 0.00190139,\n",
              "        0.00196362, 0.00218582, 0.00186324, 0.00188279, 0.00196147,\n",
              "        0.00189805, 0.00189471, 0.00194383, 0.00190306, 0.00196981,\n",
              "        0.00186586, 0.00207186, 0.00181484, 0.00192165, 0.00188279,\n",
              "        0.00192738, 0.00185299, 0.00189829, 0.00194359, 0.00220346,\n",
              "        0.00188398, 0.00187492, 0.00195503, 0.00189257, 0.0019381 ,\n",
              "        0.00189686, 0.00189114, 0.00214648, 0.00195289, 0.00188351,\n",
              "        0.00189209, 0.00188851, 0.00184202, 0.00190568, 0.00189638,\n",
              "        0.00192046, 0.00186801, 0.00189829, 0.00186849, 0.00187635,\n",
              "        0.00188065, 0.00187731, 0.00193453, 0.00191498, 0.00190854,\n",
              "        0.00189829, 0.00190902, 0.00188708, 0.00191283, 0.00198221,\n",
              "        0.00190401, 0.00185847, 0.00183821, 0.00189328, 0.00188613,\n",
              "        0.00185537, 0.00209785, 0.0019145 , 0.00191474, 0.00188088,\n",
              "        0.00187755, 0.00187278, 0.00194383, 0.0018723 , 0.00164127,\n",
              "        0.00190258, 0.00190043, 0.00191402, 0.00188851, 0.00186205,\n",
              "        0.00193715, 0.00190258, 0.00184774, 0.00187707, 0.00189424,\n",
              "        0.00188351, 0.00186348, 0.0019784 , 0.00189376, 0.00187564,\n",
              "        0.00187826, 0.0018661 , 0.00189376, 0.00189137, 0.00197434,\n",
              "        0.00185728, 0.0018816 , 0.00189018, 0.00187612, 0.00189424,\n",
              "        0.0019052 , 0.00190997, 0.00186515, 0.0018909 , 0.00186706,\n",
              "        0.0018971 , 0.00174785, 0.00184894, 0.00188255, 0.00183344,\n",
              "        0.00191188, 0.00222993, 0.00187731, 0.00191116, 0.00197697,\n",
              "        0.00188375, 0.00194359, 0.00198674, 0.00191784, 0.00192237,\n",
              "        0.00189471, 0.00191331, 0.00189185, 0.00186229, 0.00190258,\n",
              "        0.00189233, 0.00188112, 0.00187039, 0.00195408, 0.00193381,\n",
              "        0.00197077, 0.00194407, 0.00190306, 0.00199628, 0.00188756,\n",
              "        0.00189233, 0.00185084, 0.00191331, 0.00187421, 0.00187421,\n",
              "        0.00185943, 0.0018599 , 0.00188112, 0.00181365, 0.00190687,\n",
              "        0.00183034, 0.00186014, 0.00187135, 0.00190425, 0.00200415,\n",
              "        0.00221252, 0.00190616, 0.00185633, 0.00187254, 0.00190711,\n",
              "        0.00179935, 0.00188541, 0.00196981, 0.00187325, 0.00188708,\n",
              "        0.00186968, 0.00188017, 0.0019331 , 0.00191545, 0.00205278,\n",
              "        0.00187278, 0.00189114, 0.00188041, 0.00188756, 0.00183225,\n",
              "        0.00188684, 0.00189424, 0.00185823, 0.00194883, 0.00189185,\n",
              "        0.00191569, 0.00185704, 0.00187945, 0.00187111, 0.00185418,\n",
              "        0.00193357, 0.00184178, 0.00184202, 0.00187302, 0.00195456,\n",
              "        0.00191593, 0.00187778, 0.00245166, 0.00189805, 0.0018816 ,\n",
              "        0.00192189, 0.00186753, 0.00187016, 0.00197363, 0.00190902,\n",
              "        0.00193071, 0.00188971, 0.0018332 , 0.00190544, 0.00192761,\n",
              "        0.00193024, 0.00195003, 0.00193429, 0.00190473, 0.00181699,\n",
              "        0.00189185, 0.00185037, 0.00188541, 0.00184917, 0.00187349,\n",
              "        0.0018847 , 0.00189471, 0.00192237, 0.00188541, 0.0019052 ,\n",
              "        0.00190568, 0.00191784, 0.0018847 , 0.001894  , 0.00201035,\n",
              "        0.00197029, 0.00189376, 0.00189304, 0.00190067, 0.00189972,\n",
              "        0.00193286, 0.00192738, 0.00193024, 0.00214148, 0.00181913,\n",
              "        0.00193834, 0.0018909 , 0.00193691, 0.00192571, 0.00195837,\n",
              "        0.00202417, 0.00183678, 0.00186801, 0.00186419, 0.00201321,\n",
              "        0.00237703, 0.00196147, 0.00176454, 0.00191689, 0.00185442,\n",
              "        0.00183225, 0.00182724, 0.00194526, 0.00189257, 0.00188828,\n",
              "        0.0018692 , 0.002033  , 0.00189543, 0.00191021, 0.00186515,\n",
              "        0.00186419, 0.00185537, 0.00187683, 0.00188851, 0.00190949,\n",
              "        0.00185227, 0.0019803 , 0.00185037, 0.00187635, 0.00186086,\n",
              "        0.00185728, 0.00188804, 0.00186586, 0.00188899, 0.00185752,\n",
              "        0.00183892, 0.00182271, 0.00185728, 0.00185823, 0.00183558,\n",
              "        0.00187349, 0.00188184, 0.00192714, 0.00188804, 0.00182772,\n",
              "        0.00187421, 0.00187421, 0.00187349, 0.00185323, 0.00187182,\n",
              "        0.00187492, 0.00194192, 0.00190282, 0.0019052 , 0.00187016,\n",
              "        0.00186634, 0.00188637, 0.00194907, 0.00182033, 0.00190115,\n",
              "        0.00187039, 0.00189161, 0.00184035, 0.00185871, 0.00189686,\n",
              "        0.00190473, 0.00182199, 0.00185847, 0.00185847, 0.00185156,\n",
              "        0.0020287 , 0.0019207 , 0.0020268 , 0.00185609, 0.00187349,\n",
              "        0.00184798, 0.00189471, 0.00189161, 0.00193   , 0.00185871,\n",
              "        0.00200939, 0.00204635, 0.00193596, 0.00195813, 0.00193071,\n",
              "        0.00188637, 0.00196433, 0.00194955, 0.00190067, 0.00200605,\n",
              "        0.00200605, 0.00197983, 0.00188994, 0.00197911, 0.00184584,\n",
              "        0.00179458, 0.00192261, 0.00197601, 0.00193095, 0.00190902,\n",
              "        0.00186253, 0.00190282, 0.00191951, 0.00189447, 0.00187635,\n",
              "        0.00190258, 0.00185704, 0.00187182, 0.00189924, 0.00188875,\n",
              "        0.00195384, 0.00187516, 0.00186443, 0.00191617, 0.00190258,\n",
              "        0.00189185, 0.00189352, 0.00189996, 0.0018599 , 0.00183439,\n",
              "        0.00190258, 0.00181746, 0.00182748, 0.00191879, 0.00182486,\n",
              "        0.00184822, 0.00178695, 0.00188422, 0.00183582, 0.00190091,\n",
              "        0.00190926, 0.00183749, 0.00185394, 0.00192928, 0.00188136,\n",
              "        0.0018661 , 0.00188541, 0.00183654, 0.00188351, 0.00181484,\n",
              "        0.0018754 , 0.00193262, 0.00195646, 0.00190067, 0.00179839,\n",
              "        0.00194263, 0.00181627, 0.00192809, 0.00186801, 0.00188351,\n",
              "        0.001827  , 0.00196314, 0.00185251, 0.0018971 , 0.00203919,\n",
              "        0.00184155, 0.00182533, 0.00182438, 0.00190806, 0.00186586,\n",
              "        0.00188351, 0.00187087, 0.00185251, 0.00205302, 0.00192142,\n",
              "        0.00185585, 0.00185657, 0.00184226, 0.00189209, 0.00191665,\n",
              "        0.00183082, 0.00184202, 0.00190187, 0.00191522, 0.00189519,\n",
              "        0.00196171, 0.00185966, 0.00188184, 0.00184083, 0.00188732,\n",
              "        0.00184417, 0.00193524, 0.00190139, 0.00195241, 0.00195026,\n",
              "        0.00196767, 0.00189567, 0.00188065, 0.00193119, 0.00186682,\n",
              "        0.00186706, 0.00186396, 0.00189233, 0.00197244, 0.00198317,\n",
              "        0.00205421, 0.00368309, 0.00198579, 0.00190759, 0.00187826,\n",
              "        0.00188923, 0.002033  , 0.0020349 , 0.00193262, 0.0034976 ,\n",
              "        0.00190973, 0.00188184, 0.00201344, 0.00186515, 0.00200725,\n",
              "        0.00182581, 0.0018816 , 0.00188589, 0.00191307, 0.00190568,\n",
              "        0.00185728, 0.00185585, 0.00187302, 0.00194407, 0.00188899,\n",
              "        0.00190401, 0.00201011, 0.0019145 , 0.00190663, 0.00183392,\n",
              "        0.0018549 , 0.00179386, 0.00183797, 0.00190663, 0.0019269 ,\n",
              "        0.00191998, 0.00191212, 0.00186443, 0.00179815, 0.00178361,\n",
              "        0.00189757, 0.0018177 , 0.00186658, 0.0018599 , 0.00183272,\n",
              "        0.00187159, 0.00192571, 0.00188637, 0.00186777, 0.0018599 ,\n",
              "        0.00183249, 0.00195479, 0.00186992]),\n",
              " 'test_accuracy': array([0., 1., 1., 1., 1., 1., 0., 0., 1., 0., 1., 1., 0., 0., 1., 0., 0.,\n",
              "        0., 0., 0., 1., 1., 0., 0., 1., 0., 1., 1., 1., 1., 0., 0., 1., 1.,\n",
              "        0., 1., 0., 0., 0., 0., 1., 0., 1., 0., 0., 1., 0., 1., 0., 1., 1.,\n",
              "        1., 1., 0., 0., 1., 1., 1., 0., 1., 1., 1., 1., 0., 1., 1., 0., 1.,\n",
              "        1., 1., 0., 0., 0., 1., 1., 0., 1., 1., 1., 1., 0., 1., 1., 1., 0.,\n",
              "        1., 1., 1., 1., 1., 1., 1., 1., 0., 1., 1., 1., 1., 0., 0., 1., 0.,\n",
              "        1., 1., 1., 1., 1., 0., 1., 0., 0., 1., 1., 1., 1., 0., 1., 0., 1.,\n",
              "        1., 0., 0., 1., 1., 0., 1., 1., 1., 0., 0., 1., 1., 1., 1., 1., 1.,\n",
              "        1., 1., 1., 0., 1., 1., 1., 1., 0., 1., 1., 1., 0., 1., 0., 0., 1.,\n",
              "        1., 1., 1., 1., 1., 1., 0., 1., 1., 1., 1., 0., 1., 0., 0., 0., 1.,\n",
              "        0., 0., 0., 1., 1., 1., 1., 0., 0., 1., 1., 1., 1., 1., 0., 1., 1.,\n",
              "        0., 1., 0., 1., 1., 1., 1., 1., 0., 1., 0., 0., 0., 1., 1., 1., 1.,\n",
              "        0., 1., 1., 0., 1., 1., 1., 1., 1., 0., 1., 1., 1., 0., 0., 0., 1.,\n",
              "        0., 1., 0., 1., 1., 1., 1., 0., 1., 0., 0., 1., 1., 1., 1., 0., 1.,\n",
              "        0., 1., 1., 1., 1., 1., 1., 1., 0., 0., 0., 1., 0., 1., 1., 1., 1.,\n",
              "        0., 1., 1., 0., 1., 0., 1., 1., 1., 1., 1., 1., 0., 1., 1., 0., 1.,\n",
              "        1., 1., 1., 1., 1., 1., 1., 1., 0., 0., 1., 1., 0., 0., 0., 0., 1.,\n",
              "        1., 1., 0., 0., 1., 1., 0., 1., 1., 1., 1., 1., 1., 1., 0., 1., 1.,\n",
              "        1., 1., 0., 0., 1., 1., 0., 1., 1., 1., 1., 1., 0., 1., 1., 0., 0.,\n",
              "        0., 1., 1., 0., 0., 0., 1., 0., 1., 1., 1., 1., 0., 1., 0., 1., 1.,\n",
              "        1., 1., 0., 1., 1., 1., 0., 0., 1., 0., 1., 1., 1., 1., 1., 1., 1.,\n",
              "        0., 1., 1., 1., 0., 1., 0., 1., 1., 0., 1., 1., 0., 0., 1., 1., 0.,\n",
              "        0., 1., 1., 1., 1., 1., 1., 1., 1., 1., 1., 1., 0., 0., 0., 1., 1.,\n",
              "        1., 1., 1., 1., 1., 0., 0., 1., 1., 0., 1., 0., 1., 1., 0., 1., 1.,\n",
              "        1., 0., 1., 1., 1., 1., 0., 0., 1., 0., 1., 0., 1., 1., 1., 1., 1.,\n",
              "        1., 1., 1., 1., 0., 0., 1., 1., 1., 1., 1., 0., 1., 1., 1., 0., 1.,\n",
              "        1., 0., 1., 1., 1., 1., 0., 1., 1., 0., 1., 1., 0., 1., 1., 1., 1.,\n",
              "        1., 1., 1., 1., 1., 1., 1., 1., 1., 0., 1., 1., 1., 0., 0., 1., 1.,\n",
              "        0., 1., 1., 1., 0., 1., 1., 1., 1., 0., 0., 0., 1., 0., 1., 1., 1.,\n",
              "        0., 1., 1., 0., 1., 1., 1., 1., 1., 0., 1., 1., 1., 0., 0., 1., 1.,\n",
              "        0., 0., 1., 1., 1., 0., 1., 1., 1., 1., 1., 1., 1., 1., 0., 1., 1.,\n",
              "        1., 1., 1., 0., 1., 1., 1., 1., 1., 1., 1., 1., 0., 0., 1., 0., 1.,\n",
              "        1., 1., 1., 1., 1., 1., 1., 1., 1., 1., 1., 1., 1., 1., 0., 1., 1.,\n",
              "        0., 1., 1., 1., 0., 1., 0., 1., 1., 1., 1., 1., 1., 1., 0., 0., 0.,\n",
              "        0., 1., 0., 0., 0., 1., 1., 1., 1., 1., 1., 1., 0., 1., 1., 1., 0.,\n",
              "        0., 1., 0., 1., 0., 1., 1., 1., 0., 1., 0., 1., 1., 1., 1., 0., 0.,\n",
              "        1., 1., 0., 1., 1., 1., 1., 1., 1., 1., 0., 1., 1., 1., 1., 1., 0.,\n",
              "        1., 1., 1., 1., 1., 0., 0., 1., 1., 0., 1., 1., 1., 0., 1., 1., 1.,\n",
              "        1., 1., 1., 1., 1., 1., 1., 0., 1., 1., 1., 0., 1., 0., 0., 1., 1.,\n",
              "        1., 1., 1., 0., 1., 0., 1., 0., 1., 1., 1., 1., 1., 0., 1., 1., 1.,\n",
              "        1., 0., 1., 0., 1., 1., 1., 1., 1., 0., 1., 0., 1., 1., 1., 0., 0.,\n",
              "        0., 1., 0., 1., 0., 0., 1., 1., 1., 0., 1., 1., 0., 1., 1., 0., 1.,\n",
              "        1., 1., 0., 1., 0., 0., 1., 1., 1., 1., 1., 1., 1., 1., 1., 1., 0.,\n",
              "        0., 0., 0., 1., 1., 1., 1., 1., 0., 1., 0., 1., 0., 0., 1., 0., 1.,\n",
              "        1., 1., 1., 1., 1., 0., 1., 0., 1., 0., 1., 0., 1., 1., 1., 0., 1.,\n",
              "        1., 1., 1.])}"
            ]
          },
          "metadata": {
            "tags": []
          },
          "execution_count": 37
        }
      ]
    },
    {
      "cell_type": "code",
      "metadata": {
        "id": "5VXdvPbqgh6F",
        "outputId": "6d07f8d6-2bd0-4980-910d-316cdacc1a29",
        "colab": {
          "base_uri": "https://localhost:8080/",
          "height": 34
        }
      },
      "source": [
        "cv_results['test_accuracy'].mean()"
      ],
      "execution_count": null,
      "outputs": [
        {
          "output_type": "execute_result",
          "data": {
            "text/plain": [
              "0.6901041666666666"
            ]
          },
          "metadata": {
            "tags": []
          },
          "execution_count": 38
        }
      ]
    },
    {
      "cell_type": "markdown",
      "metadata": {
        "id": "oh7CwmWygh6b"
      },
      "source": [
        "Nous n'avons pas inclus la précision et le rappel dans les métriques ici. Peux-tu penser pourquoi?\n",
        "**<mark> Astuce: </mark> Imaginez la matrice de confusion lorsque le test n'a qu'un seul échantillon**"
      ]
    },
    {
      "cell_type": "markdown",
      "metadata": {
        "id": "Y1GyHfC0gh6j"
      },
      "source": [
        "## 3. Réglage des hyperparamètres\n",
        "Les hyperparamètres sont des éléments importants du modèle ML et peuvent rendre le modèle or ou poubelle. Ici, nous avons discuté de l'une des méthodes de réglage d'hyperparamètres les plus populaires, à savoir l'utilisation de Grid Search CV."
      ]
    },
    {
      "cell_type": "markdown",
      "metadata": {
        "id": "XEHcCWcegh6l"
      },
      "source": [
        "## 3.1 Grid Search CV"
      ]
    },
    {
      "cell_type": "markdown",
      "metadata": {
        "id": "QQwxdMUkgh6m"
      },
      "source": [
        "### 3.1.1 Taux de criminalité - Régression linéaire"
      ]
    },
    {
      "cell_type": "markdown",
      "metadata": {
        "id": "3qVEuJimgh6n"
      },
      "source": [
        "**Variable prédictive: Taux de criminalité (basé sur la régression)**"
      ]
    },
    {
      "cell_type": "code",
      "metadata": {
        "id": "2Wbh15ZTgh6p"
      },
      "source": [
        "from sklearn.model_selection import GridSearchCV"
      ],
      "execution_count": null,
      "outputs": []
    },
    {
      "cell_type": "code",
      "metadata": {
        "id": "NamrnJjOgh6y"
      },
      "source": [
        "crime = pd.read_csv(\"https://raw.githubusercontent.com/dphi-official/ML_Models/master/Performance_Evaluation/Standard%20Metropolitan%20Areas%20Data%20-%20train_data.csv\")\n",
        "train, test = train_test_split(crime)\n",
        "x_train = train.drop('crime_rate', axis = 1)     \n",
        "y_train = train.crime_rate      \n",
        "x_test = test.drop('crime_rate', axis = 1)      \n",
        "y_test = test.crime_rate        "
      ],
      "execution_count": null,
      "outputs": []
    },
    {
      "cell_type": "markdown",
      "metadata": {
        "id": "1DZvhZ0fgh66"
      },
      "source": [
        "Performances sans recherche de grille:"
      ]
    },
    {
      "cell_type": "code",
      "metadata": {
        "id": "_TjevVRegh67"
      },
      "source": [
        "from sklearn.linear_model import LinearRegression\n",
        "lr = LinearRegression()\n",
        "lr.fit(x_train, y_train)\n",
        "y_pred = lr.predict(x_test)"
      ],
      "execution_count": null,
      "outputs": []
    },
    {
      "cell_type": "code",
      "metadata": {
        "id": "u2rzRQoBgh7D",
        "outputId": "a584f903-7c2d-414e-b56d-0e9c3a3b47c1",
        "colab": {
          "base_uri": "https://localhost:8080/",
          "height": 34
        }
      },
      "source": [
        "mean_squared_error(y_test, y_pred, squared=False)"
      ],
      "execution_count": null,
      "outputs": [
        {
          "output_type": "execute_result",
          "data": {
            "text/plain": [
              "11.54960166401792"
            ]
          },
          "metadata": {
            "tags": []
          },
          "execution_count": 42
        }
      ]
    },
    {
      "cell_type": "markdown",
      "metadata": {
        "id": "no8Vw1Qmgh7N"
      },
      "source": [
        "Performances avec la recherche de grille"
      ]
    },
    {
      "cell_type": "markdown",
      "metadata": {
        "id": "2UPswE7Ogh7O"
      },
      "source": [
        "**Étape 1:** Définir un paramètre Espace"
      ]
    },
    {
      "cell_type": "code",
      "metadata": {
        "id": "6084pRAvgh7P"
      },
      "source": [
        "parameters = {'fit_intercept':[True,False], 'normalize':[True,False], 'copy_X':[True, False], 'n_jobs':[-1,1,10,15]}"
      ],
      "execution_count": null,
      "outputs": []
    },
    {
      "cell_type": "markdown",
      "metadata": {
        "id": "KPQl8cdHgh7Y"
      },
      "source": [
        "**Étape 2:** Ajustez le modèle pour trouver les meilleurs hyperparamètres sur les données d'entraînement et sélectionnez le marqueur que vous souhaitez sélectionner pour optimiser"
      ]
    },
    {
      "cell_type": "code",
      "metadata": {
        "id": "TSWCh9rDgh7Z",
        "outputId": "4558aeef-b63e-4db7-9d59-973556c7607e",
        "colab": {
          "base_uri": "https://localhost:8080/",
          "height": 187
        }
      },
      "source": [
        "grid = GridSearchCV(lr,parameters, cv=3)\n",
        "grid.fit(x_train, y_train)"
      ],
      "execution_count": null,
      "outputs": [
        {
          "output_type": "execute_result",
          "data": {
            "text/plain": [
              "GridSearchCV(cv=3, error_score=nan,\n",
              "             estimator=LinearRegression(copy_X=True, fit_intercept=True,\n",
              "                                        n_jobs=None, normalize=False),\n",
              "             iid='deprecated', n_jobs=None,\n",
              "             param_grid={'copy_X': [True, False],\n",
              "                         'fit_intercept': [True, False],\n",
              "                         'n_jobs': [-1, 1, 10, 15],\n",
              "                         'normalize': [True, False]},\n",
              "             pre_dispatch='2*n_jobs', refit=True, return_train_score=False,\n",
              "             scoring=None, verbose=0)"
            ]
          },
          "metadata": {
            "tags": []
          },
          "execution_count": 44
        }
      ]
    },
    {
      "cell_type": "markdown",
      "metadata": {
        "id": "LTdZBb40gh7d"
      },
      "source": [
        "**Étape 3:** Imprimez les meilleurs paramètres obtenus"
      ]
    },
    {
      "cell_type": "code",
      "metadata": {
        "id": "mIonXbIogh7f",
        "outputId": "953dcef0-ce4b-48db-a97e-f0c4d364640e",
        "colab": {
          "base_uri": "https://localhost:8080/",
          "height": 34
        }
      },
      "source": [
        "grid.best_estimator_"
      ],
      "execution_count": null,
      "outputs": [
        {
          "output_type": "execute_result",
          "data": {
            "text/plain": [
              "LinearRegression(copy_X=True, fit_intercept=True, n_jobs=-1, normalize=True)"
            ]
          },
          "metadata": {
            "tags": []
          },
          "execution_count": 45
        }
      ]
    },
    {
      "cell_type": "code",
      "metadata": {
        "id": "-Urv2jtngh7n",
        "outputId": "0c7b237e-3479-44fd-8ef2-59ffe42c5bba",
        "colab": {
          "base_uri": "https://localhost:8080/",
          "height": 34
        }
      },
      "source": [
        "grid_lr = LinearRegression(copy_X=True, fit_intercept=True, n_jobs=-1, normalize=False)\n",
        "grid_lr.fit(x_train, y_train)\n",
        "y_pred= grid_lr.predict(x_test)\n",
        "mean_squared_error(y_test, y_pred, squared=False)"
      ],
      "execution_count": null,
      "outputs": [
        {
          "output_type": "execute_result",
          "data": {
            "text/plain": [
              "11.54960166401792"
            ]
          },
          "metadata": {
            "tags": []
          },
          "execution_count": 46
        }
      ]
    },
    {
      "cell_type": "markdown",
      "metadata": {
        "id": "gwhEjnmGgh7v"
      },
      "source": [
        "**Les performances ne varient pas beaucoup!**\n",
        "\n",
        "Le nombre d'hyperparamètres pour la régression linéaire est très inférieur. Par conséquent, tous donnent des performances similaires (dans cet ensemble de données spécifique)\n",
        "\n",
        "Essayons un autre paramètre dont les performances varient beaucoup!"
      ]
    },
    {
      "cell_type": "markdown",
      "metadata": {
        "id": "1gp-Po0wgh7w"
      },
      "source": [
        "### 3.1.2 Réseau neuronal artificiel\n",
        "Dans la régression linéaire, il n'y a pas beaucoup de paramètres à optimiser, donc les performances peuvent ne pas varier beaucoup. Dans de nombreux autres classificateurs, il existe un certain nombre d'hyper paramètres à régler, alors voyons un exemple de la façon dont les performances sont améliorées à l'aide de la recherche de grille. Nous prenons un exemple de **Réseaux de neurones artificiels.**\n",
        "\n",
        "Vous n'avez pas besoin de comprendre le fonctionnement derrière ANN, donc ce n'est pas grave si vous ne comprenez pas la grille de paramètres en détail. Voyons simplement comment les performances s'améliorent en appliquant Grid Search."
      ]
    },
    {
      "cell_type": "code",
      "metadata": {
        "id": "K28nx24bNTMw"
      },
      "source": [
        "# Use diabetes data\n",
        "x_train, x_test, y_train, y_test = train_test_split(X, y, test_size=0.2, random_state=3)"
      ],
      "execution_count": null,
      "outputs": []
    },
    {
      "cell_type": "markdown",
      "metadata": {
        "id": "U2W1Ei3Ugh7y"
      },
      "source": [
        "**Étape 1:** Définir un paramètre Espace"
      ]
    },
    {
      "cell_type": "code",
      "metadata": {
        "id": "SX_8tDiSgh7z"
      },
      "source": [
        "parameter_space = {\n",
        "    'hidden_layer_sizes': [(50,50,50), (50,100,50), (100,)],\n",
        "    'activation': ['tanh', 'relu'],\n",
        "    'solver': ['sgd', 'adam'],\n",
        "    'alpha': [0.0001, 0.05],\n",
        "    'learning_rate': ['constant','adaptive'],\n",
        "}"
      ],
      "execution_count": null,
      "outputs": []
    },
    {
      "cell_type": "markdown",
      "metadata": {
        "id": "Kcl_8hc6gh79"
      },
      "source": [
        "**Étape 2:** Ajustez le modèle pour trouver les meilleurs hyperparamètres sur les données d'entraînement et sélectionnez le marqueur que vous souhaitez sélectionner pour optimiser"
      ]
    },
    {
      "cell_type": "markdown",
      "metadata": {
        "id": "kc9VN84Ygh7-"
      },
      "source": [
        "<blockquote> <i> Ce code prend beaucoup de temps à s'exécuter, vous pouvez soit ignorer l'exécution de cette partie et voir directement les résultats imprimés, soit attendre 10 à 15 minutes pour que cela s'exécute </blockquote>"
      ]
    },
    {
      "cell_type": "code",
      "metadata": {
        "id": "EBeiT6D1gh7_",
        "outputId": "bba22e1b-6608-4244-a137-82f7fb63041f",
        "colab": {
          "base_uri": "https://localhost:8080/",
          "height": 391
        }
      },
      "source": [
        "mlp_random = GridSearchCV(mlp, parameter_space, scoring = 'accuracy')\n",
        "mlp_random.fit(x_train, y_train)"
      ],
      "execution_count": null,
      "outputs": [
        {
          "output_type": "execute_result",
          "data": {
            "text/plain": [
              "GridSearchCV(cv=None, error_score=nan,\n",
              "             estimator=MLPClassifier(activation='relu', alpha=0.0001,\n",
              "                                     batch_size='auto', beta_1=0.9,\n",
              "                                     beta_2=0.999, early_stopping=False,\n",
              "                                     epsilon=1e-08, hidden_layer_sizes=(100,),\n",
              "                                     learning_rate='constant',\n",
              "                                     learning_rate_init=0.001, max_fun=15000,\n",
              "                                     max_iter=1000, momentum=0.9,\n",
              "                                     n_iter_no_change=10,\n",
              "                                     nesterovs_momentum=True, power_t=0.5,\n",
              "                                     random_s...\n",
              "                                     validation_fraction=0.1, verbose=False,\n",
              "                                     warm_start=False),\n",
              "             iid='deprecated', n_jobs=None,\n",
              "             param_grid={'activation': ['tanh', 'relu'],\n",
              "                         'alpha': [0.0001, 0.05],\n",
              "                         'hidden_layer_sizes': [(50, 50, 50), (50, 100, 50),\n",
              "                                                (100,)],\n",
              "                         'learning_rate': ['constant', 'adaptive'],\n",
              "                         'solver': ['sgd', 'adam']},\n",
              "             pre_dispatch='2*n_jobs', refit=True, return_train_score=False,\n",
              "             scoring='accuracy', verbose=0)"
            ]
          },
          "metadata": {
            "tags": []
          },
          "execution_count": 49
        }
      ]
    },
    {
      "cell_type": "markdown",
      "metadata": {
        "id": "b8f-duE9gh8J"
      },
      "source": [
        "**Étape 3:** Imprimez les meilleurs paramètres obtenus"
      ]
    },
    {
      "cell_type": "code",
      "metadata": {
        "id": "V4bj3qClgh8K",
        "outputId": "e6b40ea5-b403-4d74-f190-2630a7201b64",
        "colab": {
          "base_uri": "https://localhost:8080/",
          "height": 102
        }
      },
      "source": [
        "mlp_random.best_params_"
      ],
      "execution_count": null,
      "outputs": [
        {
          "output_type": "execute_result",
          "data": {
            "text/plain": [
              "{'activation': 'tanh',\n",
              " 'alpha': 0.05,\n",
              " 'hidden_layer_sizes': (100,),\n",
              " 'learning_rate': 'adaptive',\n",
              " 'solver': 'adam'}"
            ]
          },
          "metadata": {
            "tags": []
          },
          "execution_count": 50
        }
      ]
    },
    {
      "cell_type": "markdown",
      "metadata": {
        "id": "tmHmS7Nfgh8S"
      },
      "source": [
        "**Étape 4:** Entraînez votre modèle sur ces paramètres"
      ]
    },
    {
      "cell_type": "code",
      "metadata": {
        "id": "2repqpLogh8U"
      },
      "source": [
        "mlp_grid = MLPClassifier(solver='adam', learning_rate='constant', hidden_layer_sizes=(100,), alpha=0.0001, \n",
        "                         activation='tanh',max_iter=2000)"
      ],
      "execution_count": null,
      "outputs": []
    },
    {
      "cell_type": "code",
      "metadata": {
        "id": "lCXtKB2Ugh8a"
      },
      "source": [
        "mlp_grid.fit(x_train, y_train)\n",
        "y_pred = mlp_grid.predict(x_test)\n",
        "acc_tuned = accuracy_score(y_test, y_pred)"
      ],
      "execution_count": null,
      "outputs": []
    },
    {
      "cell_type": "markdown",
      "metadata": {
        "id": "jZTgmXQogh8e"
      },
      "source": [
        "**Comparaison avec la précision du modèle sans réglage des hyperparamètres**"
      ]
    },
    {
      "cell_type": "code",
      "metadata": {
        "scrolled": true,
        "id": "H-kojEW-gh8f",
        "outputId": "02252993-0d51-4bd8-d2e0-f0b0534a705a",
        "colab": {
          "base_uri": "https://localhost:8080/",
          "height": 51
        }
      },
      "source": [
        "print(\"Accuracy of Tuned model: \",np.round(acc_tuned,3))\n",
        "print(\"Accuracy of non-Tuned model: \",np.round(acc,3))"
      ],
      "execution_count": null,
      "outputs": [
        {
          "output_type": "stream",
          "text": [
            "Accuracy of Tuned model:  0.701\n",
            "Accuracy of non-Tuned model:  0.591\n"
          ],
          "name": "stdout"
        }
      ]
    },
    {
      "cell_type": "markdown",
      "metadata": {
        "id": "HsGwxzNOgh8h"
      },
      "source": [
        "Différence de précision d'environ 5%!\n",
        "En incluant une recherche de grille encore plus exhaustive, nous pouvons encore améliorer les performances"
      ]
    }
  ]
}
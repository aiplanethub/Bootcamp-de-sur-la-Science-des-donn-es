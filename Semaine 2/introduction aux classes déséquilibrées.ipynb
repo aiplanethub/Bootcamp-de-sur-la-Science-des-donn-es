{
  "nbformat": 4,
  "nbformat_minor": 0,
  "metadata": {
    "colab": {
      "name": "Introduction_to_Imbalanced_class_FrenchTranslation.ipynb",
      "provenance": [],
      "collapsed_sections": [],
      "include_colab_link": true
    },
    "kernelspec": {
      "display_name": "Python 3",
      "language": "python",
      "name": "python3"
    },
    "language_info": {
      "codemirror_mode": {
        "name": "ipython",
        "version": 3
      },
      "file_extension": ".py",
      "mimetype": "text/x-python",
      "name": "python",
      "nbconvert_exporter": "python",
      "pygments_lexer": "ipython3",
      "version": "3.7.6"
    }
  },
  "cells": [
    {
      "cell_type": "markdown",
      "metadata": {
        "id": "view-in-github",
        "colab_type": "text"
      },
      "source": [
        "<a href=\"https://colab.research.google.com/github/dphi-official/Bootcamp-de-sur-la-Science-des-donn-es/blob/master/Semaine%202/introduction%20aux%20classes%20d%C3%A9s%C3%A9quilibr%C3%A9es.ipynb\" target=\"_parent\"><img src=\"https://colab.research.google.com/assets/colab-badge.svg\" alt=\"Open In Colab\"/></a>"
      ]
    },
    {
      "cell_type": "markdown",
      "metadata": {
        "id": "jn2WK-EnvdaQ"
      },
      "source": [
        "## Introduction\n",
        "L'ensemble de données utilisé dans ce cahier est de «[IEEE-CIS Fraud Detection](https://www.kaggle.com/c/ieee-fraud-detection/data)». Ce cahier vous présentera le problème de déséquilibre de classe.\n",
        "\n",
        "Lien de l'ensemble de données: [Fraud Dataset](https://drive.google.com/file/d/1q8SYcjOJULdSkETv5S_gd7xNq1GrBHAO/view)\n",
        "\n",
        "#### Problème déséquilibré\n",
        "Les classes déséquilibrées sont un problème courant dans la classification de l'apprentissage automatique où il existe un ratio disproportionné d'observations dans chaque classe. Le déséquilibre de classe peut être trouvé dans de nombreux domaines différents, notamment le diagnostic médical, le filtrage des spams et la détection des fraudes.\n",
        "\n",
        "#### Agenda\n",
        "* Chargement des bibliothèques\n",
        "*  Chargement des données\n",
        "* Obtenir une idée de base sur les données\n",
        "* Valeurs manquantes et traitement des valeurs manquantes\n",
        "* Un encodage à chaud (création de mannequins pour les colonnes catégorielles)\n",
        "* Standardisation / Normalisation\n",
        "* Diviser l'ensemble de données en données de train et de test\n",
        "* Traitement des données déséquilibrées\n",
        "    * Techniques de rééchantillonnage - Suréchantillonner la classe minoritaire\n",
        "    * Techniques de rééchantillonnage - Classe majoritaire sous-échantillonnée\n",
        "    * Générer des échantillons synthétiques"
      ]
    },
    {
      "cell_type": "markdown",
      "metadata": {
        "id": "89IQeG9VuUpM"
      },
      "source": [
        "## Chargement des bibliothèques\n",
        "Toutes les fonctionnalités Python ne sont pas chargées dans notre environnement de travail par défaut (même si elles sont déjà installées dans votre système). Ainsi, nous importons chaque bibliothèque que nous voulons utiliser.\n",
        "\n",
        "En science des données, numpy et pandas sont les bibliothèques les plus couramment utilisées. Numpy est nécessaire pour les calculs tels que les moyennes, les médianes, les racines carrées, etc. Pandas est utilisé pour le traitement des données et les trames de données. Nous avons choisi des noms d'alias pour nos bibliothèques par souci de commodité (numpy -> np et pandas -> pd)."
      ]
    },
    {
      "cell_type": "code",
      "metadata": {
        "id": "L_lWWBjGvNP1"
      },
      "source": [
        "import pandas as pd                  # A fundamental package for linear algebra and multidimensional arrays\n",
        "import numpy as np                   # Data analysis and data manipulating tool\n",
        "import random                        # Library to generate random numbers\n",
        "from collections import Counter      # Collection is a Python module that implements specialized container datatypes providing \n",
        "                                     # alternatives to Python’s general purpose built-in containers, dict, list, set, and tuple.\n",
        "                                     # Counter is a dict subclass for counting hashable objects\n",
        "# Visualization libraries\n",
        "import matplotlib.pyplot as plt\n",
        "import seaborn as sns\n",
        "\n",
        "# To ignore warnings in the notebook\n",
        "import warnings\n",
        "warnings.filterwarnings(\"ignore\")"
      ],
      "execution_count": 1,
      "outputs": []
    },
    {
      "cell_type": "markdown",
      "metadata": {
        "id": "2jIwY1OGvr7A"
      },
      "source": [
        "## Chargement des données\n",
        "Le module Pandas est utilisé pour lire les fichiers. Nous avons nos données au format «.csv». Nous utiliserons la fonction 'read_csv ()' pour charger les données.\n",
        "\n",
        "**Avertissement:** Le chargement des données de fraude prendra du temps."
      ]
    },
    {
      "cell_type": "code",
      "metadata": {
        "id": "G_bYGjBvvkVv"
      },
      "source": [
        "fraud_data = pd.read_csv(\"/content/drive/My Drive/Datasets/fraud_data.csv\")"
      ],
      "execution_count": 4,
      "outputs": []
    },
    {
      "cell_type": "markdown",
      "metadata": {
        "id": "kvyUn8YG8wyC"
      },
      "source": [
        "### Obtenir une idée de base sur les données"
      ]
    },
    {
      "cell_type": "code",
      "metadata": {
        "id": "8CmggKjE8ZUk",
        "colab": {
          "base_uri": "https://localhost:8080/",
          "height": 311
        },
        "outputId": "5b1f5e45-d614-490f-f4ed-889ea813437c"
      },
      "source": [
        "fraud_data.head()"
      ],
      "execution_count": 5,
      "outputs": [
        {
          "output_type": "execute_result",
          "data": {
            "text/html": [
              "<div>\n",
              "<style scoped>\n",
              "    .dataframe tbody tr th:only-of-type {\n",
              "        vertical-align: middle;\n",
              "    }\n",
              "\n",
              "    .dataframe tbody tr th {\n",
              "        vertical-align: top;\n",
              "    }\n",
              "\n",
              "    .dataframe thead th {\n",
              "        text-align: right;\n",
              "    }\n",
              "</style>\n",
              "<table border=\"1\" class=\"dataframe\">\n",
              "  <thead>\n",
              "    <tr style=\"text-align: right;\">\n",
              "      <th></th>\n",
              "      <th>TransactionID</th>\n",
              "      <th>isFraud</th>\n",
              "      <th>TransactionDT</th>\n",
              "      <th>TransactionAmt</th>\n",
              "      <th>ProductCD</th>\n",
              "      <th>card1</th>\n",
              "      <th>card2</th>\n",
              "      <th>card3</th>\n",
              "      <th>card4</th>\n",
              "      <th>card5</th>\n",
              "      <th>card6</th>\n",
              "      <th>addr1</th>\n",
              "      <th>addr2</th>\n",
              "      <th>dist1</th>\n",
              "      <th>dist2</th>\n",
              "      <th>P_emaildomain</th>\n",
              "      <th>R_emaildomain</th>\n",
              "      <th>C1</th>\n",
              "      <th>C2</th>\n",
              "      <th>C3</th>\n",
              "      <th>C4</th>\n",
              "      <th>C5</th>\n",
              "      <th>C6</th>\n",
              "      <th>C7</th>\n",
              "      <th>C8</th>\n",
              "      <th>C9</th>\n",
              "      <th>C10</th>\n",
              "      <th>C11</th>\n",
              "      <th>C12</th>\n",
              "      <th>C13</th>\n",
              "      <th>C14</th>\n",
              "      <th>D1</th>\n",
              "      <th>D2</th>\n",
              "      <th>D3</th>\n",
              "      <th>D4</th>\n",
              "      <th>D5</th>\n",
              "      <th>D6</th>\n",
              "      <th>D7</th>\n",
              "      <th>D8</th>\n",
              "      <th>D9</th>\n",
              "      <th>...</th>\n",
              "      <th>id_01</th>\n",
              "      <th>id_02</th>\n",
              "      <th>id_03</th>\n",
              "      <th>id_04</th>\n",
              "      <th>id_05</th>\n",
              "      <th>id_06</th>\n",
              "      <th>id_07</th>\n",
              "      <th>id_08</th>\n",
              "      <th>id_09</th>\n",
              "      <th>id_10</th>\n",
              "      <th>id_11</th>\n",
              "      <th>id_12</th>\n",
              "      <th>id_13</th>\n",
              "      <th>id_14</th>\n",
              "      <th>id_15</th>\n",
              "      <th>id_16</th>\n",
              "      <th>id_17</th>\n",
              "      <th>id_18</th>\n",
              "      <th>id_19</th>\n",
              "      <th>id_20</th>\n",
              "      <th>id_21</th>\n",
              "      <th>id_22</th>\n",
              "      <th>id_23</th>\n",
              "      <th>id_24</th>\n",
              "      <th>id_25</th>\n",
              "      <th>id_26</th>\n",
              "      <th>id_27</th>\n",
              "      <th>id_28</th>\n",
              "      <th>id_29</th>\n",
              "      <th>id_30</th>\n",
              "      <th>id_31</th>\n",
              "      <th>id_32</th>\n",
              "      <th>id_33</th>\n",
              "      <th>id_34</th>\n",
              "      <th>id_35</th>\n",
              "      <th>id_36</th>\n",
              "      <th>id_37</th>\n",
              "      <th>id_38</th>\n",
              "      <th>DeviceType</th>\n",
              "      <th>DeviceInfo</th>\n",
              "    </tr>\n",
              "  </thead>\n",
              "  <tbody>\n",
              "    <tr>\n",
              "      <th>0</th>\n",
              "      <td>2994681</td>\n",
              "      <td>0</td>\n",
              "      <td>242834</td>\n",
              "      <td>25.000</td>\n",
              "      <td>H</td>\n",
              "      <td>9803</td>\n",
              "      <td>583.0</td>\n",
              "      <td>150.0</td>\n",
              "      <td>visa</td>\n",
              "      <td>226.0</td>\n",
              "      <td>credit</td>\n",
              "      <td>269.0</td>\n",
              "      <td>87.0</td>\n",
              "      <td>NaN</td>\n",
              "      <td>NaN</td>\n",
              "      <td>yahoo.com</td>\n",
              "      <td>NaN</td>\n",
              "      <td>1</td>\n",
              "      <td>1</td>\n",
              "      <td>0</td>\n",
              "      <td>0</td>\n",
              "      <td>0</td>\n",
              "      <td>1</td>\n",
              "      <td>0</td>\n",
              "      <td>1</td>\n",
              "      <td>0</td>\n",
              "      <td>1</td>\n",
              "      <td>1</td>\n",
              "      <td>0</td>\n",
              "      <td>1</td>\n",
              "      <td>1</td>\n",
              "      <td>0.0</td>\n",
              "      <td>NaN</td>\n",
              "      <td>NaN</td>\n",
              "      <td>NaN</td>\n",
              "      <td>NaN</td>\n",
              "      <td>NaN</td>\n",
              "      <td>NaN</td>\n",
              "      <td>7.791666</td>\n",
              "      <td>0.791666</td>\n",
              "      <td>...</td>\n",
              "      <td>0.0</td>\n",
              "      <td>82050.0</td>\n",
              "      <td>0.0</td>\n",
              "      <td>0.0</td>\n",
              "      <td>0.0</td>\n",
              "      <td>0.0</td>\n",
              "      <td>NaN</td>\n",
              "      <td>NaN</td>\n",
              "      <td>0.0</td>\n",
              "      <td>0.0</td>\n",
              "      <td>100.0</td>\n",
              "      <td>NotFound</td>\n",
              "      <td>NaN</td>\n",
              "      <td>-300.0</td>\n",
              "      <td>Found</td>\n",
              "      <td>Found</td>\n",
              "      <td>166.0</td>\n",
              "      <td>NaN</td>\n",
              "      <td>529.0</td>\n",
              "      <td>178.0</td>\n",
              "      <td>NaN</td>\n",
              "      <td>NaN</td>\n",
              "      <td>NaN</td>\n",
              "      <td>NaN</td>\n",
              "      <td>NaN</td>\n",
              "      <td>NaN</td>\n",
              "      <td>NaN</td>\n",
              "      <td>Found</td>\n",
              "      <td>Found</td>\n",
              "      <td>Mac OS X 10.12</td>\n",
              "      <td>firefox 56.0</td>\n",
              "      <td>24.0</td>\n",
              "      <td>1920x1080</td>\n",
              "      <td>match_status:2</td>\n",
              "      <td>T</td>\n",
              "      <td>F</td>\n",
              "      <td>T</td>\n",
              "      <td>T</td>\n",
              "      <td>desktop</td>\n",
              "      <td>rv:56.0</td>\n",
              "    </tr>\n",
              "    <tr>\n",
              "      <th>1</th>\n",
              "      <td>3557242</td>\n",
              "      <td>0</td>\n",
              "      <td>15123000</td>\n",
              "      <td>117.000</td>\n",
              "      <td>W</td>\n",
              "      <td>7919</td>\n",
              "      <td>194.0</td>\n",
              "      <td>150.0</td>\n",
              "      <td>mastercard</td>\n",
              "      <td>166.0</td>\n",
              "      <td>debit</td>\n",
              "      <td>181.0</td>\n",
              "      <td>87.0</td>\n",
              "      <td>483.0</td>\n",
              "      <td>NaN</td>\n",
              "      <td>gmail.com</td>\n",
              "      <td>NaN</td>\n",
              "      <td>1</td>\n",
              "      <td>4</td>\n",
              "      <td>0</td>\n",
              "      <td>0</td>\n",
              "      <td>0</td>\n",
              "      <td>1</td>\n",
              "      <td>0</td>\n",
              "      <td>0</td>\n",
              "      <td>3</td>\n",
              "      <td>0</td>\n",
              "      <td>3</td>\n",
              "      <td>0</td>\n",
              "      <td>4</td>\n",
              "      <td>1</td>\n",
              "      <td>63.0</td>\n",
              "      <td>35.0</td>\n",
              "      <td>1.0</td>\n",
              "      <td>4.0</td>\n",
              "      <td>4.0</td>\n",
              "      <td>NaN</td>\n",
              "      <td>NaN</td>\n",
              "      <td>NaN</td>\n",
              "      <td>NaN</td>\n",
              "      <td>...</td>\n",
              "      <td>NaN</td>\n",
              "      <td>NaN</td>\n",
              "      <td>NaN</td>\n",
              "      <td>NaN</td>\n",
              "      <td>NaN</td>\n",
              "      <td>NaN</td>\n",
              "      <td>NaN</td>\n",
              "      <td>NaN</td>\n",
              "      <td>NaN</td>\n",
              "      <td>NaN</td>\n",
              "      <td>NaN</td>\n",
              "      <td>NaN</td>\n",
              "      <td>NaN</td>\n",
              "      <td>NaN</td>\n",
              "      <td>NaN</td>\n",
              "      <td>NaN</td>\n",
              "      <td>NaN</td>\n",
              "      <td>NaN</td>\n",
              "      <td>NaN</td>\n",
              "      <td>NaN</td>\n",
              "      <td>NaN</td>\n",
              "      <td>NaN</td>\n",
              "      <td>NaN</td>\n",
              "      <td>NaN</td>\n",
              "      <td>NaN</td>\n",
              "      <td>NaN</td>\n",
              "      <td>NaN</td>\n",
              "      <td>NaN</td>\n",
              "      <td>NaN</td>\n",
              "      <td>NaN</td>\n",
              "      <td>NaN</td>\n",
              "      <td>NaN</td>\n",
              "      <td>NaN</td>\n",
              "      <td>NaN</td>\n",
              "      <td>NaN</td>\n",
              "      <td>NaN</td>\n",
              "      <td>NaN</td>\n",
              "      <td>NaN</td>\n",
              "      <td>NaN</td>\n",
              "      <td>NaN</td>\n",
              "    </tr>\n",
              "    <tr>\n",
              "      <th>2</th>\n",
              "      <td>3327470</td>\n",
              "      <td>0</td>\n",
              "      <td>8378575</td>\n",
              "      <td>73.773</td>\n",
              "      <td>C</td>\n",
              "      <td>12778</td>\n",
              "      <td>500.0</td>\n",
              "      <td>185.0</td>\n",
              "      <td>mastercard</td>\n",
              "      <td>224.0</td>\n",
              "      <td>credit</td>\n",
              "      <td>284.0</td>\n",
              "      <td>60.0</td>\n",
              "      <td>NaN</td>\n",
              "      <td>NaN</td>\n",
              "      <td>hotmail.com</td>\n",
              "      <td>hotmail.com</td>\n",
              "      <td>1</td>\n",
              "      <td>3</td>\n",
              "      <td>0</td>\n",
              "      <td>1</td>\n",
              "      <td>0</td>\n",
              "      <td>1</td>\n",
              "      <td>1</td>\n",
              "      <td>0</td>\n",
              "      <td>0</td>\n",
              "      <td>0</td>\n",
              "      <td>2</td>\n",
              "      <td>2</td>\n",
              "      <td>3</td>\n",
              "      <td>1</td>\n",
              "      <td>54.0</td>\n",
              "      <td>54.0</td>\n",
              "      <td>35.0</td>\n",
              "      <td>54.0</td>\n",
              "      <td>35.0</td>\n",
              "      <td>54.0</td>\n",
              "      <td>35.0</td>\n",
              "      <td>NaN</td>\n",
              "      <td>NaN</td>\n",
              "      <td>...</td>\n",
              "      <td>NaN</td>\n",
              "      <td>NaN</td>\n",
              "      <td>NaN</td>\n",
              "      <td>NaN</td>\n",
              "      <td>NaN</td>\n",
              "      <td>NaN</td>\n",
              "      <td>NaN</td>\n",
              "      <td>NaN</td>\n",
              "      <td>NaN</td>\n",
              "      <td>NaN</td>\n",
              "      <td>NaN</td>\n",
              "      <td>NaN</td>\n",
              "      <td>NaN</td>\n",
              "      <td>NaN</td>\n",
              "      <td>NaN</td>\n",
              "      <td>NaN</td>\n",
              "      <td>NaN</td>\n",
              "      <td>NaN</td>\n",
              "      <td>NaN</td>\n",
              "      <td>NaN</td>\n",
              "      <td>NaN</td>\n",
              "      <td>NaN</td>\n",
              "      <td>NaN</td>\n",
              "      <td>NaN</td>\n",
              "      <td>NaN</td>\n",
              "      <td>NaN</td>\n",
              "      <td>NaN</td>\n",
              "      <td>NaN</td>\n",
              "      <td>NaN</td>\n",
              "      <td>NaN</td>\n",
              "      <td>NaN</td>\n",
              "      <td>NaN</td>\n",
              "      <td>NaN</td>\n",
              "      <td>NaN</td>\n",
              "      <td>NaN</td>\n",
              "      <td>NaN</td>\n",
              "      <td>NaN</td>\n",
              "      <td>NaN</td>\n",
              "      <td>NaN</td>\n",
              "      <td>NaN</td>\n",
              "    </tr>\n",
              "    <tr>\n",
              "      <th>3</th>\n",
              "      <td>3118781</td>\n",
              "      <td>0</td>\n",
              "      <td>2607840</td>\n",
              "      <td>400.000</td>\n",
              "      <td>R</td>\n",
              "      <td>12316</td>\n",
              "      <td>548.0</td>\n",
              "      <td>150.0</td>\n",
              "      <td>visa</td>\n",
              "      <td>195.0</td>\n",
              "      <td>credit</td>\n",
              "      <td>441.0</td>\n",
              "      <td>87.0</td>\n",
              "      <td>NaN</td>\n",
              "      <td>371.0</td>\n",
              "      <td>anonymous.com</td>\n",
              "      <td>anonymous.com</td>\n",
              "      <td>1</td>\n",
              "      <td>1</td>\n",
              "      <td>0</td>\n",
              "      <td>1</td>\n",
              "      <td>0</td>\n",
              "      <td>1</td>\n",
              "      <td>0</td>\n",
              "      <td>1</td>\n",
              "      <td>0</td>\n",
              "      <td>1</td>\n",
              "      <td>1</td>\n",
              "      <td>0</td>\n",
              "      <td>1</td>\n",
              "      <td>1</td>\n",
              "      <td>0.0</td>\n",
              "      <td>NaN</td>\n",
              "      <td>NaN</td>\n",
              "      <td>NaN</td>\n",
              "      <td>NaN</td>\n",
              "      <td>NaN</td>\n",
              "      <td>NaN</td>\n",
              "      <td>NaN</td>\n",
              "      <td>NaN</td>\n",
              "      <td>...</td>\n",
              "      <td>-5.0</td>\n",
              "      <td>183599.0</td>\n",
              "      <td>NaN</td>\n",
              "      <td>NaN</td>\n",
              "      <td>6.0</td>\n",
              "      <td>-11.0</td>\n",
              "      <td>NaN</td>\n",
              "      <td>NaN</td>\n",
              "      <td>NaN</td>\n",
              "      <td>NaN</td>\n",
              "      <td>100.0</td>\n",
              "      <td>NotFound</td>\n",
              "      <td>49.0</td>\n",
              "      <td>-300.0</td>\n",
              "      <td>New</td>\n",
              "      <td>NotFound</td>\n",
              "      <td>166.0</td>\n",
              "      <td>15.0</td>\n",
              "      <td>352.0</td>\n",
              "      <td>280.0</td>\n",
              "      <td>NaN</td>\n",
              "      <td>NaN</td>\n",
              "      <td>NaN</td>\n",
              "      <td>NaN</td>\n",
              "      <td>NaN</td>\n",
              "      <td>NaN</td>\n",
              "      <td>NaN</td>\n",
              "      <td>New</td>\n",
              "      <td>NotFound</td>\n",
              "      <td>iOS 10.3.3</td>\n",
              "      <td>mobile safari generic</td>\n",
              "      <td>32.0</td>\n",
              "      <td>1136x640</td>\n",
              "      <td>match_status:2</td>\n",
              "      <td>T</td>\n",
              "      <td>F</td>\n",
              "      <td>T</td>\n",
              "      <td>F</td>\n",
              "      <td>mobile</td>\n",
              "      <td>iOS Device</td>\n",
              "    </tr>\n",
              "    <tr>\n",
              "      <th>4</th>\n",
              "      <td>3459772</td>\n",
              "      <td>0</td>\n",
              "      <td>12226544</td>\n",
              "      <td>31.950</td>\n",
              "      <td>W</td>\n",
              "      <td>9002</td>\n",
              "      <td>453.0</td>\n",
              "      <td>150.0</td>\n",
              "      <td>visa</td>\n",
              "      <td>226.0</td>\n",
              "      <td>debit</td>\n",
              "      <td>264.0</td>\n",
              "      <td>87.0</td>\n",
              "      <td>10.0</td>\n",
              "      <td>NaN</td>\n",
              "      <td>yahoo.com</td>\n",
              "      <td>NaN</td>\n",
              "      <td>3</td>\n",
              "      <td>3</td>\n",
              "      <td>0</td>\n",
              "      <td>0</td>\n",
              "      <td>3</td>\n",
              "      <td>4</td>\n",
              "      <td>0</td>\n",
              "      <td>0</td>\n",
              "      <td>3</td>\n",
              "      <td>0</td>\n",
              "      <td>2</td>\n",
              "      <td>0</td>\n",
              "      <td>33</td>\n",
              "      <td>3</td>\n",
              "      <td>54.0</td>\n",
              "      <td>54.0</td>\n",
              "      <td>15.0</td>\n",
              "      <td>405.0</td>\n",
              "      <td>32.0</td>\n",
              "      <td>NaN</td>\n",
              "      <td>NaN</td>\n",
              "      <td>NaN</td>\n",
              "      <td>NaN</td>\n",
              "      <td>...</td>\n",
              "      <td>NaN</td>\n",
              "      <td>NaN</td>\n",
              "      <td>NaN</td>\n",
              "      <td>NaN</td>\n",
              "      <td>NaN</td>\n",
              "      <td>NaN</td>\n",
              "      <td>NaN</td>\n",
              "      <td>NaN</td>\n",
              "      <td>NaN</td>\n",
              "      <td>NaN</td>\n",
              "      <td>NaN</td>\n",
              "      <td>NaN</td>\n",
              "      <td>NaN</td>\n",
              "      <td>NaN</td>\n",
              "      <td>NaN</td>\n",
              "      <td>NaN</td>\n",
              "      <td>NaN</td>\n",
              "      <td>NaN</td>\n",
              "      <td>NaN</td>\n",
              "      <td>NaN</td>\n",
              "      <td>NaN</td>\n",
              "      <td>NaN</td>\n",
              "      <td>NaN</td>\n",
              "      <td>NaN</td>\n",
              "      <td>NaN</td>\n",
              "      <td>NaN</td>\n",
              "      <td>NaN</td>\n",
              "      <td>NaN</td>\n",
              "      <td>NaN</td>\n",
              "      <td>NaN</td>\n",
              "      <td>NaN</td>\n",
              "      <td>NaN</td>\n",
              "      <td>NaN</td>\n",
              "      <td>NaN</td>\n",
              "      <td>NaN</td>\n",
              "      <td>NaN</td>\n",
              "      <td>NaN</td>\n",
              "      <td>NaN</td>\n",
              "      <td>NaN</td>\n",
              "      <td>NaN</td>\n",
              "    </tr>\n",
              "  </tbody>\n",
              "</table>\n",
              "<p>5 rows × 434 columns</p>\n",
              "</div>"
            ],
            "text/plain": [
              "   TransactionID  isFraud  TransactionDT  ...  id_38 DeviceType  DeviceInfo\n",
              "0        2994681        0         242834  ...      T    desktop     rv:56.0\n",
              "1        3557242        0       15123000  ...    NaN        NaN         NaN\n",
              "2        3327470        0        8378575  ...    NaN        NaN         NaN\n",
              "3        3118781        0        2607840  ...      F     mobile  iOS Device\n",
              "4        3459772        0       12226544  ...    NaN        NaN         NaN\n",
              "\n",
              "[5 rows x 434 columns]"
            ]
          },
          "metadata": {
            "tags": []
          },
          "execution_count": 5
        }
      ]
    },
    {
      "cell_type": "code",
      "metadata": {
        "id": "jwNQSckh83QZ",
        "colab": {
          "base_uri": "https://localhost:8080/"
        },
        "outputId": "729f4faa-3136-47a0-cf38-c9a3f29d266d"
      },
      "source": [
        "fraud_data.info()      # Returns a concise summary of dataset"
      ],
      "execution_count": 6,
      "outputs": [
        {
          "output_type": "stream",
          "text": [
            "<class 'pandas.core.frame.DataFrame'>\n",
            "RangeIndex: 59054 entries, 0 to 59053\n",
            "Columns: 434 entries, TransactionID to DeviceInfo\n",
            "dtypes: float64(385), int64(18), object(31)\n",
            "memory usage: 195.5+ MB\n"
          ],
          "name": "stdout"
        }
      ]
    },
    {
      "cell_type": "markdown",
      "metadata": {
        "id": "6FjL68CPABH7"
      },
      "source": [
        "Il y a 434 colonnes avec 59054 observations."
      ]
    },
    {
      "cell_type": "code",
      "metadata": {
        "id": "GcnguA4n9IsZ",
        "colab": {
          "base_uri": "https://localhost:8080/"
        },
        "outputId": "e5dca7a3-07e0-4478-ae10-5663e34c2acc"
      },
      "source": [
        "# Taking a look at the target variable\n",
        "fraud_data.isFraud.value_counts()       # The value_counts() function is used to get a Series containing counts of unique values."
      ],
      "execution_count": 7,
      "outputs": [
        {
          "output_type": "execute_result",
          "data": {
            "text/plain": [
              "0    57049\n",
              "1     2005\n",
              "Name: isFraud, dtype: int64"
            ]
          },
          "metadata": {
            "tags": []
          },
          "execution_count": 7
        }
      ]
    },
    {
      "cell_type": "markdown",
      "metadata": {
        "id": "1L-PiTGd9d8b"
      },
      "source": [
        "Nous pouvons remarquer que sur 57049 observations / enregistrements, seuls 2005 étaient des opérations de fraude."
      ]
    },
    {
      "cell_type": "code",
      "metadata": {
        "id": "92IJJSUf9cgq",
        "colab": {
          "base_uri": "https://localhost:8080/"
        },
        "outputId": "17684a17-c916-4798-f4c7-e4df5e5effd7"
      },
      "source": [
        "fraud_data.isFraud.value_counts() / len(fraud_data) * 100       # Gets the percentage of unique values in the variable 'isFraud'"
      ],
      "execution_count": 8,
      "outputs": [
        {
          "output_type": "execute_result",
          "data": {
            "text/plain": [
              "0    96.604802\n",
              "1     3.395198\n",
              "Name: isFraud, dtype: float64"
            ]
          },
          "metadata": {
            "tags": []
          },
          "execution_count": 8
        }
      ]
    },
    {
      "cell_type": "code",
      "metadata": {
        "id": "sOl5jgYE9wLg",
        "colab": {
          "base_uri": "https://localhost:8080/",
          "height": 297
        },
        "outputId": "e51ab516-2f1a-4456-98d5-58f9abb7c024"
      },
      "source": [
        "# we can also use countplot form seaborn to plot the above information graphically.\n",
        "sns.countplot(fraud_data.isFraud)"
      ],
      "execution_count": 9,
      "outputs": [
        {
          "output_type": "execute_result",
          "data": {
            "text/plain": [
              "<matplotlib.axes._subplots.AxesSubplot at 0x7f0d0a14b3c8>"
            ]
          },
          "metadata": {
            "tags": []
          },
          "execution_count": 9
        },
        {
          "output_type": "display_data",
          "data": {
            "image/png": "[encoded data removed]",
            "text/plain": [
              "<Figure size 432x288 with 1 Axes>"
            ]
          },
          "metadata": {
            "tags": [],
            "needs_background": "light"
          }
        }
      ]
    },
    {
      "cell_type": "markdown",
      "metadata": {
        "id": "WBTv2idc-l1a"
      },
      "source": [
        "Il n'y a que 3% des données qui sont des fraudes et les 97% restants ne sont pas des fraudes. Il s'agit clairement d'un problème de déséquilibre de classe. Dans ce cahier, nous chercherons à résoudre ce type de problèmes."
      ]
    },
    {
      "cell_type": "markdown",
      "metadata": {
        "id": "zks_JnKq_6tN"
      },
      "source": [
        "### Valeurs manquantes\n",
        "En général, les ensembles de données ont toujours des valeurs manquantes. Peut être effectué lors de la collecte de données ou en raison d'une règle de validation des données."
      ]
    },
    {
      "cell_type": "code",
      "metadata": {
        "id": "EHgTEqHR-Kk2",
        "colab": {
          "base_uri": "https://localhost:8080/"
        },
        "outputId": "cbbedcc0-717c-4282-8450-6b444d3b2bf1"
      },
      "source": [
        "fraud_data.isnull().sum() / len(fraud_data) * 100   # To get percentage of missing data in each column"
      ],
      "execution_count": 10,
      "outputs": [
        {
          "output_type": "execute_result",
          "data": {
            "text/plain": [
              "TransactionID      0.000000\n",
              "isFraud            0.000000\n",
              "TransactionDT      0.000000\n",
              "TransactionAmt     0.000000\n",
              "ProductCD          0.000000\n",
              "                    ...    \n",
              "id_36             75.945745\n",
              "id_37             75.945745\n",
              "id_38             75.945745\n",
              "DeviceType        75.979612\n",
              "DeviceInfo        79.813391\n",
              "Length: 434, dtype: float64"
            ]
          },
          "metadata": {
            "tags": []
          },
          "execution_count": 10
        }
      ]
    },
    {
      "cell_type": "markdown",
      "metadata": {
        "id": "02bqVJEbBxQc"
      },
      "source": [
        "Sur 434 colonnes, 414 ont des valeurs manquantes."
      ]
    },
    {
      "cell_type": "markdown",
      "metadata": {
        "id": "qjdy3vG5BmER"
      },
      "source": [
        "### Traiter les valeurs manquantes\n",
        "* Remplir les valeurs manquantes avec la bonne technique peut changer radicalement nos résultats.\n",
        "* De plus, il n'y a pas de règle fixe pour remplir les valeurs manquantes.\n",
        "* Aucune méthode n'est parfaite pour remplir les valeurs manquantes. Nous devons utiliser notre bon sens, notre logique, ou peut-être avoir besoin de voir ce qui fonctionne pour cet ensemble de données particulier.\n",
        "\n",
        "### Moyens de gérer les valeurs manquantes:\n",
        "\n",
        "**Valeur par défaut:** On peut remplir la valeur manquante par valeur par défaut sur la base de 1) compréhension de la variable, 2) aperçu du contexte / données ou 3) bon sens / logique.\n",
        "\n",
        "**Suppression:** Supposons que dans notre ensemble de données, nous ayons trop de valeurs manquantes dans\n",
        "\n",
        "* Colonne, nous pouvons déposer la colonne\n",
        "* Ligne, laisse tomber la ligne. Habituellement, nous faisons cela pour un ensemble de données suffisamment grand.\n",
        "\n",
        "**Moyenne / Médiane / Mode - Imputation:** Nous remplissons les valeurs manquantes par la moyenne, la médiane ou le mode (c'est-à-dire la valeur maximale actuelle). En général, nous utilisons la moyenne, mais s'il y a des valeurs aberrantes, nous remplissons les valeurs manquantes avec la médiane. Le mode est utilisé pour remplir les valeurs manquantes pour la colonne catégorielle.\n",
        "\n",
        "[Nettoyage des données en Python: le guide ultime](https://towardsdatascience.com/data-cleaning-in-python-the-ultimate-guide-2020-c63b88bf0a0d)"
      ]
    },
    {
      "cell_type": "markdown",
      "metadata": {
        "id": "eZzsrECfAaSV"
      },
      "source": [
        "Éliminez les colonnes avec plus de 20% de valeurs manquantes. Encore une fois, cela est très subjectif et dépend uniquement de la nature de l'ensemble de données et du contexte sous-jacent. Nous ne pouvons pas généraliser cette procédure à tous les ensembles de données."
      ]
    },
    {
      "cell_type": "code",
      "metadata": {
        "id": "qv5kehT_ALOO"
      },
      "source": [
        "fraud_data = fraud_data[fraud_data.columns[fraud_data.isnull().mean() < 0.2]]    # Will keep those columns which has missing values less than 20%"
      ],
      "execution_count": 11,
      "outputs": []
    },
    {
      "cell_type": "markdown",
      "metadata": {
        "id": "ysp1sghyDU1s"
      },
      "source": [
        "Ici, nous allons remplir les valeurs manquantes des variables numériques (ou colonnes) avec la valeur moyenne.\n",
        "\n",
        "**Les variables ne sont rien d'autre que les noms de colonnes. À partir de là, nous commencerons à utiliser les variables au lieu des noms de colonnes ou de colonnes.**"
      ]
    },
    {
      "cell_type": "code",
      "metadata": {
        "id": "KSvRk1xJBAyR"
      },
      "source": [
        "# filling missing values of numerical columns with mean value.\n",
        "num_cols = fraud_data.select_dtypes(include=np.number).columns      # getting all the numerical columns\n",
        "\n",
        "fraud_data[num_cols] = fraud_data[num_cols].fillna(fraud_data[num_cols].mean())   # fills the missing values with mean"
      ],
      "execution_count": 12,
      "outputs": []
    },
    {
      "cell_type": "markdown",
      "metadata": {
        "id": "yK7ANXA5Eoeh"
      },
      "source": [
        "Remplir les valeurs manquantes des variables catégorielles avec mode.\n",
        "Pour ceux qui ne sont pas surveillés, le mode est l'élément maximal d'une variable.\n",
        "\n",
        "Pourquoi le mode pour les variables catégorielles? - Prenons un exemple de variable catégorielle: «Statut social» avec des valeurs: (Pauvre, Niveau de revenu intermédiaire, Riche). Pouvons-nous trouver un moyen de satus social? Non! Donc, il n'est peut-être pas significatif d'aller avec la moyenne dans ce cas car ce n'est pas valide."
      ]
    },
    {
      "cell_type": "code",
      "metadata": {
        "id": "UeUz0v1ZEhAY"
      },
      "source": [
        "cat_cols = fraud_data.select_dtypes(include = 'object').columns    # getting all the categorical columns\n",
        "\n",
        "fraud_data[cat_cols] = fraud_data[cat_cols].fillna(fraud_data[cat_cols].mode().iloc[0])  # fills the missing values with maximum occuring element in the column\n",
        "\n",
        "\"\"\"\n",
        "Explaining above line: (This explanation was given by Julilan Miranda in a group)\n",
        "\n",
        "The above line of code is replacing the missing values in the columns in cat_cols with the mode (most repeated elements) of the non-missing values \n",
        "in the same columns.\n",
        "The .iloc[0] attribute is selecting just the first mode returned, in case they are multiple values with the same highest frequency of occurrence. \n",
        "Please review the documentation for further clarifications on this regard: \n",
        "https://pandas.pydata.org/pandas-docs/stable/reference/api/pandas.DataFrame.mode.html\n",
        "\"\"\""
      ],
      "execution_count": null,
      "outputs": []
    },
    {
      "cell_type": "code",
      "metadata": {
        "id": "ajSX2MhlFbWz",
        "colab": {
          "base_uri": "https://localhost:8080/"
        },
        "outputId": "ebdd1a19-5fdc-43d8-e60b-30c1ae6b8e93"
      },
      "source": [
        "# Let's have a look if there still exist any missing values\n",
        "fraud_data.isnull().sum() / len(fraud_data) * 100"
      ],
      "execution_count": 16,
      "outputs": [
        {
          "output_type": "execute_result",
          "data": {
            "text/plain": [
              "TransactionID     0.0\n",
              "isFraud           0.0\n",
              "TransactionDT     0.0\n",
              "TransactionAmt    0.0\n",
              "ProductCD         0.0\n",
              "                 ... \n",
              "V317              0.0\n",
              "V318              0.0\n",
              "V319              0.0\n",
              "V320              0.0\n",
              "V321              0.0\n",
              "Length: 182, dtype: float64"
            ]
          },
          "metadata": {
            "tags": []
          },
          "execution_count": 16
        }
      ]
    },
    {
      "cell_type": "markdown",
      "metadata": {
        "id": "LW9XOIz6CGBj"
      },
      "source": [
        "Remarquez, maintenant nous n'avons aucune colonne avec une valeur manquante."
      ]
    },
    {
      "cell_type": "markdown",
      "metadata": {
        "id": "qKO21Qg8NSQc"
      },
      "source": [
        "### One Hot Encoding (Création de mannequins pour les colonnes catégorielles)\n",
        "Dans cette stratégie, chaque valeur de catégorie est convertie en une nouvelle colonne et attribuée une valeur 1 ou 0 (notation pour vrai / faux) à la colonne. En Python, il y a une classe 'OneHotEncoder' dans 'sklearn.preprocessing' pour faire cette tâche, mais ici nous utiliserons la fonction pandas 'get_dummies ()'. Ce get_dummies () fait le même travail que celui effectué par le formulaire «OneHotEncoder» sklearn.preprocessing."
      ]
    },
    {
      "cell_type": "markdown",
      "metadata": {
        "id": "Dq1OK7dWlFcx"
      },
      "source": [
        "![alt text](https://dphi.tech/blog/wp-content/uploads/2020/06/ohe.png)"
      ]
    },
    {
      "cell_type": "markdown",
      "metadata": {
        "id": "OvLkunI1pk2p"
      },
      "source": [
        "[Why One-Hot Encode Data in Machine Learning?](https://machinelearningmastery.com/why-one-hot-encode-data-in-machine-learning/)"
      ]
    },
    {
      "cell_type": "code",
      "metadata": {
        "id": "ydD6ZRZrMFFu"
      },
      "source": [
        "fraud_data = pd.get_dummies(fraud_data, columns=cat_cols)    # earlier we have collected all the categorical columns in cat_cols"
      ],
      "execution_count": null,
      "outputs": []
    },
    {
      "cell_type": "code",
      "metadata": {
        "id": "ulgnsjelE3I6",
        "colab": {
          "base_uri": "https://localhost:8080/",
          "height": 261
        },
        "outputId": "4e7db3d6-979b-4b23-d5c1-d882d6ea07dc"
      },
      "source": [
        "fraud_data.head()"
      ],
      "execution_count": 24,
      "outputs": [
        {
          "output_type": "execute_result",
          "data": {
            "text/html": [
              "<div>\n",
              "<style scoped>\n",
              "    .dataframe tbody tr th:only-of-type {\n",
              "        vertical-align: middle;\n",
              "    }\n",
              "\n",
              "    .dataframe tbody tr th {\n",
              "        vertical-align: top;\n",
              "    }\n",
              "\n",
              "    .dataframe thead th {\n",
              "        text-align: right;\n",
              "    }\n",
              "</style>\n",
              "<table border=\"1\" class=\"dataframe\">\n",
              "  <thead>\n",
              "    <tr style=\"text-align: right;\">\n",
              "      <th></th>\n",
              "      <th>TransactionID</th>\n",
              "      <th>isFraud</th>\n",
              "      <th>TransactionDT</th>\n",
              "      <th>TransactionAmt</th>\n",
              "      <th>card1</th>\n",
              "      <th>card2</th>\n",
              "      <th>card3</th>\n",
              "      <th>card5</th>\n",
              "      <th>addr1</th>\n",
              "      <th>addr2</th>\n",
              "      <th>C1</th>\n",
              "      <th>C2</th>\n",
              "      <th>C3</th>\n",
              "      <th>C4</th>\n",
              "      <th>C5</th>\n",
              "      <th>C6</th>\n",
              "      <th>C7</th>\n",
              "      <th>C8</th>\n",
              "      <th>C9</th>\n",
              "      <th>C10</th>\n",
              "      <th>C11</th>\n",
              "      <th>C12</th>\n",
              "      <th>C13</th>\n",
              "      <th>C14</th>\n",
              "      <th>D1</th>\n",
              "      <th>D10</th>\n",
              "      <th>D15</th>\n",
              "      <th>V12</th>\n",
              "      <th>V13</th>\n",
              "      <th>V14</th>\n",
              "      <th>V15</th>\n",
              "      <th>V16</th>\n",
              "      <th>V17</th>\n",
              "      <th>V18</th>\n",
              "      <th>V19</th>\n",
              "      <th>V20</th>\n",
              "      <th>V21</th>\n",
              "      <th>V22</th>\n",
              "      <th>V23</th>\n",
              "      <th>V24</th>\n",
              "      <th>...</th>\n",
              "      <th>P_emaildomain_hotmail.com</th>\n",
              "      <th>P_emaildomain_hotmail.de</th>\n",
              "      <th>P_emaildomain_hotmail.es</th>\n",
              "      <th>P_emaildomain_hotmail.fr</th>\n",
              "      <th>P_emaildomain_icloud.com</th>\n",
              "      <th>P_emaildomain_juno.com</th>\n",
              "      <th>P_emaildomain_live.com</th>\n",
              "      <th>P_emaildomain_live.com.mx</th>\n",
              "      <th>P_emaildomain_live.fr</th>\n",
              "      <th>P_emaildomain_mac.com</th>\n",
              "      <th>P_emaildomain_mail.com</th>\n",
              "      <th>P_emaildomain_me.com</th>\n",
              "      <th>P_emaildomain_msn.com</th>\n",
              "      <th>P_emaildomain_netzero.com</th>\n",
              "      <th>P_emaildomain_netzero.net</th>\n",
              "      <th>P_emaildomain_optonline.net</th>\n",
              "      <th>P_emaildomain_outlook.com</th>\n",
              "      <th>P_emaildomain_outlook.es</th>\n",
              "      <th>P_emaildomain_prodigy.net.mx</th>\n",
              "      <th>P_emaildomain_protonmail.com</th>\n",
              "      <th>P_emaildomain_ptd.net</th>\n",
              "      <th>P_emaildomain_q.com</th>\n",
              "      <th>P_emaildomain_roadrunner.com</th>\n",
              "      <th>P_emaildomain_rocketmail.com</th>\n",
              "      <th>P_emaildomain_sbcglobal.net</th>\n",
              "      <th>P_emaildomain_sc.rr.com</th>\n",
              "      <th>P_emaildomain_servicios-ta.com</th>\n",
              "      <th>P_emaildomain_suddenlink.net</th>\n",
              "      <th>P_emaildomain_twc.com</th>\n",
              "      <th>P_emaildomain_verizon.net</th>\n",
              "      <th>P_emaildomain_web.de</th>\n",
              "      <th>P_emaildomain_windstream.net</th>\n",
              "      <th>P_emaildomain_yahoo.co.jp</th>\n",
              "      <th>P_emaildomain_yahoo.co.uk</th>\n",
              "      <th>P_emaildomain_yahoo.com</th>\n",
              "      <th>P_emaildomain_yahoo.com.mx</th>\n",
              "      <th>P_emaildomain_yahoo.de</th>\n",
              "      <th>P_emaildomain_yahoo.es</th>\n",
              "      <th>P_emaildomain_yahoo.fr</th>\n",
              "      <th>P_emaildomain_ymail.com</th>\n",
              "    </tr>\n",
              "  </thead>\n",
              "  <tbody>\n",
              "    <tr>\n",
              "      <th>0</th>\n",
              "      <td>2994681</td>\n",
              "      <td>0</td>\n",
              "      <td>242834</td>\n",
              "      <td>25.000</td>\n",
              "      <td>9803</td>\n",
              "      <td>583.0</td>\n",
              "      <td>150.0</td>\n",
              "      <td>226.0</td>\n",
              "      <td>269.0</td>\n",
              "      <td>87.0</td>\n",
              "      <td>1</td>\n",
              "      <td>1</td>\n",
              "      <td>0</td>\n",
              "      <td>0</td>\n",
              "      <td>0</td>\n",
              "      <td>1</td>\n",
              "      <td>0</td>\n",
              "      <td>1</td>\n",
              "      <td>0</td>\n",
              "      <td>1</td>\n",
              "      <td>1</td>\n",
              "      <td>0</td>\n",
              "      <td>1</td>\n",
              "      <td>1</td>\n",
              "      <td>0.0</td>\n",
              "      <td>124.267325</td>\n",
              "      <td>163.966616</td>\n",
              "      <td>0.55965</td>\n",
              "      <td>0.597624</td>\n",
              "      <td>0.999398</td>\n",
              "      <td>0.124619</td>\n",
              "      <td>0.125551</td>\n",
              "      <td>0.137374</td>\n",
              "      <td>0.13883</td>\n",
              "      <td>0.814731</td>\n",
              "      <td>0.845542</td>\n",
              "      <td>0.133239</td>\n",
              "      <td>0.135394</td>\n",
              "      <td>1.035702</td>\n",
              "      <td>1.058825</td>\n",
              "      <td>...</td>\n",
              "      <td>0</td>\n",
              "      <td>0</td>\n",
              "      <td>0</td>\n",
              "      <td>0</td>\n",
              "      <td>0</td>\n",
              "      <td>0</td>\n",
              "      <td>0</td>\n",
              "      <td>0</td>\n",
              "      <td>0</td>\n",
              "      <td>0</td>\n",
              "      <td>0</td>\n",
              "      <td>0</td>\n",
              "      <td>0</td>\n",
              "      <td>0</td>\n",
              "      <td>0</td>\n",
              "      <td>0</td>\n",
              "      <td>0</td>\n",
              "      <td>0</td>\n",
              "      <td>0</td>\n",
              "      <td>0</td>\n",
              "      <td>0</td>\n",
              "      <td>0</td>\n",
              "      <td>0</td>\n",
              "      <td>0</td>\n",
              "      <td>0</td>\n",
              "      <td>0</td>\n",
              "      <td>0</td>\n",
              "      <td>0</td>\n",
              "      <td>0</td>\n",
              "      <td>0</td>\n",
              "      <td>0</td>\n",
              "      <td>0</td>\n",
              "      <td>0</td>\n",
              "      <td>0</td>\n",
              "      <td>1</td>\n",
              "      <td>0</td>\n",
              "      <td>0</td>\n",
              "      <td>0</td>\n",
              "      <td>0</td>\n",
              "      <td>0</td>\n",
              "    </tr>\n",
              "    <tr>\n",
              "      <th>1</th>\n",
              "      <td>3557242</td>\n",
              "      <td>0</td>\n",
              "      <td>15123000</td>\n",
              "      <td>117.000</td>\n",
              "      <td>7919</td>\n",
              "      <td>194.0</td>\n",
              "      <td>150.0</td>\n",
              "      <td>166.0</td>\n",
              "      <td>181.0</td>\n",
              "      <td>87.0</td>\n",
              "      <td>1</td>\n",
              "      <td>4</td>\n",
              "      <td>0</td>\n",
              "      <td>0</td>\n",
              "      <td>0</td>\n",
              "      <td>1</td>\n",
              "      <td>0</td>\n",
              "      <td>0</td>\n",
              "      <td>3</td>\n",
              "      <td>0</td>\n",
              "      <td>3</td>\n",
              "      <td>0</td>\n",
              "      <td>4</td>\n",
              "      <td>1</td>\n",
              "      <td>63.0</td>\n",
              "      <td>4.000000</td>\n",
              "      <td>4.000000</td>\n",
              "      <td>1.00000</td>\n",
              "      <td>1.000000</td>\n",
              "      <td>1.000000</td>\n",
              "      <td>0.000000</td>\n",
              "      <td>0.000000</td>\n",
              "      <td>0.000000</td>\n",
              "      <td>0.00000</td>\n",
              "      <td>1.000000</td>\n",
              "      <td>1.000000</td>\n",
              "      <td>0.000000</td>\n",
              "      <td>0.000000</td>\n",
              "      <td>1.000000</td>\n",
              "      <td>1.000000</td>\n",
              "      <td>...</td>\n",
              "      <td>0</td>\n",
              "      <td>0</td>\n",
              "      <td>0</td>\n",
              "      <td>0</td>\n",
              "      <td>0</td>\n",
              "      <td>0</td>\n",
              "      <td>0</td>\n",
              "      <td>0</td>\n",
              "      <td>0</td>\n",
              "      <td>0</td>\n",
              "      <td>0</td>\n",
              "      <td>0</td>\n",
              "      <td>0</td>\n",
              "      <td>0</td>\n",
              "      <td>0</td>\n",
              "      <td>0</td>\n",
              "      <td>0</td>\n",
              "      <td>0</td>\n",
              "      <td>0</td>\n",
              "      <td>0</td>\n",
              "      <td>0</td>\n",
              "      <td>0</td>\n",
              "      <td>0</td>\n",
              "      <td>0</td>\n",
              "      <td>0</td>\n",
              "      <td>0</td>\n",
              "      <td>0</td>\n",
              "      <td>0</td>\n",
              "      <td>0</td>\n",
              "      <td>0</td>\n",
              "      <td>0</td>\n",
              "      <td>0</td>\n",
              "      <td>0</td>\n",
              "      <td>0</td>\n",
              "      <td>0</td>\n",
              "      <td>0</td>\n",
              "      <td>0</td>\n",
              "      <td>0</td>\n",
              "      <td>0</td>\n",
              "      <td>0</td>\n",
              "    </tr>\n",
              "    <tr>\n",
              "      <th>2</th>\n",
              "      <td>3327470</td>\n",
              "      <td>0</td>\n",
              "      <td>8378575</td>\n",
              "      <td>73.773</td>\n",
              "      <td>12778</td>\n",
              "      <td>500.0</td>\n",
              "      <td>185.0</td>\n",
              "      <td>224.0</td>\n",
              "      <td>284.0</td>\n",
              "      <td>60.0</td>\n",
              "      <td>1</td>\n",
              "      <td>3</td>\n",
              "      <td>0</td>\n",
              "      <td>1</td>\n",
              "      <td>0</td>\n",
              "      <td>1</td>\n",
              "      <td>1</td>\n",
              "      <td>0</td>\n",
              "      <td>0</td>\n",
              "      <td>0</td>\n",
              "      <td>2</td>\n",
              "      <td>2</td>\n",
              "      <td>3</td>\n",
              "      <td>1</td>\n",
              "      <td>54.0</td>\n",
              "      <td>0.000000</td>\n",
              "      <td>54.000000</td>\n",
              "      <td>0.00000</td>\n",
              "      <td>0.000000</td>\n",
              "      <td>1.000000</td>\n",
              "      <td>1.000000</td>\n",
              "      <td>1.000000</td>\n",
              "      <td>0.000000</td>\n",
              "      <td>0.00000</td>\n",
              "      <td>1.000000</td>\n",
              "      <td>1.000000</td>\n",
              "      <td>0.000000</td>\n",
              "      <td>0.000000</td>\n",
              "      <td>1.000000</td>\n",
              "      <td>1.000000</td>\n",
              "      <td>...</td>\n",
              "      <td>1</td>\n",
              "      <td>0</td>\n",
              "      <td>0</td>\n",
              "      <td>0</td>\n",
              "      <td>0</td>\n",
              "      <td>0</td>\n",
              "      <td>0</td>\n",
              "      <td>0</td>\n",
              "      <td>0</td>\n",
              "      <td>0</td>\n",
              "      <td>0</td>\n",
              "      <td>0</td>\n",
              "      <td>0</td>\n",
              "      <td>0</td>\n",
              "      <td>0</td>\n",
              "      <td>0</td>\n",
              "      <td>0</td>\n",
              "      <td>0</td>\n",
              "      <td>0</td>\n",
              "      <td>0</td>\n",
              "      <td>0</td>\n",
              "      <td>0</td>\n",
              "      <td>0</td>\n",
              "      <td>0</td>\n",
              "      <td>0</td>\n",
              "      <td>0</td>\n",
              "      <td>0</td>\n",
              "      <td>0</td>\n",
              "      <td>0</td>\n",
              "      <td>0</td>\n",
              "      <td>0</td>\n",
              "      <td>0</td>\n",
              "      <td>0</td>\n",
              "      <td>0</td>\n",
              "      <td>0</td>\n",
              "      <td>0</td>\n",
              "      <td>0</td>\n",
              "      <td>0</td>\n",
              "      <td>0</td>\n",
              "      <td>0</td>\n",
              "    </tr>\n",
              "    <tr>\n",
              "      <th>3</th>\n",
              "      <td>3118781</td>\n",
              "      <td>0</td>\n",
              "      <td>2607840</td>\n",
              "      <td>400.000</td>\n",
              "      <td>12316</td>\n",
              "      <td>548.0</td>\n",
              "      <td>150.0</td>\n",
              "      <td>195.0</td>\n",
              "      <td>441.0</td>\n",
              "      <td>87.0</td>\n",
              "      <td>1</td>\n",
              "      <td>1</td>\n",
              "      <td>0</td>\n",
              "      <td>1</td>\n",
              "      <td>0</td>\n",
              "      <td>1</td>\n",
              "      <td>0</td>\n",
              "      <td>1</td>\n",
              "      <td>0</td>\n",
              "      <td>1</td>\n",
              "      <td>1</td>\n",
              "      <td>0</td>\n",
              "      <td>1</td>\n",
              "      <td>1</td>\n",
              "      <td>0.0</td>\n",
              "      <td>124.267325</td>\n",
              "      <td>163.966616</td>\n",
              "      <td>0.55965</td>\n",
              "      <td>0.597624</td>\n",
              "      <td>0.999398</td>\n",
              "      <td>0.124619</td>\n",
              "      <td>0.125551</td>\n",
              "      <td>0.137374</td>\n",
              "      <td>0.13883</td>\n",
              "      <td>0.814731</td>\n",
              "      <td>0.845542</td>\n",
              "      <td>0.133239</td>\n",
              "      <td>0.135394</td>\n",
              "      <td>1.035702</td>\n",
              "      <td>1.058825</td>\n",
              "      <td>...</td>\n",
              "      <td>0</td>\n",
              "      <td>0</td>\n",
              "      <td>0</td>\n",
              "      <td>0</td>\n",
              "      <td>0</td>\n",
              "      <td>0</td>\n",
              "      <td>0</td>\n",
              "      <td>0</td>\n",
              "      <td>0</td>\n",
              "      <td>0</td>\n",
              "      <td>0</td>\n",
              "      <td>0</td>\n",
              "      <td>0</td>\n",
              "      <td>0</td>\n",
              "      <td>0</td>\n",
              "      <td>0</td>\n",
              "      <td>0</td>\n",
              "      <td>0</td>\n",
              "      <td>0</td>\n",
              "      <td>0</td>\n",
              "      <td>0</td>\n",
              "      <td>0</td>\n",
              "      <td>0</td>\n",
              "      <td>0</td>\n",
              "      <td>0</td>\n",
              "      <td>0</td>\n",
              "      <td>0</td>\n",
              "      <td>0</td>\n",
              "      <td>0</td>\n",
              "      <td>0</td>\n",
              "      <td>0</td>\n",
              "      <td>0</td>\n",
              "      <td>0</td>\n",
              "      <td>0</td>\n",
              "      <td>0</td>\n",
              "      <td>0</td>\n",
              "      <td>0</td>\n",
              "      <td>0</td>\n",
              "      <td>0</td>\n",
              "      <td>0</td>\n",
              "    </tr>\n",
              "    <tr>\n",
              "      <th>4</th>\n",
              "      <td>3459772</td>\n",
              "      <td>0</td>\n",
              "      <td>12226544</td>\n",
              "      <td>31.950</td>\n",
              "      <td>9002</td>\n",
              "      <td>453.0</td>\n",
              "      <td>150.0</td>\n",
              "      <td>226.0</td>\n",
              "      <td>264.0</td>\n",
              "      <td>87.0</td>\n",
              "      <td>3</td>\n",
              "      <td>3</td>\n",
              "      <td>0</td>\n",
              "      <td>0</td>\n",
              "      <td>3</td>\n",
              "      <td>4</td>\n",
              "      <td>0</td>\n",
              "      <td>0</td>\n",
              "      <td>3</td>\n",
              "      <td>0</td>\n",
              "      <td>2</td>\n",
              "      <td>0</td>\n",
              "      <td>33</td>\n",
              "      <td>3</td>\n",
              "      <td>54.0</td>\n",
              "      <td>71.000000</td>\n",
              "      <td>620.000000</td>\n",
              "      <td>1.00000</td>\n",
              "      <td>1.000000</td>\n",
              "      <td>1.000000</td>\n",
              "      <td>0.000000</td>\n",
              "      <td>0.000000</td>\n",
              "      <td>0.000000</td>\n",
              "      <td>0.00000</td>\n",
              "      <td>0.000000</td>\n",
              "      <td>0.000000</td>\n",
              "      <td>0.000000</td>\n",
              "      <td>0.000000</td>\n",
              "      <td>1.000000</td>\n",
              "      <td>1.000000</td>\n",
              "      <td>...</td>\n",
              "      <td>0</td>\n",
              "      <td>0</td>\n",
              "      <td>0</td>\n",
              "      <td>0</td>\n",
              "      <td>0</td>\n",
              "      <td>0</td>\n",
              "      <td>0</td>\n",
              "      <td>0</td>\n",
              "      <td>0</td>\n",
              "      <td>0</td>\n",
              "      <td>0</td>\n",
              "      <td>0</td>\n",
              "      <td>0</td>\n",
              "      <td>0</td>\n",
              "      <td>0</td>\n",
              "      <td>0</td>\n",
              "      <td>0</td>\n",
              "      <td>0</td>\n",
              "      <td>0</td>\n",
              "      <td>0</td>\n",
              "      <td>0</td>\n",
              "      <td>0</td>\n",
              "      <td>0</td>\n",
              "      <td>0</td>\n",
              "      <td>0</td>\n",
              "      <td>0</td>\n",
              "      <td>0</td>\n",
              "      <td>0</td>\n",
              "      <td>0</td>\n",
              "      <td>0</td>\n",
              "      <td>0</td>\n",
              "      <td>0</td>\n",
              "      <td>0</td>\n",
              "      <td>0</td>\n",
              "      <td>1</td>\n",
              "      <td>0</td>\n",
              "      <td>0</td>\n",
              "      <td>0</td>\n",
              "      <td>0</td>\n",
              "      <td>0</td>\n",
              "    </tr>\n",
              "  </tbody>\n",
              "</table>\n",
              "<p>5 rows × 250 columns</p>\n",
              "</div>"
            ],
            "text/plain": [
              "   TransactionID  isFraud  ...  P_emaildomain_yahoo.fr  P_emaildomain_ymail.com\n",
              "0        2994681        0  ...                       0                        0\n",
              "1        3557242        0  ...                       0                        0\n",
              "2        3327470        0  ...                       0                        0\n",
              "3        3118781        0  ...                       0                        0\n",
              "4        3459772        0  ...                       0                        0\n",
              "\n",
              "[5 rows x 250 columns]"
            ]
          },
          "metadata": {
            "tags": []
          },
          "execution_count": 24
        }
      ]
    },
    {
      "cell_type": "markdown",
      "metadata": {
        "id": "kAkHAuGaE_Xo"
      },
      "source": [
        "Si vous remarquez, de nombreuses variables factices sont créées comme; **P_emaildomain_hotmail.com, P_emaildomain_hotmail.de,** etc."
      ]
    },
    {
      "cell_type": "markdown",
      "metadata": {
        "id": "DQPCxfdDn0d5"
      },
      "source": [
        "#### Fonctions d'entrée et fonctions de sortie séparées"
      ]
    },
    {
      "cell_type": "code",
      "metadata": {
        "id": "UQWaD295Lr7p"
      },
      "source": [
        "# Separate input features and output feature\n",
        "X = fraud_data.drop(columns = ['isFraud'])       # input features\n",
        "Y = fraud_data.isFraud      # output feature"
      ],
      "execution_count": 25,
      "outputs": []
    },
    {
      "cell_type": "markdown",
      "metadata": {
        "id": "VwytZeEJGyzI"
      },
      "source": [
        "### Standardisation / Normalisation\n",
        "Les variables d'un ensemble de données réel sont souvent accompagnées d'un large éventail de valeurs de données.\n",
        "\n",
        "Par exemple, si vous regardez cet ensemble de données sur la fraude, la variable «TransactionAmt» a des valeurs comprises entre 0,292 et 5279,95, tandis que si vous regardez la variable «V14», elle a des valeurs comprises entre 0,0 et 1,0. Fondamentalement, ils ne sont pas sur une échelle commune.\n",
        "\n",
        "**Maintenant, comment la normalisation / normalisation aide-t-elle?**\n",
        "\n",
        "La normalisation / normalisation amènerait toutes les variables d'un ensemble de données à une échelle commune afin de contribuer davantage à la mise en œuvre de divers modèles d'apprentissage automatique (où la normalisation / normalisation est une condition préalable à l'application de tels modèles). Encore une fois, ne prenez pas cela pour acquis, il existe des algorithmes intelligents qui n'en ont pas besoin et qui exploreront l'un d'entre eux ici.\n",
        "\n",
        "Eh bien, nous avons également discuté de la standardisation / normalisation dans le matériel d'étude **Semaine # 2 - Jour # 1**.\n",
        "\n",
        "Ici, nous utiliserons la classe «StandardScaler» de «sklearn.preprocessing» pour mettre à l'échelle nos données."
      ]
    },
    {
      "cell_type": "markdown",
      "metadata": {
        "id": "UCqvAUtsn62V"
      },
      "source": [
        "![alt text](https://dphi.tech/blog/wp-content/uploads/2020/06/sn.png)"
      ]
    },
    {
      "cell_type": "code",
      "metadata": {
        "id": "ZEFGJfmobfb0"
      },
      "source": [
        "from sklearn.preprocessing import StandardScaler\n",
        "scaled_features = StandardScaler().fit_transform(X)\n",
        "scaled_features = pd.DataFrame(data=scaled_features)\n",
        "scaled_features.columns= X.columns"
      ],
      "execution_count": 26,
      "outputs": []
    },
    {
      "cell_type": "code",
      "metadata": {
        "id": "_dqiqVCgojsS",
        "colab": {
          "base_uri": "https://localhost:8080/",
          "height": 345
        },
        "outputId": "1b642dc8-081e-4bde-f033-262bd864a55e"
      },
      "source": [
        "# Let's see how the data looks after scaling\n",
        "scaled_features.head()"
      ],
      "execution_count": 27,
      "outputs": [
        {
          "output_type": "execute_result",
          "data": {
            "text/html": [
              "<div>\n",
              "<style scoped>\n",
              "    .dataframe tbody tr th:only-of-type {\n",
              "        vertical-align: middle;\n",
              "    }\n",
              "\n",
              "    .dataframe tbody tr th {\n",
              "        vertical-align: top;\n",
              "    }\n",
              "\n",
              "    .dataframe thead th {\n",
              "        text-align: right;\n",
              "    }\n",
              "</style>\n",
              "<table border=\"1\" class=\"dataframe\">\n",
              "  <thead>\n",
              "    <tr style=\"text-align: right;\">\n",
              "      <th></th>\n",
              "      <th>TransactionID</th>\n",
              "      <th>TransactionDT</th>\n",
              "      <th>TransactionAmt</th>\n",
              "      <th>card1</th>\n",
              "      <th>card2</th>\n",
              "      <th>card3</th>\n",
              "      <th>card5</th>\n",
              "      <th>addr1</th>\n",
              "      <th>addr2</th>\n",
              "      <th>C1</th>\n",
              "      <th>C2</th>\n",
              "      <th>C3</th>\n",
              "      <th>C4</th>\n",
              "      <th>C5</th>\n",
              "      <th>C6</th>\n",
              "      <th>C7</th>\n",
              "      <th>C8</th>\n",
              "      <th>C9</th>\n",
              "      <th>C10</th>\n",
              "      <th>C11</th>\n",
              "      <th>C12</th>\n",
              "      <th>C13</th>\n",
              "      <th>C14</th>\n",
              "      <th>D1</th>\n",
              "      <th>D10</th>\n",
              "      <th>D15</th>\n",
              "      <th>V12</th>\n",
              "      <th>V13</th>\n",
              "      <th>V14</th>\n",
              "      <th>V15</th>\n",
              "      <th>V16</th>\n",
              "      <th>V17</th>\n",
              "      <th>V18</th>\n",
              "      <th>V19</th>\n",
              "      <th>V20</th>\n",
              "      <th>V21</th>\n",
              "      <th>V22</th>\n",
              "      <th>V23</th>\n",
              "      <th>V24</th>\n",
              "      <th>V25</th>\n",
              "      <th>...</th>\n",
              "      <th>P_emaildomain_hotmail.com</th>\n",
              "      <th>P_emaildomain_hotmail.de</th>\n",
              "      <th>P_emaildomain_hotmail.es</th>\n",
              "      <th>P_emaildomain_hotmail.fr</th>\n",
              "      <th>P_emaildomain_icloud.com</th>\n",
              "      <th>P_emaildomain_juno.com</th>\n",
              "      <th>P_emaildomain_live.com</th>\n",
              "      <th>P_emaildomain_live.com.mx</th>\n",
              "      <th>P_emaildomain_live.fr</th>\n",
              "      <th>P_emaildomain_mac.com</th>\n",
              "      <th>P_emaildomain_mail.com</th>\n",
              "      <th>P_emaildomain_me.com</th>\n",
              "      <th>P_emaildomain_msn.com</th>\n",
              "      <th>P_emaildomain_netzero.com</th>\n",
              "      <th>P_emaildomain_netzero.net</th>\n",
              "      <th>P_emaildomain_optonline.net</th>\n",
              "      <th>P_emaildomain_outlook.com</th>\n",
              "      <th>P_emaildomain_outlook.es</th>\n",
              "      <th>P_emaildomain_prodigy.net.mx</th>\n",
              "      <th>P_emaildomain_protonmail.com</th>\n",
              "      <th>P_emaildomain_ptd.net</th>\n",
              "      <th>P_emaildomain_q.com</th>\n",
              "      <th>P_emaildomain_roadrunner.com</th>\n",
              "      <th>P_emaildomain_rocketmail.com</th>\n",
              "      <th>P_emaildomain_sbcglobal.net</th>\n",
              "      <th>P_emaildomain_sc.rr.com</th>\n",
              "      <th>P_emaildomain_servicios-ta.com</th>\n",
              "      <th>P_emaildomain_suddenlink.net</th>\n",
              "      <th>P_emaildomain_twc.com</th>\n",
              "      <th>P_emaildomain_verizon.net</th>\n",
              "      <th>P_emaildomain_web.de</th>\n",
              "      <th>P_emaildomain_windstream.net</th>\n",
              "      <th>P_emaildomain_yahoo.co.jp</th>\n",
              "      <th>P_emaildomain_yahoo.co.uk</th>\n",
              "      <th>P_emaildomain_yahoo.com</th>\n",
              "      <th>P_emaildomain_yahoo.com.mx</th>\n",
              "      <th>P_emaildomain_yahoo.de</th>\n",
              "      <th>P_emaildomain_yahoo.es</th>\n",
              "      <th>P_emaildomain_yahoo.fr</th>\n",
              "      <th>P_emaildomain_ymail.com</th>\n",
              "    </tr>\n",
              "  </thead>\n",
              "  <tbody>\n",
              "    <tr>\n",
              "      <th>0</th>\n",
              "      <td>-1.688548</td>\n",
              "      <td>-1.544958</td>\n",
              "      <td>-0.468203</td>\n",
              "      <td>-0.021940</td>\n",
              "      <td>1.412632</td>\n",
              "      <td>-0.286861</td>\n",
              "      <td>0.653753</td>\n",
              "      <td>-0.225982</td>\n",
              "      <td>0.077832</td>\n",
              "      <td>-0.099186</td>\n",
              "      <td>-0.092969</td>\n",
              "      <td>-0.034155</td>\n",
              "      <td>-0.057671</td>\n",
              "      <td>-0.214317</td>\n",
              "      <td>-0.113785</td>\n",
              "      <td>-0.043835</td>\n",
              "      <td>-0.040593</td>\n",
              "      <td>-0.266499</td>\n",
              "      <td>-0.041472</td>\n",
              "      <td>-0.098587</td>\n",
              "      <td>-0.044784</td>\n",
              "      <td>-0.246816</td>\n",
              "      <td>-0.149534</td>\n",
              "      <td>-0.598309</td>\n",
              "      <td>-8.312926e-17</td>\n",
              "      <td>-1.524289e-16</td>\n",
              "      <td>-2.328077e-16</td>\n",
              "      <td>0.000000</td>\n",
              "      <td>-4.847131e-15</td>\n",
              "      <td>0.000000</td>\n",
              "      <td>0.000000</td>\n",
              "      <td>8.149510e-17</td>\n",
              "      <td>0.000000</td>\n",
              "      <td>0.000000</td>\n",
              "      <td>0.000000</td>\n",
              "      <td>0.000000</td>\n",
              "      <td>0.000000</td>\n",
              "      <td>0.000000</td>\n",
              "      <td>0.000000</td>\n",
              "      <td>-6.454269e-16</td>\n",
              "      <td>...</td>\n",
              "      <td>-0.288310</td>\n",
              "      <td>-0.01164</td>\n",
              "      <td>-0.023646</td>\n",
              "      <td>-0.023285</td>\n",
              "      <td>-0.103676</td>\n",
              "      <td>-0.018406</td>\n",
              "      <td>-0.070735</td>\n",
              "      <td>-0.037289</td>\n",
              "      <td>-0.01164</td>\n",
              "      <td>-0.025707</td>\n",
              "      <td>-0.031891</td>\n",
              "      <td>-0.050125</td>\n",
              "      <td>-0.083819</td>\n",
              "      <td>-0.020987</td>\n",
              "      <td>-0.017461</td>\n",
              "      <td>-0.038411</td>\n",
              "      <td>-0.09194</td>\n",
              "      <td>-0.024698</td>\n",
              "      <td>-0.01594</td>\n",
              "      <td>-0.010888</td>\n",
              "      <td>-0.01164</td>\n",
              "      <td>-0.02058</td>\n",
              "      <td>-0.02058</td>\n",
              "      <td>-0.030532</td>\n",
              "      <td>-0.071337</td>\n",
              "      <td>-0.019305</td>\n",
              "      <td>-0.009202</td>\n",
              "      <td>-0.017461</td>\n",
              "      <td>-0.022166</td>\n",
              "      <td>-0.068774</td>\n",
              "      <td>-0.021387</td>\n",
              "      <td>-0.022918</td>\n",
              "      <td>-0.009202</td>\n",
              "      <td>-0.004115</td>\n",
              "      <td>2.216281</td>\n",
              "      <td>-0.053413</td>\n",
              "      <td>-0.013649</td>\n",
              "      <td>-0.014839</td>\n",
              "      <td>-0.015399</td>\n",
              "      <td>-0.06253</td>\n",
              "    </tr>\n",
              "    <tr>\n",
              "      <th>1</th>\n",
              "      <td>1.615662</td>\n",
              "      <td>1.681426</td>\n",
              "      <td>-0.073540</td>\n",
              "      <td>-0.406928</td>\n",
              "      <td>-1.078794</td>\n",
              "      <td>-0.286861</td>\n",
              "      <td>-0.804662</td>\n",
              "      <td>-1.144356</td>\n",
              "      <td>0.077832</td>\n",
              "      <td>-0.099186</td>\n",
              "      <td>-0.071893</td>\n",
              "      <td>-0.034155</td>\n",
              "      <td>-0.057671</td>\n",
              "      <td>-0.214317</td>\n",
              "      <td>-0.113785</td>\n",
              "      <td>-0.043835</td>\n",
              "      <td>-0.052023</td>\n",
              "      <td>-0.085706</td>\n",
              "      <td>-0.052858</td>\n",
              "      <td>-0.075654</td>\n",
              "      <td>-0.044784</td>\n",
              "      <td>-0.222665</td>\n",
              "      <td>-0.149534</td>\n",
              "      <td>-0.198351</td>\n",
              "      <td>-7.035279e-01</td>\n",
              "      <td>-8.579195e-01</td>\n",
              "      <td>9.233902e-01</td>\n",
              "      <td>0.808959</td>\n",
              "      <td>2.627563e-02</td>\n",
              "      <td>-0.399959</td>\n",
              "      <td>-0.396568</td>\n",
              "      <td>-4.033536e-01</td>\n",
              "      <td>-0.399817</td>\n",
              "      <td>0.467841</td>\n",
              "      <td>0.365554</td>\n",
              "      <td>-0.415703</td>\n",
              "      <td>-0.405681</td>\n",
              "      <td>-0.150184</td>\n",
              "      <td>-0.204178</td>\n",
              "      <td>1.322761e-01</td>\n",
              "      <td>...</td>\n",
              "      <td>-0.288310</td>\n",
              "      <td>-0.01164</td>\n",
              "      <td>-0.023646</td>\n",
              "      <td>-0.023285</td>\n",
              "      <td>-0.103676</td>\n",
              "      <td>-0.018406</td>\n",
              "      <td>-0.070735</td>\n",
              "      <td>-0.037289</td>\n",
              "      <td>-0.01164</td>\n",
              "      <td>-0.025707</td>\n",
              "      <td>-0.031891</td>\n",
              "      <td>-0.050125</td>\n",
              "      <td>-0.083819</td>\n",
              "      <td>-0.020987</td>\n",
              "      <td>-0.017461</td>\n",
              "      <td>-0.038411</td>\n",
              "      <td>-0.09194</td>\n",
              "      <td>-0.024698</td>\n",
              "      <td>-0.01594</td>\n",
              "      <td>-0.010888</td>\n",
              "      <td>-0.01164</td>\n",
              "      <td>-0.02058</td>\n",
              "      <td>-0.02058</td>\n",
              "      <td>-0.030532</td>\n",
              "      <td>-0.071337</td>\n",
              "      <td>-0.019305</td>\n",
              "      <td>-0.009202</td>\n",
              "      <td>-0.017461</td>\n",
              "      <td>-0.022166</td>\n",
              "      <td>-0.068774</td>\n",
              "      <td>-0.021387</td>\n",
              "      <td>-0.022918</td>\n",
              "      <td>-0.009202</td>\n",
              "      <td>-0.004115</td>\n",
              "      <td>-0.451206</td>\n",
              "      <td>-0.053413</td>\n",
              "      <td>-0.013649</td>\n",
              "      <td>-0.014839</td>\n",
              "      <td>-0.015399</td>\n",
              "      <td>-0.06253</td>\n",
              "    </tr>\n",
              "    <tr>\n",
              "      <th>2</th>\n",
              "      <td>0.266093</td>\n",
              "      <td>0.219070</td>\n",
              "      <td>-0.258976</td>\n",
              "      <td>0.585989</td>\n",
              "      <td>0.881042</td>\n",
              "      <td>2.788641</td>\n",
              "      <td>0.605139</td>\n",
              "      <td>-0.069441</td>\n",
              "      <td>-10.788933</td>\n",
              "      <td>-0.099186</td>\n",
              "      <td>-0.078918</td>\n",
              "      <td>-0.034155</td>\n",
              "      <td>-0.041973</td>\n",
              "      <td>-0.214317</td>\n",
              "      <td>-0.113785</td>\n",
              "      <td>-0.026137</td>\n",
              "      <td>-0.052023</td>\n",
              "      <td>-0.266499</td>\n",
              "      <td>-0.052858</td>\n",
              "      <td>-0.087120</td>\n",
              "      <td>-0.019564</td>\n",
              "      <td>-0.230715</td>\n",
              "      <td>-0.149534</td>\n",
              "      <td>-0.255488</td>\n",
              "      <td>-7.269267e-01</td>\n",
              "      <td>-5.897637e-01</td>\n",
              "      <td>-1.173555e+00</td>\n",
              "      <td>-1.201496</td>\n",
              "      <td>2.627563e-02</td>\n",
              "      <td>2.809494</td>\n",
              "      <td>2.762058</td>\n",
              "      <td>-4.033536e-01</td>\n",
              "      <td>-0.399817</td>\n",
              "      <td>0.467841</td>\n",
              "      <td>0.365554</td>\n",
              "      <td>-0.415703</td>\n",
              "      <td>-0.405681</td>\n",
              "      <td>-0.150184</td>\n",
              "      <td>-0.204178</td>\n",
              "      <td>1.322761e-01</td>\n",
              "      <td>...</td>\n",
              "      <td>3.468494</td>\n",
              "      <td>-0.01164</td>\n",
              "      <td>-0.023646</td>\n",
              "      <td>-0.023285</td>\n",
              "      <td>-0.103676</td>\n",
              "      <td>-0.018406</td>\n",
              "      <td>-0.070735</td>\n",
              "      <td>-0.037289</td>\n",
              "      <td>-0.01164</td>\n",
              "      <td>-0.025707</td>\n",
              "      <td>-0.031891</td>\n",
              "      <td>-0.050125</td>\n",
              "      <td>-0.083819</td>\n",
              "      <td>-0.020987</td>\n",
              "      <td>-0.017461</td>\n",
              "      <td>-0.038411</td>\n",
              "      <td>-0.09194</td>\n",
              "      <td>-0.024698</td>\n",
              "      <td>-0.01594</td>\n",
              "      <td>-0.010888</td>\n",
              "      <td>-0.01164</td>\n",
              "      <td>-0.02058</td>\n",
              "      <td>-0.02058</td>\n",
              "      <td>-0.030532</td>\n",
              "      <td>-0.071337</td>\n",
              "      <td>-0.019305</td>\n",
              "      <td>-0.009202</td>\n",
              "      <td>-0.017461</td>\n",
              "      <td>-0.022166</td>\n",
              "      <td>-0.068774</td>\n",
              "      <td>-0.021387</td>\n",
              "      <td>-0.022918</td>\n",
              "      <td>-0.009202</td>\n",
              "      <td>-0.004115</td>\n",
              "      <td>-0.451206</td>\n",
              "      <td>-0.053413</td>\n",
              "      <td>-0.013649</td>\n",
              "      <td>-0.014839</td>\n",
              "      <td>-0.015399</td>\n",
              "      <td>-0.06253</td>\n",
              "    </tr>\n",
              "    <tr>\n",
              "      <th>3</th>\n",
              "      <td>-0.959645</td>\n",
              "      <td>-1.032167</td>\n",
              "      <td>1.140478</td>\n",
              "      <td>0.491581</td>\n",
              "      <td>1.188468</td>\n",
              "      <td>-0.286861</td>\n",
              "      <td>-0.099761</td>\n",
              "      <td>1.569022</td>\n",
              "      <td>0.077832</td>\n",
              "      <td>-0.099186</td>\n",
              "      <td>-0.092969</td>\n",
              "      <td>-0.034155</td>\n",
              "      <td>-0.041973</td>\n",
              "      <td>-0.214317</td>\n",
              "      <td>-0.113785</td>\n",
              "      <td>-0.043835</td>\n",
              "      <td>-0.040593</td>\n",
              "      <td>-0.266499</td>\n",
              "      <td>-0.041472</td>\n",
              "      <td>-0.098587</td>\n",
              "      <td>-0.044784</td>\n",
              "      <td>-0.246816</td>\n",
              "      <td>-0.149534</td>\n",
              "      <td>-0.598309</td>\n",
              "      <td>-8.312926e-17</td>\n",
              "      <td>-1.524289e-16</td>\n",
              "      <td>-2.328077e-16</td>\n",
              "      <td>0.000000</td>\n",
              "      <td>-4.847131e-15</td>\n",
              "      <td>0.000000</td>\n",
              "      <td>0.000000</td>\n",
              "      <td>8.149510e-17</td>\n",
              "      <td>0.000000</td>\n",
              "      <td>0.000000</td>\n",
              "      <td>0.000000</td>\n",
              "      <td>0.000000</td>\n",
              "      <td>0.000000</td>\n",
              "      <td>0.000000</td>\n",
              "      <td>0.000000</td>\n",
              "      <td>-6.454269e-16</td>\n",
              "      <td>...</td>\n",
              "      <td>-0.288310</td>\n",
              "      <td>-0.01164</td>\n",
              "      <td>-0.023646</td>\n",
              "      <td>-0.023285</td>\n",
              "      <td>-0.103676</td>\n",
              "      <td>-0.018406</td>\n",
              "      <td>-0.070735</td>\n",
              "      <td>-0.037289</td>\n",
              "      <td>-0.01164</td>\n",
              "      <td>-0.025707</td>\n",
              "      <td>-0.031891</td>\n",
              "      <td>-0.050125</td>\n",
              "      <td>-0.083819</td>\n",
              "      <td>-0.020987</td>\n",
              "      <td>-0.017461</td>\n",
              "      <td>-0.038411</td>\n",
              "      <td>-0.09194</td>\n",
              "      <td>-0.024698</td>\n",
              "      <td>-0.01594</td>\n",
              "      <td>-0.010888</td>\n",
              "      <td>-0.01164</td>\n",
              "      <td>-0.02058</td>\n",
              "      <td>-0.02058</td>\n",
              "      <td>-0.030532</td>\n",
              "      <td>-0.071337</td>\n",
              "      <td>-0.019305</td>\n",
              "      <td>-0.009202</td>\n",
              "      <td>-0.017461</td>\n",
              "      <td>-0.022166</td>\n",
              "      <td>-0.068774</td>\n",
              "      <td>-0.021387</td>\n",
              "      <td>-0.022918</td>\n",
              "      <td>-0.009202</td>\n",
              "      <td>-0.004115</td>\n",
              "      <td>-0.451206</td>\n",
              "      <td>-0.053413</td>\n",
              "      <td>-0.013649</td>\n",
              "      <td>-0.014839</td>\n",
              "      <td>-0.015399</td>\n",
              "      <td>-0.06253</td>\n",
              "    </tr>\n",
              "    <tr>\n",
              "      <th>4</th>\n",
              "      <td>1.043171</td>\n",
              "      <td>1.053404</td>\n",
              "      <td>-0.438389</td>\n",
              "      <td>-0.185621</td>\n",
              "      <td>0.580022</td>\n",
              "      <td>-0.286861</td>\n",
              "      <td>0.653753</td>\n",
              "      <td>-0.278162</td>\n",
              "      <td>0.077832</td>\n",
              "      <td>-0.082944</td>\n",
              "      <td>-0.078918</td>\n",
              "      <td>-0.034155</td>\n",
              "      <td>-0.057671</td>\n",
              "      <td>-0.096993</td>\n",
              "      <td>-0.068717</td>\n",
              "      <td>-0.043835</td>\n",
              "      <td>-0.052023</td>\n",
              "      <td>-0.085706</td>\n",
              "      <td>-0.052858</td>\n",
              "      <td>-0.087120</td>\n",
              "      <td>-0.044784</td>\n",
              "      <td>0.010798</td>\n",
              "      <td>-0.106536</td>\n",
              "      <td>-0.255488</td>\n",
              "      <td>-3.115979e-01</td>\n",
              "      <td>2.445760e+00</td>\n",
              "      <td>9.233902e-01</td>\n",
              "      <td>0.808959</td>\n",
              "      <td>2.627563e-02</td>\n",
              "      <td>-0.399959</td>\n",
              "      <td>-0.396568</td>\n",
              "      <td>-4.033536e-01</td>\n",
              "      <td>-0.399817</td>\n",
              "      <td>-2.057361</td>\n",
              "      <td>-2.001128</td>\n",
              "      <td>-0.415703</td>\n",
              "      <td>-0.405681</td>\n",
              "      <td>-0.150184</td>\n",
              "      <td>-0.204178</td>\n",
              "      <td>1.322761e-01</td>\n",
              "      <td>...</td>\n",
              "      <td>-0.288310</td>\n",
              "      <td>-0.01164</td>\n",
              "      <td>-0.023646</td>\n",
              "      <td>-0.023285</td>\n",
              "      <td>-0.103676</td>\n",
              "      <td>-0.018406</td>\n",
              "      <td>-0.070735</td>\n",
              "      <td>-0.037289</td>\n",
              "      <td>-0.01164</td>\n",
              "      <td>-0.025707</td>\n",
              "      <td>-0.031891</td>\n",
              "      <td>-0.050125</td>\n",
              "      <td>-0.083819</td>\n",
              "      <td>-0.020987</td>\n",
              "      <td>-0.017461</td>\n",
              "      <td>-0.038411</td>\n",
              "      <td>-0.09194</td>\n",
              "      <td>-0.024698</td>\n",
              "      <td>-0.01594</td>\n",
              "      <td>-0.010888</td>\n",
              "      <td>-0.01164</td>\n",
              "      <td>-0.02058</td>\n",
              "      <td>-0.02058</td>\n",
              "      <td>-0.030532</td>\n",
              "      <td>-0.071337</td>\n",
              "      <td>-0.019305</td>\n",
              "      <td>-0.009202</td>\n",
              "      <td>-0.017461</td>\n",
              "      <td>-0.022166</td>\n",
              "      <td>-0.068774</td>\n",
              "      <td>-0.021387</td>\n",
              "      <td>-0.022918</td>\n",
              "      <td>-0.009202</td>\n",
              "      <td>-0.004115</td>\n",
              "      <td>2.216281</td>\n",
              "      <td>-0.053413</td>\n",
              "      <td>-0.013649</td>\n",
              "      <td>-0.014839</td>\n",
              "      <td>-0.015399</td>\n",
              "      <td>-0.06253</td>\n",
              "    </tr>\n",
              "  </tbody>\n",
              "</table>\n",
              "<p>5 rows × 249 columns</p>\n",
              "</div>"
            ],
            "text/plain": [
              "   TransactionID  ...  P_emaildomain_ymail.com\n",
              "0      -1.688548  ...                 -0.06253\n",
              "1       1.615662  ...                 -0.06253\n",
              "2       0.266093  ...                 -0.06253\n",
              "3      -0.959645  ...                 -0.06253\n",
              "4       1.043171  ...                 -0.06253\n",
              "\n",
              "[5 rows x 249 columns]"
            ]
          },
          "metadata": {
            "tags": []
          },
          "execution_count": 27
        }
      ]
    },
    {
      "cell_type": "markdown",
      "metadata": {
        "id": "ihcN9C3ELFat"
      },
      "source": [
        "### Diviser l'ensemble de données en données de train et de test\n",
        "**Pourquoi diviser les données en ensembles de test et ensembles de formation?**\n",
        "\n",
        "L'objectif du fractionnement des données dans les différentes catégories est d'éviter le surajustement.\n",
        "Veuillez parcourir cette explication géniale, cela ne prendra que deux minutes pour la parcourir.\n",
        "\n",
        "[Dans l'apprentissage automatique, quel est le but de la division des données en ensembles de tests et ensembles de formation?](Https://www.quora.com/In-machine-learning-what-s-the-purpose-of-splitting-dat-up-into-test-sets-and-training-sets)\n",
        "\n",
        "**Qu'est-ce que le partage Train / Test?**\n",
        "Les données que nous utilisons sont divisées en données d'entraînement et données de test. L'ensemble d'apprentissage contient une sortie connue et le modèle apprend sur ces données afin d'être généralisé à d'autres données ultérieurement. Nous avons le jeu de données de test (ou sous-ensemble) afin de tester la prédiction de notre modèle sur ce sous-ensemble.\n",
        "\n",
        "! [texte alt](https://lh3.googleusercontent.com/7T5aRDAlcsyt1p4R9qMrSznpgrEu5g2q8PkS-Jnh96fxfXP-ld3G-zCt1LfnpK3sOEdkbqLXyzjlQIth1VJFc)\n",
        "\n",
        "**Lectures complémentaires:** [Train / Test Split and Cross Validation in Python](https://towardsdatascience.com/train-test-split-and-cross-validation-in-python-80b61beca4b6#:~:text=Former%2FTest%20Split,à%20other%20data%20later%20on.&Text=Pandas%20%E2%80%94%20to%20load%20the%20data,frame%20and%20analyze%20the%20data.)\n",
        "\n",
        "\n",
        "\n",
        "Nous conserverons 30% des données pour l'ensemble de test."
      ]
    },
    {
      "cell_type": "code",
      "metadata": {
        "id": "9orHGVW2FwhR"
      },
      "source": [
        "# Splitting the data\n",
        "from sklearn.model_selection import train_test_split\n",
        "X_train, X_test, Y_train, Y_test = train_test_split(X, Y, test_size = 0.3, random_state = 42)\n",
        "\n",
        "# X_train: independent feature data for training the model\n",
        "# Y_train: dependent feature data for training the model\n",
        "# X_test: independent feature data for testing the model; will be used to predict the target values\n",
        "# Y_test: original target values of X_test; We will compare this values with our predicted values.\n",
        " \n",
        "# test_size = 0.3: 30% of the data will go for test set and 70% of the data will go for train set\n",
        "# random_state = 42: this will fix the split i.e. there will be same split for each time you run the code"
      ],
      "execution_count": 28,
      "outputs": []
    },
    {
      "cell_type": "markdown",
      "metadata": {
        "id": "0myjC1VxpHyx"
      },
      "source": [
        "# Traitement des données déséquilibrées\n",
        "La plupart des algorithmes d'apprentissage automatique fonctionnent mieux lorsque le nombre d'échantillons dans chaque classe est à peu près égal. En effet, la plupart des algorithmes sont conçus pour maximiser la précision et réduire les erreurs. Encore une fois, cela ne peut pas être généralisé et nous devons être très spécifiques au cas en fonction de la nature des données et de leur contexte sous-jacent.\n",
        "\n",
        "[Traitement des données déséquilibrées](https://towardsdatascience.com/methods-for-dealing-with-imbalanced-data-5b761be45a18)\n",
        "\n",
        "## Différentes techniques\n",
        "1. **Techniques de rééchantillonnage - Suréchantillonnage de la classe minoritaire:** Le suréchantillonnage peut être défini comme l'ajout de copies supplémentaires de la classe minoritaire. En d'autres termes, nous créons des données artificielles / synthétiques de la classe (ou du groupe) minoritaire. Le suréchantillonnage peut être un bon choix lorsque vous ne disposez pas de beaucoup de données avec lesquelles travailler.\n",
        "\n",
        "Nous utiliserons le module de rééchantillonnage de la bibliothèque Scikit-Learn pour créer au hasard des échantillons artificiels de données de la classe minoritaire.\n",
        "\n",
        "**Note importante**\n",
        "\n",
        "AVANT d'essayer des techniques de suréchantillonnage **,vous devez** diviser vos données en ensembles de données de train et de test!\n",
        "\n",
        "Pourquoi cela devrait-il être fait? Le suréchantillonnage avant de fractionner les données peut permettre aux mêmes observations d'être présentes à la fois dans les ensembles de test et de train. Cela peut permettre à notre modèle de simplement mémoriser des points de données spécifiques et entraîner un surajustement et une mauvaise généralisation des données de test."
      ]
    },
    {
      "cell_type": "code",
      "metadata": {
        "id": "1GD5K682rnmo"
      },
      "source": [
        "# 'resample' is located under sklearn.utils\n",
        "from sklearn.utils import resample"
      ],
      "execution_count": 29,
      "outputs": []
    },
    {
      "cell_type": "code",
      "metadata": {
        "id": "hUbIyU3psRZY"
      },
      "source": [
        "# concatenate training data back together\n",
        "train_data = pd.concat([X_train, Y_train], axis = 1)"
      ],
      "execution_count": 30,
      "outputs": []
    },
    {
      "cell_type": "code",
      "metadata": {
        "id": "qqbcq46ssU1d"
      },
      "source": [
        "# separate minority and majority class\n",
        "not_fraud = train_data[train_data.isFraud==0]\n",
        "fraud = train_data[train_data.isFraud==1]"
      ],
      "execution_count": 31,
      "outputs": []
    },
    {
      "cell_type": "code",
      "metadata": {
        "id": "phw2VsyTpGsZ"
      },
      "source": [
        "# Unsample minority; we are oversampling the minority class to match the number of majority classs\n",
        "fraud_upsampled = resample(fraud,\n",
        "                           replace = True, # Sample with replacement\n",
        "                           n_samples = len(not_fraud), # Match number in majority class\n",
        "                           random_state=27)"
      ],
      "execution_count": 32,
      "outputs": []
    },
    {
      "cell_type": "code",
      "metadata": {
        "id": "pGeutaLase-O"
      },
      "source": [
        "# combine majority and upsampled minority\n",
        "upsampled = pd.concat([not_fraud, fraud_upsampled])"
      ],
      "execution_count": 33,
      "outputs": []
    },
    {
      "cell_type": "code",
      "metadata": {
        "id": "N15B1LCKs-pm",
        "colab": {
          "base_uri": "https://localhost:8080/"
        },
        "outputId": "05291478-1488-45f3-c145-76521184b278"
      },
      "source": [
        "# Now let's check the classes count\n",
        "upsampled.isFraud.value_counts()"
      ],
      "execution_count": 34,
      "outputs": [
        {
          "output_type": "execute_result",
          "data": {
            "text/plain": [
              "1    39942\n",
              "0    39942\n",
              "Name: isFraud, dtype: int64"
            ]
          },
          "metadata": {
            "tags": []
          },
          "execution_count": 34
        }
      ]
    },
    {
      "cell_type": "markdown",
      "metadata": {
        "id": "JGaghffhtaO-"
      },
      "source": [
        "Nous pouvons remarquer ici qu'après rééchantillonnage, nous avons un rapport égal de points de données pour chaque classe!"
      ]
    },
    {
      "cell_type": "markdown",
      "metadata": {
        "id": "_ybIjKt0trra"
      },
      "source": [
        "2. **Techniques de rééchantillonnage - Sous-échantillonnage de la classe majoritaire:** Le sous-échantillonnage peut être défini comme la suppression de certaines observations de la classe majoritaire. Le sous-échantillonnage peut être un bon choix lorsque vous avez une tonne de données - pensez à des millions de lignes. Mais un inconvénient est que nous supprimons les informations qui peuvent être précieuses. Cela pourrait conduire à un sous-ajustement et à une mauvaise généralisation de l'ensemble de test.\n",
        "\n",
        "Nous utiliserons à nouveau le module de rééchantillonnage de Scikit-Learn pour supprimer aléatoirement des échantillons de la classe majoritaire."
      ]
    },
    {
      "cell_type": "code",
      "metadata": {
        "id": "dmnu-yEftWeb"
      },
      "source": [
        "# we are still using our separated class i.e. fraud and not_fraud from above\n",
        "# Again we are removing the observations of the majority class to mathch the number of minority class\n",
        "# downsample majority\n",
        "not_fraud_downsampled = resample(not_fraud,\n",
        "                                replace = False, # sample without replacement\n",
        "                                n_samples = len(fraud), # match minority n\n",
        "                                random_state = 27)"
      ],
      "execution_count": 35,
      "outputs": []
    },
    {
      "cell_type": "code",
      "metadata": {
        "id": "oOVSn71bujZI"
      },
      "source": [
        "# combine minority and downsampled majority\n",
        "downsampled = pd.concat([not_fraud_downsampled, fraud])    # Concatenation"
      ],
      "execution_count": 36,
      "outputs": []
    },
    {
      "cell_type": "code",
      "metadata": {
        "id": "f1w8CVgjuoY4",
        "colab": {
          "base_uri": "https://localhost:8080/"
        },
        "outputId": "591c726b-ee68-421b-b318-f6533832f34b"
      },
      "source": [
        "# let's check the classes counts\n",
        "downsampled.isFraud.value_counts()"
      ],
      "execution_count": 37,
      "outputs": [
        {
          "output_type": "execute_result",
          "data": {
            "text/plain": [
              "1    1395\n",
              "0    1395\n",
              "Name: isFraud, dtype: int64"
            ]
          },
          "metadata": {
            "tags": []
          },
          "execution_count": 37
        }
      ]
    },
    {
      "cell_type": "markdown",
      "metadata": {
        "id": "sx5AkNhxu0FD"
      },
      "source": [
        "Encore une fois, nous avons un ratio égal de points de données sur la fraude et non sur la fraude, mais dans ce cas, une quantité beaucoup plus petite de données sur laquelle former le modèle."
      ]
    },
    {
      "cell_type": "markdown",
      "metadata": {
        "id": "u9vPjbAMvDFX"
      },
      "source": [
        "3. **Générer des échantillons synthétiques:** Ici, nous utiliserons la technique de suréchantillonnage SMOTE ou de minorité synthétique d'imblearn. SMOTE utilise un algorithme de voisins les plus proches pour générer des données nouvelles et synthétiques que nous pouvons utiliser pour entraîner notre modèle.\n",
        "\n",
        "Encore une fois, il est important de générer les nouveaux échantillons uniquement dans l'ensemble de formation pour garantir que notre modèle se généralise bien aux données invisibles."
      ]
    },
    {
      "cell_type": "code",
      "metadata": {
        "id": "FWkp26p-uwF2"
      },
      "source": [
        "# import SMOTE \n",
        "from imblearn.over_sampling import SMOTE\n",
        "\n",
        "sm = SMOTE(random_state = 25, ratio = 1.0)   # again we are eqalizing both the classes"
      ],
      "execution_count": 38,
      "outputs": []
    },
    {
      "cell_type": "code",
      "metadata": {
        "id": "Yf7sHze_wFJp"
      },
      "source": [
        "# fit the sampling\n",
        "X_train, Y_train = sm.fit_sample(X_train, Y_train)"
      ],
      "execution_count": 39,
      "outputs": []
    },
    {
      "cell_type": "code",
      "metadata": {
        "id": "15XOWmqPwULH",
        "colab": {
          "base_uri": "https://localhost:8080/"
        },
        "outputId": "57803bd3-7f68-4003-d4e6-19c563a7b792"
      },
      "source": [
        "np.unique(Y_train, return_counts=True)     # Y_train is numpy array, so unique() functions returns the count of all the unique elements in the array"
      ],
      "execution_count": 40,
      "outputs": [
        {
          "output_type": "execute_result",
          "data": {
            "text/plain": [
              "(array([0, 1]), array([39942, 39942]))"
            ]
          },
          "metadata": {
            "tags": []
          },
          "execution_count": 40
        }
      ]
    },
    {
      "cell_type": "markdown",
      "metadata": {
        "id": "j8m9UNkRw1LV"
      },
      "source": [
        "Le nombre des deux classes est égal."
      ]
    },
    {
      "cell_type": "markdown",
      "metadata": {
        "id": "Sl6WJORKxB-U"
      },
      "source": [
        "## Conclusion\n",
        "C'est tout pour ce cahier. Nous avons appris à gérer les valeurs manquantes, un encodage à chaud, la standardisation / normalisation, ce qu'est une classe déséquilibrée et trois techniques pour gérer les classes déséquilibrées.\n",
        "\n",
        "**Remarque:** Je n'ai pas couvert la partie de la construction de modèles ici mais nous aurons bientôt une session sur '**Construire votre premier modèle d'apprentissage automatique**' par **Chanukya Patnaik**.\n",
        "\n",
        "# Merci d'avoir lu le cahier! J'espère que vous en avez profité."
      ]
    },
    {
      "cell_type": "markdown",
      "metadata": {
        "id": "UTylM0lIybDT"
      },
      "source": [
        "Références:\n",
        "1. [Dealing with Imbalanced Data by Tara Boyle](https://towardsdatascience.com/methods-for-dealing-with-imbalanced-data-5b761be45a18)\n",
        "2. [Data Pre-processing - Handling missing values and dealing with class imbalance by Bharat Ram Ammu](https://www.youtube.com/watch?v=vksQx1JNo8Y)\n"
      ]
    }
  ]
}
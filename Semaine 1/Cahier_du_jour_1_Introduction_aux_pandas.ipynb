{
  "nbformat": 4,
  "nbformat_minor": 0,
  "metadata": {
    "colab": {
      "name": "Cahier du jour 1: Introduction aux pandas ",
      "provenance": [],
      "collapsed_sections": []
    },
    "kernelspec": {
      "display_name": "Python 3",
      "language": "python",
      "name": "python3"
    },
    "language_info": {
      "codemirror_mode": {
        "name": "ipython",
        "version": 3
      },
      "file_extension": ".py",
      "mimetype": "text/x-python",
      "name": "python",
      "nbconvert_exporter": "python",
      "pygments_lexer": "ipython3",
      "version": "3.7.5"
    }
  },
  "cells": [
    {
      "cell_type": "markdown",
      "metadata": {
        "id": "v8JFOvfT4Yak"
      },
      "source": [
        "# Semaine 1\n",
        "# Semaine 1`Pandas`, bibliothèque d'analyse de données\n"
      ]
    },
    {
      "cell_type": "markdown",
      "metadata": {
        "id": "jkrUwMKIbb5X"
      },
      "source": [
        ""
      ]
    },
    {
      "cell_type": "markdown",
      "metadata": {
        "id": "wrkhz-y-4Yax"
      },
      "source": [
        "«Pandas» est une bibliothèque d'analyse de données qui fournit une variété de structures de données et de méthodes de manipulation de données qui permettent d'effectuer des tâches complexes avec de simples commandes d'une seule ligne.\n",
        "\n",
        "Dans les sections suivantes, nous travaillerons sur la bibliothèque `Pandas` et ses utilisations. Nous examinerons comment les objets sont définis par les «pandas», en opérant leurs valeurs et en exécutant une série d'opérations importantes pour l'analyse des données. Commençons!"
      ]
    },
    {
      "cell_type": "markdown",
      "metadata": {
        "id": "sDKBErWbSFAI"
      },
      "source": [
        "## 1. Installation et utilisation de Pandas"
      ]
    },
    {
      "cell_type": "markdown",
      "metadata": {
        "id": "6MFFlPwB4YbA"
      },
      "source": [
        "Le téléchargement et l'installation du processus de la bibliothèque `pandas` peuvent être effectués via le système de gestion de paquets standard` pip`, en exécutant dans la console de votre environnement local cette seule ligne:\n",
        "\n",
        "`pip installer des pandas`\n",
        "\n",
        "Une fois installé, nous pouvons l'importer de la manière suivante:"
      ]
    },
    {
      "cell_type": "code",
      "metadata": {
        "id": "9YdVFFU9R-rB",
        "outputId": "e72da0ce-092d-4d23-ecc1-c0aa46000df1",
        "colab": {
          "base_uri": "https://localhost:8080/",
          "height": 35
        }
      },
      "source": [
        "import pandas\n",
        "pandas.__version__"
      ],
      "execution_count": null,
      "outputs": [
        {
          "output_type": "execute_result",
          "data": {
            "application/vnd.google.colaboratory.intrinsic+json": {
              "type": "string"
            },
            "text/plain": [
              "'1.1.2'"
            ]
          },
          "metadata": {
            "tags": []
          },
          "execution_count": 1
        }
      ]
    },
    {
      "cell_type": "markdown",
      "metadata": {
        "id": "w90rwwtb4Yb2"
      },
      "source": [
        "Il est recommandé de créer l'alias `pd` pour` pandas`:"
      ]
    },
    {
      "cell_type": "code",
      "metadata": {
        "id": "eAPiNAf1SU0E"
      },
      "source": [
        "import pandas as pd"
      ],
      "execution_count": null,
      "outputs": []
    },
    {
      "cell_type": "markdown",
      "metadata": {
        "id": "10YQkXh1Smjm"
      },
      "source": [
        "## 2. Révision des objets Pandas"
      ]
    },
    {
      "cell_type": "markdown",
      "metadata": {
        "id": "WTZfSc5y4YcJ"
      },
      "source": [
        "Au cœur de la bibliothèque `` pandas '', il y a deux structures de données / objets fondamentaux:\n",
        "1. **`Series`**: stocke les données d'une seule colonne avec un ** index **. Un index est juste un moyen de \"numéroter\" l'objet `Series`.\n",
        "2. **`DataFrame`**: est une structure de données tabulaire bidimensionnelle avec des axes étiquetés. Il est conceptuellement utile de considérer un objet `DataFrame` comme une collection d'objets` Series`. Autrement dit, considérez chaque colonne dans un DataFrame comme un objet unique dans la «Series», où chacun de ces objets de la «Series» partage un index commun: l'index de l'objet «DataFrame».\n",
        "\n",
        "Importons les bibliothèques nécessaires et nous approfondirons chacun de ces concepts `pandas`:"
      ]
    },
    {
      "cell_type": "code",
      "metadata": {
        "id": "z-e4958eShTL"
      },
      "source": [
        "import numpy as np\n",
        "import pandas as pd"
      ],
      "execution_count": null,
      "outputs": []
    },
    {
      "cell_type": "markdown",
      "metadata": {
        "id": "qZmjwNm4Tv3n"
      },
      "source": [
        "### 2.1. Objet Pandas `Series`\n",
        "\n"
      ]
    },
    {
      "cell_type": "markdown",
      "metadata": {
        "id": "RQKyqlDMT6CW"
      },
      "source": [
        "Une `` série '' de Pandas est un tableau unidimensionnel de données indexées.\n",
        "Il peut être créé à partir d'une liste ou d'un tableau comme suit:"
      ]
    },
    {
      "cell_type": "code",
      "metadata": {
        "id": "K9HLemZBTp8P",
        "outputId": "92456b61-36a7-489a-d502-18d8fb3803fe",
        "colab": {
          "base_uri": "https://localhost:8080/",
          "height": 102
        }
      },
      "source": [
        "data = pd.Series([0.25, 0.5, 0.75, 1.0])\n",
        "data"
      ],
      "execution_count": null,
      "outputs": [
        {
          "output_type": "execute_result",
          "data": {
            "text/plain": [
              "0    0.25\n",
              "1    0.50\n",
              "2    0.75\n",
              "3    1.00\n",
              "dtype: float64"
            ]
          },
          "metadata": {
            "tags": []
          },
          "execution_count": 4
        }
      ]
    },
    {
      "cell_type": "markdown",
      "metadata": {
        "id": "c-RKCZxZUFc7"
      },
      "source": [
        "Comme nous le voyons dans la sortie, la `Series` encapsule à la fois une séquence de valeurs et une séquence d'indices commençant de 0 au nombre de valeurs ajoutées via la liste, auxquelles nous pouvons accéder avec les attributs` values` et ʻindex`. Les valeurs sont simplement un tableau familier `NumPy`:"
      ]
    },
    {
      "cell_type": "code",
      "metadata": {
        "id": "cBrmv_0nUE3n",
        "outputId": "9b816eee-bc9f-4b0a-e2ed-6b6b09fdc48b",
        "colab": {
          "base_uri": "https://localhost:8080/",
          "height": 34
        }
      },
      "source": [
        "data.values"
      ],
      "execution_count": null,
      "outputs": [
        {
          "output_type": "execute_result",
          "data": {
            "text/plain": [
              "array([0.25, 0.5 , 0.75, 1.  ])"
            ]
          },
          "metadata": {
            "tags": []
          },
          "execution_count": 5
        }
      ]
    },
    {
      "cell_type": "markdown",
      "metadata": {
        "id": "gOQTX-vbUOoJ"
      },
      "source": [
        "L'index est un objet de type tableau de type `pd.Index`."
      ]
    },
    {
      "cell_type": "code",
      "metadata": {
        "id": "js6OTpRsUMUF",
        "outputId": "ac829297-af46-4a8b-c13d-ae88204db305",
        "colab": {
          "base_uri": "https://localhost:8080/",
          "height": 34
        }
      },
      "source": [
        "data.index"
      ],
      "execution_count": null,
      "outputs": [
        {
          "output_type": "execute_result",
          "data": {
            "text/plain": [
              "RangeIndex(start=0, stop=4, step=1)"
            ]
          },
          "metadata": {
            "tags": []
          },
          "execution_count": 6
        }
      ]
    },
    {
      "cell_type": "markdown",
      "metadata": {
        "id": "3iq6Q7VqUUzH"
      },
      "source": [
        "Comme avec un tableau NumPy, les données sont accessibles par l'index associé via la notation familière de découpage entre crochets Python:"
      ]
    },
    {
      "cell_type": "code",
      "metadata": {
        "id": "qr241H-CURiv",
        "outputId": "f4fc291a-57a2-42ae-e543-3033b1289bf4",
        "colab": {
          "base_uri": "https://localhost:8080/",
          "height": 34
        }
      },
      "source": [
        "data[1]"
      ],
      "execution_count": null,
      "outputs": [
        {
          "output_type": "execute_result",
          "data": {
            "text/plain": [
              "0.5"
            ]
          },
          "metadata": {
            "tags": []
          },
          "execution_count": 7
        }
      ]
    },
    {
      "cell_type": "code",
      "metadata": {
        "id": "P9C3vWHdUXh3",
        "outputId": "2e85257b-2945-4d3c-baf4-45267529e36f",
        "colab": {
          "base_uri": "https://localhost:8080/",
          "height": 68
        }
      },
      "source": [
        "data[1:3]"
      ],
      "execution_count": null,
      "outputs": [
        {
          "output_type": "execute_result",
          "data": {
            "text/plain": [
              "1    0.50\n",
              "2    0.75\n",
              "dtype: float64"
            ]
          },
          "metadata": {
            "tags": []
          },
          "execution_count": 8
        }
      ]
    },
    {
      "cell_type": "markdown",
      "metadata": {
        "id": "uBmCmljvUw3n"
      },
      "source": [
        "Comme nous le verrons, la `` série '' de Pandas est beaucoup plus générale et flexible que le tableau NumPy unidimensionnel qu'elle émule."
      ]
    },
    {
      "cell_type": "markdown",
      "metadata": {
        "id": "-54odkZ5VsQw"
      },
      "source": [
        "#### 2.1.1. `Series` comme tableau NumPy généralisé"
      ]
    },
    {
      "cell_type": "markdown",
      "metadata": {
        "id": "j-cCX95-V1Vx"
      },
      "source": [
        "Le tableau `Numpy` a un index entier défini implicitement utilisé pour accéder aux valeurs. La «Série» Pandas a un «index» explicitement défini associé aux valeurs."
      ]
    },
    {
      "cell_type": "markdown",
      "metadata": {
        "id": "_vqQfEH6V8QS"
      },
      "source": [
        "Cette définition «index» explicite donne à l'objet «Series» des capacités supplémentaires. L '«index» n'a pas besoin d'une valeur entière obligatoire, mais peut être constitué de valeurs de n'importe quel type souhaité, comme nous pouvons le voir dans l'exemple suivant:"
      ]
    },
    {
      "cell_type": "code",
      "metadata": {
        "id": "-n6zOXzwUY70",
        "outputId": "30022668-edb9-4ff3-cdd8-441ee47afa84",
        "colab": {
          "base_uri": "https://localhost:8080/",
          "height": 102
        }
      },
      "source": [
        "data = pd.Series([0.25, 0.5, 0.75, 1.0],\n",
        "                 index=['a', 'b', 'c', 'd'])\n",
        "data"
      ],
      "execution_count": null,
      "outputs": [
        {
          "output_type": "execute_result",
          "data": {
            "text/plain": [
              "a    0.25\n",
              "b    0.50\n",
              "c    0.75\n",
              "d    1.00\n",
              "dtype: float64"
            ]
          },
          "metadata": {
            "tags": []
          },
          "execution_count": 9
        }
      ]
    },
    {
      "cell_type": "markdown",
      "metadata": {
        "id": "-ecFAE3o4YeE"
      },
      "source": [
        "Comme nous pouvons le voir, nous avons défini les indices comme des caractères de l'alphabet anglais. Un fait important est que le nombre d'indices définis correspond au nombre de valeurs ajoutées dans la \"Série\". Lors de l'accès aux valeurs associées aux index, il faut considérer la nouvelle nomenclature d'index et accéder aux valeurs avec le découpage commun:"
      ]
    },
    {
      "cell_type": "code",
      "metadata": {
        "id": "TVDgDkSsV0WJ",
        "outputId": "f62393fa-67f4-4d7c-a152-d90a7a953e96",
        "colab": {
          "base_uri": "https://localhost:8080/",
          "height": 34
        }
      },
      "source": [
        "data['b']"
      ],
      "execution_count": null,
      "outputs": [
        {
          "output_type": "execute_result",
          "data": {
            "text/plain": [
              "0.5"
            ]
          },
          "metadata": {
            "tags": []
          },
          "execution_count": 10
        }
      ]
    },
    {
      "cell_type": "markdown",
      "metadata": {
        "id": "my2sw_TJWEVd"
      },
      "source": [
        "We can even use non-contiguous or non-sequential indices (index), considering the number of defined indices corresponds to the number of added values in the `Series`:"
      ]
    },
    {
      "cell_type": "code",
      "metadata": {
        "id": "PgtEPrZmWCPd",
        "outputId": "b9cd8053-50d3-4599-982c-b4c1cad2f15b",
        "colab": {
          "base_uri": "https://localhost:8080/",
          "height": 102
        }
      },
      "source": [
        "data = pd.Series([0.25, 0.5, 0.75, 1.0],\n",
        "                 index=[2, 5, 3, 7])\n",
        "data"
      ],
      "execution_count": null,
      "outputs": [
        {
          "output_type": "execute_result",
          "data": {
            "text/plain": [
              "2    0.25\n",
              "5    0.50\n",
              "3    0.75\n",
              "7    1.00\n",
              "dtype: float64"
            ]
          },
          "metadata": {
            "tags": []
          },
          "execution_count": 11
        }
      ]
    },
    {
      "cell_type": "markdown",
      "metadata": {
        "id": "HZFMAd0V4YeZ"
      },
      "source": [
        "Et nous accédons aux valeurs en découpant les indices tels que:"
      ]
    },
    {
      "cell_type": "code",
      "metadata": {
        "id": "l7ZzVQ0NWG0_",
        "outputId": "57e9b2d2-dbfd-4f68-c04e-e9a83fec2bf6",
        "colab": {
          "base_uri": "https://localhost:8080/",
          "height": 34
        }
      },
      "source": [
        "data[5]"
      ],
      "execution_count": null,
      "outputs": [
        {
          "output_type": "execute_result",
          "data": {
            "text/plain": [
              "0.5"
            ]
          },
          "metadata": {
            "tags": []
          },
          "execution_count": 12
        }
      ]
    },
    {
      "cell_type": "markdown",
      "metadata": {
        "id": "C_GMWdaPWK3P"
      },
      "source": [
        "#### 2.1.2 Les «séries» en tant que dictionnaires spécialisés"
      ]
    },
    {
      "cell_type": "markdown",
      "metadata": {
        "id": "FvcZnAdGWf5S"
      },
      "source": [
        "Un dictionnaire est une structure qui mappe des clés arbitraires à un ensemble de valeurs arbitraires, et une «série» est une structure qui mappe des clés tapées à un ensemble de valeurs typées. Nous pouvons profiter de ces similitudes pour créer une «Série» à partir d'un dictionnaire, où les «clés» sont les «indices» de la «Série» et les «valeurs» sont celles associées à ces «indices»."
      ]
    },
    {
      "cell_type": "code",
      "metadata": {
        "id": "7redH09qWIUm",
        "outputId": "00b6f3b1-cbd6-4a0a-cd18-0f04b09a6831",
        "colab": {
          "base_uri": "https://localhost:8080/",
          "height": 119
        }
      },
      "source": [
        "population_dict = {'California': 38332521,\n",
        "                   'Texas': 26448193,\n",
        "                   'New York': 19651127,\n",
        "                   'Florida': 19552860,\n",
        "                   'Illinois': 12882135}\n",
        "population = pd.Series(population_dict)\n",
        "population"
      ],
      "execution_count": null,
      "outputs": [
        {
          "output_type": "execute_result",
          "data": {
            "text/plain": [
              "California    38332521\n",
              "Texas         26448193\n",
              "New York      19651127\n",
              "Florida       19552860\n",
              "Illinois      12882135\n",
              "dtype: int64"
            ]
          },
          "metadata": {
            "tags": []
          },
          "execution_count": 13
        }
      ]
    },
    {
      "cell_type": "markdown",
      "metadata": {
        "id": "PX2-yPcwWp-g"
      },
      "source": [
        "À partir de là, un accès typique aux éléments de style dictionnaire peut être effectué:"
      ]
    },
    {
      "cell_type": "code",
      "metadata": {
        "id": "J_1kNBEHWjU8",
        "outputId": "00e568c1-d288-4dca-8a14-8203d9d07acf",
        "colab": {
          "base_uri": "https://localhost:8080/",
          "height": 34
        }
      },
      "source": [
        "population['California']"
      ],
      "execution_count": null,
      "outputs": [
        {
          "output_type": "execute_result",
          "data": {
            "text/plain": [
              "38332521"
            ]
          },
          "metadata": {
            "tags": []
          },
          "execution_count": 14
        }
      ]
    },
    {
      "cell_type": "markdown",
      "metadata": {
        "id": "vq38Yb8lW6q1"
      },
      "source": [
        "Contrairement à un dictionnaire, la `` série '' prend également en charge les opérations de style tableau telles que le découpage:"
      ]
    },
    {
      "cell_type": "code",
      "metadata": {
        "id": "7g1hqM_JWrsQ",
        "outputId": "3855399c-8e7b-49b9-b8da-69fc510deb44",
        "colab": {
          "base_uri": "https://localhost:8080/",
          "height": 119
        }
      },
      "source": [
        "population['California':'Illinois']"
      ],
      "execution_count": null,
      "outputs": [
        {
          "output_type": "execute_result",
          "data": {
            "text/plain": [
              "California    38332521\n",
              "Texas         26448193\n",
              "New York      19651127\n",
              "Florida       19552860\n",
              "Illinois      12882135\n",
              "dtype: int64"
            ]
          },
          "metadata": {
            "tags": []
          },
          "execution_count": 15
        }
      ]
    },
    {
      "cell_type": "markdown",
      "metadata": {
        "id": "QrsnQQ33XIxD"
      },
      "source": [
        "### 2.2. Objet Pandas `DataFrame`"
      ]
    },
    {
      "cell_type": "markdown",
      "metadata": {
        "id": "csNIAbs0XWuA"
      },
      "source": [
        "Un ``DataFrame'' est un analogue d'un tableau à deux dimensions avec à la fois des indices de ligne flexibles et des noms de colonne flexibles.\n",
        "Tout comme vous pourriez penser à un tableau bidimensionnel comme une séquence ordonnée de colonnes unidimensionnelles alignées, vous pouvez considérer un `` DataFrame '' comme une séquence d'objets `` Série '' alignés.\n",
        "Ici, par «aligné», nous entendons qu'ils partagent le même indice.\n",
        "\n",
        "Pour le démontrer, construisons d'abord une nouvelle `` Série '' listant la zone de chacun des cinq états discutés dans la section précédente:"
      ]
    },
    {
      "cell_type": "code",
      "metadata": {
        "id": "yxihQyz5W8s6",
        "outputId": "15c3cbd6-19e5-4a26-8e03-2639f666efd5",
        "colab": {
          "base_uri": "https://localhost:8080/",
          "height": 119
        }
      },
      "source": [
        "area_dict = {'California': 423967, 'Texas': 695662, 'New York': 141297,\n",
        "             'Florida': 170312, 'Illinois': 149995}\n",
        "area = pd.Series(area_dict)\n",
        "area"
      ],
      "execution_count": null,
      "outputs": [
        {
          "output_type": "execute_result",
          "data": {
            "text/plain": [
              "California    423967\n",
              "Texas         695662\n",
              "New York      141297\n",
              "Florida       170312\n",
              "Illinois      149995\n",
              "dtype: int64"
            ]
          },
          "metadata": {
            "tags": []
          },
          "execution_count": 16
        }
      ]
    },
    {
      "cell_type": "markdown",
      "metadata": {
        "id": "YxznvrIRXj_F"
      },
      "source": [
        "Maintenant que nous l'avons avec la série `` population '' d'avant, nous pouvons utiliser un dictionnaire pour construire un seul objet bidimensionnel contenant ces informations:"
      ]
    },
    {
      "cell_type": "code",
      "metadata": {
        "id": "4gIwq7f7XaUo",
        "outputId": "73807993-985c-4130-c772-cd75f0832ef3",
        "colab": {
          "base_uri": "https://localhost:8080/",
          "height": 204
        }
      },
      "source": [
        "states = pd.DataFrame({'population': population,\n",
        "                       'area': area})\n",
        "states"
      ],
      "execution_count": null,
      "outputs": [
        {
          "output_type": "execute_result",
          "data": {
            "text/html": [
              "<div>\n",
              "<style scoped>\n",
              "    .dataframe tbody tr th:only-of-type {\n",
              "        vertical-align: middle;\n",
              "    }\n",
              "\n",
              "    .dataframe tbody tr th {\n",
              "        vertical-align: top;\n",
              "    }\n",
              "\n",
              "    .dataframe thead th {\n",
              "        text-align: right;\n",
              "    }\n",
              "</style>\n",
              "<table border=\"1\" class=\"dataframe\">\n",
              "  <thead>\n",
              "    <tr style=\"text-align: right;\">\n",
              "      <th></th>\n",
              "      <th>population</th>\n",
              "      <th>area</th>\n",
              "    </tr>\n",
              "  </thead>\n",
              "  <tbody>\n",
              "    <tr>\n",
              "      <th>California</th>\n",
              "      <td>38332521</td>\n",
              "      <td>423967</td>\n",
              "    </tr>\n",
              "    <tr>\n",
              "      <th>Texas</th>\n",
              "      <td>26448193</td>\n",
              "      <td>695662</td>\n",
              "    </tr>\n",
              "    <tr>\n",
              "      <th>New York</th>\n",
              "      <td>19651127</td>\n",
              "      <td>141297</td>\n",
              "    </tr>\n",
              "    <tr>\n",
              "      <th>Florida</th>\n",
              "      <td>19552860</td>\n",
              "      <td>170312</td>\n",
              "    </tr>\n",
              "    <tr>\n",
              "      <th>Illinois</th>\n",
              "      <td>12882135</td>\n",
              "      <td>149995</td>\n",
              "    </tr>\n",
              "  </tbody>\n",
              "</table>\n",
              "</div>"
            ],
            "text/plain": [
              "            population    area\n",
              "California    38332521  423967\n",
              "Texas         26448193  695662\n",
              "New York      19651127  141297\n",
              "Florida       19552860  170312\n",
              "Illinois      12882135  149995"
            ]
          },
          "metadata": {
            "tags": []
          },
          "execution_count": 17
        }
      ]
    },
    {
      "cell_type": "markdown",
      "metadata": {
        "id": "aZPy1KcoXo2x"
      },
      "source": [
        "Comme l'objet `` Series``, le `` DataFrame`` possède un attribut `ʻindex`` qui donne accès aux étiquettes d'index:"
      ]
    },
    {
      "cell_type": "code",
      "metadata": {
        "id": "Yvymj7g4Xl03",
        "outputId": "1e695563-1f1d-455c-ede0-27614f9e2359",
        "colab": {
          "base_uri": "https://localhost:8080/",
          "height": 34
        }
      },
      "source": [
        "states.index"
      ],
      "execution_count": null,
      "outputs": [
        {
          "output_type": "execute_result",
          "data": {
            "text/plain": [
              "Index(['California', 'Texas', 'New York', 'Florida', 'Illinois'], dtype='object')"
            ]
          },
          "metadata": {
            "tags": []
          },
          "execution_count": 18
        }
      ]
    },
    {
      "cell_type": "markdown",
      "metadata": {
        "id": "AvgpnWh1Xtq_"
      },
      "source": [
        "De plus, le `` DataFrame`` a un attribut `` columns``, qui est un objet `ʻIndex`` contenant les étiquettes de colonne:"
      ]
    },
    {
      "cell_type": "code",
      "metadata": {
        "id": "Pf6XodkhXqW9",
        "outputId": "1d3b3ff7-d9a3-4a5c-aed7-df4f0da9f357",
        "colab": {
          "base_uri": "https://localhost:8080/",
          "height": 34
        }
      },
      "source": [
        "states.columns"
      ],
      "execution_count": null,
      "outputs": [
        {
          "output_type": "execute_result",
          "data": {
            "text/plain": [
              "Index(['population', 'area'], dtype='object')"
            ]
          },
          "metadata": {
            "tags": []
          },
          "execution_count": 19
        }
      ]
    },
    {
      "cell_type": "markdown",
      "metadata": {
        "id": "3cXAlI-rX1je"
      },
      "source": [
        "Ainsi, le `` DataFrame '' peut être considéré comme une généralisation d'un tableau NumPy à deux dimensions, où les lignes et les colonnes ont un index généralisé pour accéder aux données."
      ]
    },
    {
      "cell_type": "markdown",
      "metadata": {
        "id": "IihmEYCs4Yf6"
      },
      "source": [
        "Certaines fonctions et attributs nous permettent d'observer des informations de base sur les données stockées dans un objet `DataFrame`:\n",
        "\n",
        "1. `DataFrame.head ()` -> renvoie le contenu des 5 premières lignes, par défaut\n",
        "2. `DataFrame.tail ()` -> renvoie le contenu des 5 dernières lignes, par défaut\n",
        "3. `DataFrame.shape` -> renvoie un tuple de la forme (num_rows, num_columns)\n",
        "4. `DataFrame.columns` -> renvoie le nom des colonnes\n",
        "5. `DataFrame.index` -> renvoie l'index des lignes\n",
        "\n",
        "En utilisant `` data.head () '' et `` data.tail () '', nous pouvons voir le contenu des données. Sauf indication contraire, les objets `DataFrame` et` Series` ont des index commençant à 0 et incrémentés de manière monotone et incrémentielle sous forme d'entiers."
      ]
    },
    {
      "cell_type": "code",
      "metadata": {
        "id": "nZpzlJvr4Yf8",
        "outputId": "7359d176-1fce-4563-ba15-b93286747fb0",
        "colab": {
          "base_uri": "https://localhost:8080/",
          "height": 142
        }
      },
      "source": [
        "states.head(3) # The first three rows"
      ],
      "execution_count": null,
      "outputs": [
        {
          "output_type": "execute_result",
          "data": {
            "text/html": [
              "<div>\n",
              "<style scoped>\n",
              "    .dataframe tbody tr th:only-of-type {\n",
              "        vertical-align: middle;\n",
              "    }\n",
              "\n",
              "    .dataframe tbody tr th {\n",
              "        vertical-align: top;\n",
              "    }\n",
              "\n",
              "    .dataframe thead th {\n",
              "        text-align: right;\n",
              "    }\n",
              "</style>\n",
              "<table border=\"1\" class=\"dataframe\">\n",
              "  <thead>\n",
              "    <tr style=\"text-align: right;\">\n",
              "      <th></th>\n",
              "      <th>population</th>\n",
              "      <th>area</th>\n",
              "    </tr>\n",
              "  </thead>\n",
              "  <tbody>\n",
              "    <tr>\n",
              "      <th>California</th>\n",
              "      <td>38332521</td>\n",
              "      <td>423967</td>\n",
              "    </tr>\n",
              "    <tr>\n",
              "      <th>Texas</th>\n",
              "      <td>26448193</td>\n",
              "      <td>695662</td>\n",
              "    </tr>\n",
              "    <tr>\n",
              "      <th>New York</th>\n",
              "      <td>19651127</td>\n",
              "      <td>141297</td>\n",
              "    </tr>\n",
              "  </tbody>\n",
              "</table>\n",
              "</div>"
            ],
            "text/plain": [
              "            population    area\n",
              "California    38332521  423967\n",
              "Texas         26448193  695662\n",
              "New York      19651127  141297"
            ]
          },
          "metadata": {
            "tags": []
          },
          "execution_count": 20
        }
      ]
    },
    {
      "cell_type": "code",
      "metadata": {
        "id": "dGbPhrX-4YgE",
        "outputId": "74e4c68a-ad6b-408b-8da5-b12e0f461a8f",
        "colab": {
          "base_uri": "https://localhost:8080/",
          "height": 142
        }
      },
      "source": [
        "states.tail(3) # The last three rows"
      ],
      "execution_count": null,
      "outputs": [
        {
          "output_type": "execute_result",
          "data": {
            "text/html": [
              "<div>\n",
              "<style scoped>\n",
              "    .dataframe tbody tr th:only-of-type {\n",
              "        vertical-align: middle;\n",
              "    }\n",
              "\n",
              "    .dataframe tbody tr th {\n",
              "        vertical-align: top;\n",
              "    }\n",
              "\n",
              "    .dataframe thead th {\n",
              "        text-align: right;\n",
              "    }\n",
              "</style>\n",
              "<table border=\"1\" class=\"dataframe\">\n",
              "  <thead>\n",
              "    <tr style=\"text-align: right;\">\n",
              "      <th></th>\n",
              "      <th>population</th>\n",
              "      <th>area</th>\n",
              "    </tr>\n",
              "  </thead>\n",
              "  <tbody>\n",
              "    <tr>\n",
              "      <th>New York</th>\n",
              "      <td>19651127</td>\n",
              "      <td>141297</td>\n",
              "    </tr>\n",
              "    <tr>\n",
              "      <th>Florida</th>\n",
              "      <td>19552860</td>\n",
              "      <td>170312</td>\n",
              "    </tr>\n",
              "    <tr>\n",
              "      <th>Illinois</th>\n",
              "      <td>12882135</td>\n",
              "      <td>149995</td>\n",
              "    </tr>\n",
              "  </tbody>\n",
              "</table>\n",
              "</div>"
            ],
            "text/plain": [
              "          population    area\n",
              "New York    19651127  141297\n",
              "Florida     19552860  170312\n",
              "Illinois    12882135  149995"
            ]
          },
          "metadata": {
            "tags": []
          },
          "execution_count": 21
        }
      ]
    },
    {
      "cell_type": "markdown",
      "metadata": {
        "id": "J9CIkU51YdET"
      },
      "source": [
        "### 2.3. Objet Pandas ʻIndex`\n",
        "\n",
        "Cet objet `ʻIndex`` est une structure intéressante en lui-même, et il peut être pensé comme un * tableau immuable *:"
      ]
    },
    {
      "cell_type": "code",
      "metadata": {
        "id": "VBFPXJ_1Xwyj",
        "outputId": "67e21f0b-f792-4576-acca-4dd5308775d4",
        "colab": {
          "base_uri": "https://localhost:8080/",
          "height": 34
        }
      },
      "source": [
        "ind = pd.Index([2, 3, 5, 7, 11])\n",
        "ind"
      ],
      "execution_count": null,
      "outputs": [
        {
          "output_type": "execute_result",
          "data": {
            "text/plain": [
              "Int64Index([2, 3, 5, 7, 11], dtype='int64')"
            ]
          },
          "metadata": {
            "tags": []
          },
          "execution_count": 22
        }
      ]
    },
    {
      "cell_type": "markdown",
      "metadata": {
        "id": "bcpiAVRj4YgS"
      },
      "source": [
        "Cet objet d'index peut être découpé sous forme de liste ou de tableau numpy:"
      ]
    },
    {
      "cell_type": "code",
      "metadata": {
        "id": "YL0A6HoiYno4",
        "outputId": "d03f78ad-b86c-49ca-9096-10e81e2250f6",
        "colab": {
          "base_uri": "https://localhost:8080/",
          "height": 34
        }
      },
      "source": [
        "ind[1] # Accessing element in position 1"
      ],
      "execution_count": null,
      "outputs": [
        {
          "output_type": "execute_result",
          "data": {
            "text/plain": [
              "3"
            ]
          },
          "metadata": {
            "tags": []
          },
          "execution_count": 23
        }
      ]
    },
    {
      "cell_type": "code",
      "metadata": {
        "id": "_w6Gkc1nYpB1",
        "outputId": "630ebf28-8509-4bb2-8bc6-088b231eaf8d",
        "colab": {
          "base_uri": "https://localhost:8080/",
          "height": 34
        }
      },
      "source": [
        "ind[::2] # Accessing elements starting from position 0 through all the elements two by two."
      ],
      "execution_count": null,
      "outputs": [
        {
          "output_type": "execute_result",
          "data": {
            "text/plain": [
              "Int64Index([2, 5, 11], dtype='int64')"
            ]
          },
          "metadata": {
            "tags": []
          },
          "execution_count": 24
        }
      ]
    },
    {
      "cell_type": "markdown",
      "metadata": {
        "id": "STd6x0Zw4Ygf"
      },
      "source": [
        "Quelques attributs communs avec les tableaux `Numpy`:"
      ]
    },
    {
      "cell_type": "code",
      "metadata": {
        "id": "SdPm35JMYqju",
        "outputId": "5859c36d-38bd-4833-fe51-25c5d60daabd",
        "colab": {
          "base_uri": "https://localhost:8080/",
          "height": 85
        }
      },
      "source": [
        "print(' Size:',ind.size,'\\n',\n",
        "      'Shape:',ind.shape,'\\n',\n",
        "      'Dimension:',ind.ndim,'\\n', \n",
        "      'Data type:',ind.dtype)"
      ],
      "execution_count": null,
      "outputs": [
        {
          "output_type": "stream",
          "text": [
            " Size: 5 \n",
            " Shape: (5,) \n",
            " Dimension: 1 \n",
            " Data type: int64\n"
          ],
          "name": "stdout"
        }
      ]
    },
    {
      "cell_type": "markdown",
      "metadata": {
        "id": "AOB8_VkqYyB8"
      },
      "source": [
        "Une différence entre les objets «Index» et les tableaux «Numpy» est que les indices sont **immuables**. Autrement dit, ils ne peuvent pas être modifiés via les moyens normaux, ce qui entraînera une erreur:"
      ]
    },
    {
      "cell_type": "code",
      "metadata": {
        "id": "HFy9E1v1YtEY",
        "outputId": "c1756844-d09b-47ae-aabe-df8d9fe320a3",
        "colab": {
          "base_uri": "https://localhost:8080/",
          "height": 282
        }
      },
      "source": [
        "ind[1] = 0"
      ],
      "execution_count": null,
      "outputs": [
        {
          "output_type": "error",
          "ename": "TypeError",
          "evalue": "ignored",
          "traceback": [
            "\u001b[0;31m---------------------------------------------------------------------------\u001b[0m",
            "\u001b[0;31mTypeError\u001b[0m                                 Traceback (most recent call last)",
            "\u001b[0;32m<ipython-input-26-906a9fa1424c>\u001b[0m in \u001b[0;36m<module>\u001b[0;34m()\u001b[0m\n\u001b[0;32m----> 1\u001b[0;31m \u001b[0mind\u001b[0m\u001b[0;34m[\u001b[0m\u001b[0;36m1\u001b[0m\u001b[0;34m]\u001b[0m \u001b[0;34m=\u001b[0m \u001b[0;36m0\u001b[0m\u001b[0;34m\u001b[0m\u001b[0;34m\u001b[0m\u001b[0m\n\u001b[0m",
            "\u001b[0;32m/usr/local/lib/python3.6/dist-packages/pandas/core/indexes/base.py\u001b[0m in \u001b[0;36m__setitem__\u001b[0;34m(self, key, value)\u001b[0m\n\u001b[1;32m   4075\u001b[0m \u001b[0;34m\u001b[0m\u001b[0m\n\u001b[1;32m   4076\u001b[0m     \u001b[0;32mdef\u001b[0m \u001b[0m__setitem__\u001b[0m\u001b[0;34m(\u001b[0m\u001b[0mself\u001b[0m\u001b[0;34m,\u001b[0m \u001b[0mkey\u001b[0m\u001b[0;34m,\u001b[0m \u001b[0mvalue\u001b[0m\u001b[0;34m)\u001b[0m\u001b[0;34m:\u001b[0m\u001b[0;34m\u001b[0m\u001b[0;34m\u001b[0m\u001b[0m\n\u001b[0;32m-> 4077\u001b[0;31m         \u001b[0;32mraise\u001b[0m \u001b[0mTypeError\u001b[0m\u001b[0;34m(\u001b[0m\u001b[0;34m\"Index does not support mutable operations\"\u001b[0m\u001b[0;34m)\u001b[0m\u001b[0;34m\u001b[0m\u001b[0;34m\u001b[0m\u001b[0m\n\u001b[0m\u001b[1;32m   4078\u001b[0m \u001b[0;34m\u001b[0m\u001b[0m\n\u001b[1;32m   4079\u001b[0m     \u001b[0;32mdef\u001b[0m \u001b[0m__getitem__\u001b[0m\u001b[0;34m(\u001b[0m\u001b[0mself\u001b[0m\u001b[0;34m,\u001b[0m \u001b[0mkey\u001b[0m\u001b[0;34m)\u001b[0m\u001b[0;34m:\u001b[0m\u001b[0;34m\u001b[0m\u001b[0;34m\u001b[0m\u001b[0m\n",
            "\u001b[0;31mTypeError\u001b[0m: Index does not support mutable operations"
          ]
        }
      ]
    },
    {
      "cell_type": "markdown",
      "metadata": {
        "id": "NlKz6ms_azwG"
      },
      "source": [
        "## 3. Indexation et sélection des données"
      ]
    },
    {
      "cell_type": "markdown",
      "metadata": {
        "id": "QwSgdcxm4Ygw"
      },
      "source": [
        "Let's see in detail how to access the elements of the `Series` and `DataFrames` objects."
      ]
    },
    {
      "cell_type": "markdown",
      "metadata": {
        "id": "leTpYZAXa442"
      },
      "source": [
        "### 3.1. Sélection de données dans `Series`"
      ]
    },
    {
      "cell_type": "markdown",
      "metadata": {
        "id": "a7uKXu1W4Yg1"
      },
      "source": [
        "Redéfinissons un objet `Series` à des fins explicatives:"
      ]
    },
    {
      "cell_type": "code",
      "metadata": {
        "id": "IwqXVDfyYz0S",
        "outputId": "1772e214-edb0-4257-ea82-c9c61669a154",
        "colab": {
          "base_uri": "https://localhost:8080/",
          "height": 102
        }
      },
      "source": [
        "data = pd.Series([0.25, 0.5, 0.75, 1.0],\n",
        "                 index=['a', 'b', 'c', 'd'])\n",
        "data"
      ],
      "execution_count": null,
      "outputs": [
        {
          "output_type": "execute_result",
          "data": {
            "text/plain": [
              "a    0.25\n",
              "b    0.50\n",
              "c    0.75\n",
              "d    1.00\n",
              "dtype: float64"
            ]
          },
          "metadata": {
            "tags": []
          },
          "execution_count": 27
        }
      ]
    },
    {
      "cell_type": "markdown",
      "metadata": {
        "id": "E2rAGgy_4Yg7"
      },
      "source": [
        "En plus d'accéder aux éléments d'une `Série` en découpant les index, nous pouvons mettre à jour les valeurs qui leur sont associées comme:"
      ]
    },
    {
      "cell_type": "code",
      "metadata": {
        "id": "N4GEiF3Q4Yg8"
      },
      "source": [
        "data['d'] = 0.95 # updating the value associated with 'd' index in Series object\n",
        "data"
      ],
      "execution_count": null,
      "outputs": []
    },
    {
      "cell_type": "markdown",
      "metadata": {
        "id": "wbDAa1WJ4YhA"
      },
      "source": [
        "Nous pouvons également ajouter une nouvelle valeur en utilisant la même procédure, comme nous le ferions avec un dictionnaire:"
      ]
    },
    {
      "cell_type": "code",
      "metadata": {
        "id": "LI3ZI3DibAc8"
      },
      "source": [
        "data['e'] = 1.25 # New value added with 'e' index in Series object\n",
        "data"
      ],
      "execution_count": null,
      "outputs": []
    },
    {
      "cell_type": "markdown",
      "metadata": {
        "id": "sG5WWUqB4YhJ"
      },
      "source": [
        "L'accès par découpage peut être effectué *explicitement* ou *implicitement* via une plage, telle que:"
      ]
    },
    {
      "cell_type": "code",
      "metadata": {
        "id": "z0-Eh-lebFL8"
      },
      "source": [
        "# slicing by explicit index\n",
        "data['a':'c']"
      ],
      "execution_count": null,
      "outputs": []
    },
    {
      "cell_type": "code",
      "metadata": {
        "id": "h8uwmr0HbLvh"
      },
      "source": [
        "# slicing by implicit integer index\n",
        "data[0:2]"
      ],
      "execution_count": null,
      "outputs": []
    },
    {
      "cell_type": "markdown",
      "metadata": {
        "id": "RhaWB93v4YhZ"
      },
      "source": [
        "On peut accéder à un groupe d'indices spécifiques en incluant ces indices dans une liste, de telle manière que l'accès se fait comme suit:"
      ]
    },
    {
      "cell_type": "code",
      "metadata": {
        "id": "2960iQtybM2v"
      },
      "source": [
        "# express indexing\n",
        "data[['a', 'e']]"
      ],
      "execution_count": null,
      "outputs": []
    },
    {
      "cell_type": "markdown",
      "metadata": {
        "id": "ERgbiCCSbVhp"
      },
      "source": [
        "Notez que lors du découpage avec un index explicite (c'est-à-dire, `data ['a': 'c']`), l'index final est inclus dans la tranche, tandis que lors du découpage avec un index implicite (c'est-à-dire `data [0: 2 ] `), l'index final est exclu de la tranche. Lorsque nous découpons une liste (c'est-à-dire `data [['a', 'e']]`), tous les indices sont également accessibles."
      ]
    },
    {
      "cell_type": "markdown",
      "metadata": {
        "id": "bAVfBKEJbYxc"
      },
      "source": [
        "### 3.2. Indexeurs: loc, iloc pour `Series`"
      ]
    },
    {
      "cell_type": "markdown",
      "metadata": {
        "id": "y3heiMk34Yhh"
      },
      "source": [
        "Nous allons passer en revue deux façons d'accéder aux éléments d'une `Series`, en utilisant deux attributs déterminés pour cela:` .loc [] `et` .iloc [] `. Définissons d'abord une `Série` de trois éléments de chaîne et d'indices de caractères:"
      ]
    },
    {
      "cell_type": "code",
      "metadata": {
        "id": "Zsue-7dcbPn8"
      },
      "source": [
        "data = pd.Series(['Hello', 'DPhi', 'world'], index=['a', 'b', 'c'])\n",
        "data"
      ],
      "execution_count": null,
      "outputs": []
    },
    {
      "cell_type": "markdown",
      "metadata": {
        "id": "DE-cLr7C4Yho"
      },
      "source": [
        "#### 3.2.1. Attribut `loc`"
      ]
    },
    {
      "cell_type": "markdown",
      "metadata": {
        "id": "0On5fbdLdUs_"
      },
      "source": [
        "L'attribut `` loc`` permet l'indexation et le découpage qui font toujours référence à l'index explicite (le nom explicite de l'index):"
      ]
    },
    {
      "cell_type": "code",
      "metadata": {
        "id": "ug4ownUTdQHn"
      },
      "source": [
        "data.loc['a']"
      ],
      "execution_count": null,
      "outputs": []
    },
    {
      "cell_type": "code",
      "metadata": {
        "id": "xxEkJjcqdYoA"
      },
      "source": [
        "data.loc['a':'c']"
      ],
      "execution_count": null,
      "outputs": []
    },
    {
      "cell_type": "markdown",
      "metadata": {
        "id": "TjRjxJMc4Yh0"
      },
      "source": [
        "#### 3.2.2. Attribut ʻiloc`"
      ]
    },
    {
      "cell_type": "markdown",
      "metadata": {
        "id": "e7fxH_KIddJM"
      },
      "source": [
        "L'attribut `ʻiloc`` permet l'indexation et le découpage qui font toujours référence à l'index implicite de style Python (le numéro de ligne directe des valeurs augmentant de manière monotone de 0 à 3):"
      ]
    },
    {
      "cell_type": "code",
      "metadata": {
        "id": "8H3LFd1VdZuQ"
      },
      "source": [
        "data.iloc[1]"
      ],
      "execution_count": null,
      "outputs": []
    },
    {
      "cell_type": "code",
      "metadata": {
        "id": "0nS4PzRqdfDk"
      },
      "source": [
        "data.iloc[1:3]"
      ],
      "execution_count": null,
      "outputs": []
    },
    {
      "cell_type": "markdown",
      "metadata": {
        "id": "Wf7N69xM4YiA"
      },
      "source": [
        "## Exercice 1\n",
        "\n",
        "Considérez les listes suivantes:\n",
        "''\n",
        "lst1 = [1, 2, 3, 5, 8]\n",
        "lst2 = [8, 5, 3, 2, 1]\n",
        "''\n",
        "\n",
        "1. Créez et affichez deux objets «Série» individuels «s1» et «s2» à partir des données disponibles sur chaque liste.\n",
        "\n",
        "\n",
        "2. Effectuez les opérations suivantes avec les deux séries (élément par élément):\n",
        "     1. Ajoutez `s1` et` s2` et stockez le résultat dans une nouvelle variable `s3_add`\n",
        "     2. Soustrayez «s2» de «s1» et stockez le résultat dans une nouvelle variable «s3_sub»\n",
        "     3. Multipliez «s1» et «s2» et stockez le résultat dans une nouvelle variable «s3_mul»\n",
        "     4. Divisez `s1` par` s2` et stockez le résultat dans une nouvelle variable `s3_div`"
      ]
    },
    {
      "cell_type": "code",
      "metadata": {
        "id": "2AWgOpXA4YiB"
      },
      "source": [
        "# Answer 1"
      ],
      "execution_count": null,
      "outputs": []
    },
    {
      "cell_type": "code",
      "metadata": {
        "id": "mNqlJvJL4YiG"
      },
      "source": [
        "# Answer 2"
      ],
      "execution_count": null,
      "outputs": []
    },
    {
      "cell_type": "markdown",
      "metadata": {
        "id": "q2k--y9l4YiK"
      },
      "source": [
        "## Exercice 2\n",
        "\n",
        "Considérez l'objet `Series` suivant:\n",
        "''\n",
        "0 45000\n",
        "1 37872\n",
        "2 57923\n",
        "3 68979\n",
        "4 78934\n",
        "5 69897\n",
        "6 56701\n",
        "Nom: Amazon_Reviews, dtype: int64\n",
        "''\n",
        "\n",
        "1. Créez et affichez la série ʻAmazon_Reviews`.\n",
        "\n",
        "2. Obtenez les trois dernières valeurs de ʻAmazon_Reviews` en utilisant l'indexation négative."
      ]
    },
    {
      "cell_type": "code",
      "metadata": {
        "id": "tIR8kNzT4YiK"
      },
      "source": [
        "# Answer 1"
      ],
      "execution_count": null,
      "outputs": []
    },
    {
      "cell_type": "code",
      "metadata": {
        "id": "mivpP0G-4YiQ"
      },
      "source": [
        "# Answer 2"
      ],
      "execution_count": null,
      "outputs": []
    },
    {
      "cell_type": "markdown",
      "metadata": {
        "id": "UUJmepUT4YiV"
      },
      "source": [
        "## Exercice 3\n",
        "\n",
        "Considérez le dictionnaire suivant qui relate la superficie en unités carrés de certains États américains:\n",
        "''\n",
        "     area_dict = {'Californie': 423967, 'Texas': 695662, 'New York': 141297,\n",
        "              «Floride»: 170312, «Illinois»: 149995}\n",
        "''\n",
        "\n",
        "1. Créez une `Série` en utilisant le dictionnaire donné\n",
        "2. Extrayez les zones «Texas», «New York» et «Florida» de la série créée"
      ]
    },
    {
      "cell_type": "code",
      "metadata": {
        "id": "rFwk8IFW4YiX"
      },
      "source": [
        "# Answer 1"
      ],
      "execution_count": null,
      "outputs": []
    },
    {
      "cell_type": "code",
      "metadata": {
        "id": "jqrxzuw_4Yid"
      },
      "source": [
        "# Answer 2"
      ],
      "execution_count": null,
      "outputs": []
    },
    {
      "cell_type": "markdown",
      "metadata": {
        "id": "L57zEGqtenG5"
      },
      "source": [
        "### 3.3. Sélection de données dans `DataFrame`"
      ]
    },
    {
      "cell_type": "markdown",
      "metadata": {
        "id": "vRAutQdn4Yiq"
      },
      "source": [
        "Voyons en détail comment accéder aux éléments des objets `DataFrame`, redéfinissons un objet` DataFrame` à des fins explicatives:"
      ]
    },
    {
      "cell_type": "code",
      "metadata": {
        "id": "x9ax5WMldgDc"
      },
      "source": [
        "area = pd.Series({'California': 423967, 'Texas': 695662,\n",
        "                  'New York': 141297, 'Florida': 170312,\n",
        "                  'Illinois': 149995})\n",
        "pop = pd.Series({'California': 38332521, 'Texas': 26448193,\n",
        "                 'New York': 19651127, 'Florida': 19552860,\n",
        "                 'Illinois': 12882135})\n",
        "data = pd.DataFrame({'area':area, 'pop':pop})\n",
        "data"
      ],
      "execution_count": null,
      "outputs": []
    },
    {
      "cell_type": "markdown",
      "metadata": {
        "id": "Y6V7L6dFesh8"
      },
      "source": [
        "Les différentes `` séries '' qui composent les colonnes du `` DataFrame '' sont accessibles via l'indexation de style dictionnaire du nom de la colonne:"
      ]
    },
    {
      "cell_type": "code",
      "metadata": {
        "id": "eGABmVWSeprS"
      },
      "source": [
        "data['area'] # Accessing the 'area' column of the data DataFrame"
      ],
      "execution_count": null,
      "outputs": []
    },
    {
      "cell_type": "code",
      "metadata": {
        "id": "MAusC4y14Yi0"
      },
      "source": [
        "data['pop'] # Accessing the 'pop' column of the data DataFrame"
      ],
      "execution_count": null,
      "outputs": []
    },
    {
      "cell_type": "markdown",
      "metadata": {
        "id": "BZUAgmMUe0LX"
      },
      "source": [
        "De manière équivalente, nous pouvons utiliser un accès de style attribut avec des noms de colonne qui sont des chaînes, ce qui donnera exactement la même sortie `Series`:"
      ]
    },
    {
      "cell_type": "code",
      "metadata": {
        "id": "TVe3LNpLerhv"
      },
      "source": [
        "data.area # Equivalent to data['area']"
      ],
      "execution_count": null,
      "outputs": []
    },
    {
      "cell_type": "markdown",
      "metadata": {
        "id": "dY3Is2CQe6aT"
      },
      "source": [
        "Comme pour les objets `` Series '' évoqués précédemment, cette syntaxe de style dictionnaire peut également être utilisée pour modifier l'objet, dans ce cas en ajoutant une nouvelle colonne:"
      ]
    },
    {
      "cell_type": "code",
      "metadata": {
        "id": "QlxFQv-ae16T"
      },
      "source": [
        "data['density'] = data['pop']/data['area']\n",
        "data"
      ],
      "execution_count": null,
      "outputs": []
    },
    {
      "cell_type": "markdown",
      "metadata": {
        "id": "_MOeJGiv4YjG"
      },
      "source": [
        "Comme vous pouvez le voir, lorsque l'on accède à la \"Série\" \"pop\" et qu'elle est divisée dans la zone \"Série\", l'opération arithmétique devient élément par élément et le résultat est assigné à la nouvelle densité \"Série\", qui devient la troisième colonne des données `DataFrame`."
      ]
    },
    {
      "cell_type": "markdown",
      "metadata": {
        "id": "YyAP8ug0fKHw"
      },
      "source": [
        "Nous pouvons également voir le `` DataFrame '' comme un tableau bidimensionnel amélioré.\n",
        "Nous pouvons examiner le tableau de données sous-jacent brutes à l'aide de l'attribut `` values``, qui renverra un tableau à deux dimensions dans lequel chaque ligne correspond à une ligne de valeurs `DataFrame`:"
      ]
    },
    {
      "cell_type": "code",
      "metadata": {
        "id": "i0APM5L9e8YT",
        "outputId": "3aeba5b0-5c76-41c9-b7b9-a935a92d4567",
        "colab": {
          "base_uri": "https://localhost:8080/",
          "height": 34
        }
      },
      "source": [
        "data.values"
      ],
      "execution_count": null,
      "outputs": [
        {
          "output_type": "execute_result",
          "data": {
            "text/plain": [
              "array([0.25, 0.5 , 0.75, 1.  ])"
            ]
          },
          "metadata": {
            "tags": []
          },
          "execution_count": 28
        }
      ]
    },
    {
      "cell_type": "markdown",
      "metadata": {
        "id": "j03HjPyJ4YjP"
      },
      "source": [
        "### 3.4. Indexeurs: loc, iloc pour `DataFrame`"
      ]
    },
    {
      "cell_type": "markdown",
      "metadata": {
        "id": "RxpcQ-Bm4YjQ"
      },
      "source": [
        "Nous allons passer en revue deux façons d'accéder aux éléments d'un `DataFrame`, en utilisant deux attributs déterminés pour cela:` .loc [] `et` .iloc [] `:"
      ]
    },
    {
      "cell_type": "markdown",
      "metadata": {
        "id": "XGws49kM4YjQ"
      },
      "source": [
        "#### 3.4.1. Attribut `loc`"
      ]
    },
    {
      "cell_type": "markdown",
      "metadata": {
        "id": "Ssjo7pr04YjR"
      },
      "source": [
        "L'attribut `` loc`` permet l'indexation et le découpage qui font toujours référence à l'index explicite (le nom explicite de l'index):"
      ]
    },
    {
      "cell_type": "code",
      "metadata": {
        "id": "c8kPXGCCfNX1",
        "outputId": "a2ef09ff-f58e-4405-8693-9b74ca193900",
        "colab": {
          "base_uri": "https://localhost:8080/",
          "height": 306
        }
      },
      "source": [
        "data.loc[:'Illinois', :'pop']"
      ],
      "execution_count": null,
      "outputs": [
        {
          "output_type": "error",
          "ename": "IndexingError",
          "evalue": "ignored",
          "traceback": [
            "\u001b[0;31m---------------------------------------------------------------------------\u001b[0m",
            "\u001b[0;31mIndexingError\u001b[0m                             Traceback (most recent call last)",
            "\u001b[0;32m<ipython-input-29-b3a520f19d51>\u001b[0m in \u001b[0;36m<module>\u001b[0;34m()\u001b[0m\n\u001b[0;32m----> 1\u001b[0;31m \u001b[0mdata\u001b[0m\u001b[0;34m.\u001b[0m\u001b[0mloc\u001b[0m\u001b[0;34m[\u001b[0m\u001b[0;34m:\u001b[0m\u001b[0;34m'Illinois'\u001b[0m\u001b[0;34m,\u001b[0m \u001b[0;34m:\u001b[0m\u001b[0;34m'pop'\u001b[0m\u001b[0;34m]\u001b[0m\u001b[0;34m\u001b[0m\u001b[0;34m\u001b[0m\u001b[0m\n\u001b[0m",
            "\u001b[0;32m/usr/local/lib/python3.6/dist-packages/pandas/core/indexing.py\u001b[0m in \u001b[0;36m__getitem__\u001b[0;34m(self, key)\u001b[0m\n\u001b[1;32m    871\u001b[0m                     \u001b[0;31m# AttributeError for IntervalTree get_value\u001b[0m\u001b[0;34m\u001b[0m\u001b[0;34m\u001b[0m\u001b[0;34m\u001b[0m\u001b[0m\n\u001b[1;32m    872\u001b[0m                     \u001b[0;32mpass\u001b[0m\u001b[0;34m\u001b[0m\u001b[0;34m\u001b[0m\u001b[0m\n\u001b[0;32m--> 873\u001b[0;31m             \u001b[0;32mreturn\u001b[0m \u001b[0mself\u001b[0m\u001b[0;34m.\u001b[0m\u001b[0m_getitem_tuple\u001b[0m\u001b[0;34m(\u001b[0m\u001b[0mkey\u001b[0m\u001b[0;34m)\u001b[0m\u001b[0;34m\u001b[0m\u001b[0;34m\u001b[0m\u001b[0m\n\u001b[0m\u001b[1;32m    874\u001b[0m         \u001b[0;32melse\u001b[0m\u001b[0;34m:\u001b[0m\u001b[0;34m\u001b[0m\u001b[0;34m\u001b[0m\u001b[0m\n\u001b[1;32m    875\u001b[0m             \u001b[0;31m# we by definition only have the 0th axis\u001b[0m\u001b[0;34m\u001b[0m\u001b[0;34m\u001b[0m\u001b[0;34m\u001b[0m\u001b[0m\n",
            "\u001b[0;32m/usr/local/lib/python3.6/dist-packages/pandas/core/indexing.py\u001b[0m in \u001b[0;36m_getitem_tuple\u001b[0;34m(self, tup)\u001b[0m\n\u001b[1;32m   1047\u001b[0m \u001b[0;34m\u001b[0m\u001b[0m\n\u001b[1;32m   1048\u001b[0m         \u001b[0;31m# no multi-index, so validate all of the indexers\u001b[0m\u001b[0;34m\u001b[0m\u001b[0;34m\u001b[0m\u001b[0;34m\u001b[0m\u001b[0m\n\u001b[0;32m-> 1049\u001b[0;31m         \u001b[0mself\u001b[0m\u001b[0;34m.\u001b[0m\u001b[0m_has_valid_tuple\u001b[0m\u001b[0;34m(\u001b[0m\u001b[0mtup\u001b[0m\u001b[0;34m)\u001b[0m\u001b[0;34m\u001b[0m\u001b[0;34m\u001b[0m\u001b[0m\n\u001b[0m\u001b[1;32m   1050\u001b[0m \u001b[0;34m\u001b[0m\u001b[0m\n\u001b[1;32m   1051\u001b[0m         \u001b[0;31m# ugly hack for GH #836\u001b[0m\u001b[0;34m\u001b[0m\u001b[0;34m\u001b[0m\u001b[0;34m\u001b[0m\u001b[0m\n",
            "\u001b[0;32m/usr/local/lib/python3.6/dist-packages/pandas/core/indexing.py\u001b[0m in \u001b[0;36m_has_valid_tuple\u001b[0;34m(self, key)\u001b[0m\n\u001b[1;32m    698\u001b[0m         \u001b[0;32mfor\u001b[0m \u001b[0mi\u001b[0m\u001b[0;34m,\u001b[0m \u001b[0mk\u001b[0m \u001b[0;32min\u001b[0m \u001b[0menumerate\u001b[0m\u001b[0;34m(\u001b[0m\u001b[0mkey\u001b[0m\u001b[0;34m)\u001b[0m\u001b[0;34m:\u001b[0m\u001b[0;34m\u001b[0m\u001b[0;34m\u001b[0m\u001b[0m\n\u001b[1;32m    699\u001b[0m             \u001b[0;32mif\u001b[0m \u001b[0mi\u001b[0m \u001b[0;34m>=\u001b[0m \u001b[0mself\u001b[0m\u001b[0;34m.\u001b[0m\u001b[0mndim\u001b[0m\u001b[0;34m:\u001b[0m\u001b[0;34m\u001b[0m\u001b[0;34m\u001b[0m\u001b[0m\n\u001b[0;32m--> 700\u001b[0;31m                 \u001b[0;32mraise\u001b[0m \u001b[0mIndexingError\u001b[0m\u001b[0;34m(\u001b[0m\u001b[0;34m\"Too many indexers\"\u001b[0m\u001b[0;34m)\u001b[0m\u001b[0;34m\u001b[0m\u001b[0;34m\u001b[0m\u001b[0m\n\u001b[0m\u001b[1;32m    701\u001b[0m             \u001b[0;32mtry\u001b[0m\u001b[0;34m:\u001b[0m\u001b[0;34m\u001b[0m\u001b[0;34m\u001b[0m\u001b[0m\n\u001b[1;32m    702\u001b[0m                 \u001b[0mself\u001b[0m\u001b[0;34m.\u001b[0m\u001b[0m_validate_key\u001b[0m\u001b[0;34m(\u001b[0m\u001b[0mk\u001b[0m\u001b[0;34m,\u001b[0m \u001b[0mi\u001b[0m\u001b[0;34m)\u001b[0m\u001b[0;34m\u001b[0m\u001b[0;34m\u001b[0m\u001b[0m\n",
            "\u001b[0;31mIndexingError\u001b[0m: Too many indexers"
          ]
        }
      ]
    },
    {
      "cell_type": "markdown",
      "metadata": {
        "id": "j-nMK9ym4YjW"
      },
      "source": [
        "Dans cet exemple, nous découpons les indices en commençant par le premier par défaut et se terminant par «Illinois», ainsi que par les colonnes commençant par le premier par défaut et se terminant par «pop»."
      ]
    },
    {
      "cell_type": "markdown",
      "metadata": {
        "id": "8t64Og0V4YjW"
      },
      "source": [
        "#### 3.4.2. Attribut ʻiloc`"
      ]
    },
    {
      "cell_type": "markdown",
      "metadata": {
        "id": "eyIhQv7b4YjX"
      },
      "source": [
        "L'attribut `ʻiloc`` permet l'indexation et le découpage qui font toujours référence à l'index implicite de style Python (le numéro de ligne directe des valeurs augmentant de manière monotone de 0 à 3):"
      ]
    },
    {
      "cell_type": "code",
      "metadata": {
        "id": "2B-P38C7e_86"
      },
      "source": [
        "data.iloc[:3, :2]"
      ],
      "execution_count": null,
      "outputs": []
    },
    {
      "cell_type": "markdown",
      "metadata": {
        "id": "3lvk2LdE4Yjb"
      },
      "source": [
        "Dans cet exemple, nous découpons le `DataFrame` de l'index 0 par défaut à 3 exclusifs, et de la colonne 0 par défaut à 2 exclusifs."
      ]
    },
    {
      "cell_type": "markdown",
      "metadata": {
        "id": "bW8WtyPf4Yjc"
      },
      "source": [
        "## Exercise 4\n",
        "\n",
        "Considérez ci-dessous les informations de DPhi Bootcamp sur les différents lots:\n",
        "\n",
        "```\n",
        "Total_Candidates = {'absolute_beginners': 785, 'beginners': 825, 'intermediat_advanced': 602} # this is true data\n",
        "Active_Candidates = {'absolute_beginners': 500, 'beginners': 425, 'intermediat_advanced': 300}  # this is hypothetical data\n",
        "```\n",
        "    \n",
        "1. Créez un `DataFrame` Pandas en utilisant les informations ci-dessus (nommez votre Dataframe comme` DPhi`)\n",
        "2. Obtenez toutes les colonnes dans DPhi.\n",
        "3. Obtenez les informations sur le nombre total de candidats présents dans chaque lot en utilisant une indexation de style dictionnaire.\n",
        "4. Trouvez le nombre de candidats pour chaque lot qui ne sont pas actifs et ajoutez ces informations au dataframe DPhi.\n",
        "5. Recherchez également le pourcentage de candidats actifs dans chaque lot et ajoutez ces informations à la base de données «DPhi» (indice: $ percent = (actif / total) * 100 $)\n",
        "6. Obtenez tous les lots où le pourcentage de candidats actifs est supérieur à 60%"
      ]
    },
    {
      "cell_type": "code",
      "metadata": {
        "id": "bo9YmD0k4Yjc"
      },
      "source": [
        "# Answer 1"
      ],
      "execution_count": null,
      "outputs": []
    },
    {
      "cell_type": "code",
      "metadata": {
        "id": "RQTdS_Gz4Yjg"
      },
      "source": [
        "# Answer 2"
      ],
      "execution_count": null,
      "outputs": []
    },
    {
      "cell_type": "code",
      "metadata": {
        "id": "9ncJeYFD4Yjm"
      },
      "source": [
        "# Answer 3"
      ],
      "execution_count": null,
      "outputs": []
    },
    {
      "cell_type": "code",
      "metadata": {
        "id": "AQxVWqRg4Yjr"
      },
      "source": [
        "# Answer 4"
      ],
      "execution_count": null,
      "outputs": []
    },
    {
      "cell_type": "code",
      "metadata": {
        "id": "PcRQNPqP4Yjv"
      },
      "source": [
        "# Answer 5"
      ],
      "execution_count": null,
      "outputs": []
    },
    {
      "cell_type": "code",
      "metadata": {
        "id": "iM2NQ_wD4Yjy"
      },
      "source": [
        "# Answer 6"
      ],
      "execution_count": null,
      "outputs": []
    },
    {
      "cell_type": "markdown",
      "metadata": {
        "id": "hvWWojeT4Yj1"
      },
      "source": [
        "### 3.5. Sous-définition d'un `Dataframe`"
      ]
    },
    {
      "cell_type": "markdown",
      "metadata": {
        "id": "dcYHSBCg4Yj1"
      },
      "source": [
        "**Subsetting** un `DataFrame` est un moyen de filtrage qui permet d'extraire des portions d'intérêt. Le sous-ensemble peut être fait à l'aide d'opérateurs de comparaison et d'opérateurs logiques à l'intérieur d'une paire de crochets `[]` comme indiqué dans l'exemple suivant:"
      ]
    },
    {
      "cell_type": "code",
      "metadata": {
        "id": "V4Wd7z9VfpTU"
      },
      "source": [
        "data[data['density'] > 100]"
      ],
      "execution_count": null,
      "outputs": []
    },
    {
      "cell_type": "markdown",
      "metadata": {
        "id": "ovv6OdAM4Yj9"
      },
      "source": [
        "Dans l'exemple ci-dessus, nous extrayons les lignes pour lesquelles il est \"True\" que la densité de population est supérieure à 100 unités. Pour plus de précisions sur le concept d'opération logique, jetez un œil à l'extrait suivant de l'exemple ci-dessus:"
      ]
    },
    {
      "cell_type": "code",
      "metadata": {
        "id": "ECH4sISH4Yj-"
      },
      "source": [
        "data['density'] > 100"
      ],
      "execution_count": null,
      "outputs": []
    },
    {
      "cell_type": "markdown",
      "metadata": {
        "id": "fP3mrwdL4YkQ"
      },
      "source": [
        "Comme il n'y a que deux lignes où la densité est supérieure à 100, le résultat sera une valeur booléenne `DataFrame` dans laquelle les valeurs` True` correspondent aux lignes qui accomplissent l'expression locale, et les valeurs `False` à la ceux qui ne le font pas.\n",
        "\n",
        "Voyons un exemple dans lequel nous incluons une deuxième opération logique pour sélectionner les lignes dans lesquelles la densité de population est supérieure à 100 unités `data ['densité']> 100` et (` & `) la superficie est inférieure à 150 000 unités` data ['area'] <150000`:"
      ]
    },
    {
      "cell_type": "code",
      "metadata": {
        "id": "CIqUWhFJ4YkQ"
      },
      "source": [
        "data[(data['density'] > 100) & (data['area'] < 150000)]"
      ],
      "execution_count": null,
      "outputs": []
    },
    {
      "cell_type": "markdown",
      "metadata": {
        "id": "0JDphJAh4Ykf"
      },
      "source": [
        "Nous pourrions également sélectionner les enregistrements dans lesquels la densité de population est inférieure à 90 unités `data ['densité'] <90` ou (` | `) supérieure à 120` data ['densité']> 120`:"
      ]
    },
    {
      "cell_type": "code",
      "metadata": {
        "id": "tXg6SXwl4Ykg"
      },
      "source": [
        "data[(data['density'] < 90) | (data['density'] > 120)]"
      ],
      "execution_count": null,
      "outputs": []
    },
    {
      "cell_type": "markdown",
      "metadata": {
        "id": "8v4Qip0V4Ykj"
      },
      "source": [
        "L'exemple précédent peut être réécrit pour exprimer la négation de la condition ci-dessus, sélectionnez les enregistrements qui n'ont pas une densité de population supérieure ou égale à 90 unités et inférieure ou égale à 120 unités `~ ((data ['densité'] > = 90) & (données ['densité'] <= 120)) `:"
      ]
    },
    {
      "cell_type": "code",
      "metadata": {
        "id": "hjgao8sS4Ykm"
      },
      "source": [
        "data[~((data['density'] >= 90) & (data['density'] <= 120))]"
      ],
      "execution_count": null,
      "outputs": []
    },
    {
      "cell_type": "markdown",
      "metadata": {
        "id": "bSoPEfV-4Ykw"
      },
      "source": [
        "Comme nous pouvons le voir, les résultats des deux derniers exemples sont les mêmes, puisque nous exprimons la même condition de différentes manières."
      ]
    },
    {
      "cell_type": "markdown",
      "metadata": {
        "id": "IetLY6DI4Yky"
      },
      "source": [
        "## 4. querelle de données"
      ]
    },
    {
      "cell_type": "markdown",
      "metadata": {
        "id": "GlFIkoE0hWFO"
      },
      "source": [
        "La différence entre les données trouvées dans de nombreux didacticiels et les données du monde réel est que les données du monde réel sont rarement propres et homogènes. En particulier, de nombreux ensembles de données intéressants auront une certaine quantité de données manquantes. Pour rendre les choses encore plus compliquées, différentes sources de données peuvent indiquer des données manquantes de différentes manières.\n",
        "\n",
        "De cette manière, nous devons définir des méthodes qui nous permettent de structurer, nettoyer et enrichir les données acquises du monde réel, qui sont les principales étapes du **Data Wrangling**. Avant de continuer, voyons quelle est la différence entre ces trois étapes et élargissons leur définition:\n",
        "\n",
        "**1. Structuration des données:**\n",
        "\n",
        "La première étape du processus de traitement des données consiste à séparer les données pertinentes en plusieurs colonnes, afin que l'analyse puisse être exécutée en regroupant par valeurs communes de manière distincte. À son tour, s'il y a des colonnes qui ne sont pas souhaitées ou qui ne seront pas pertinentes pour l'analyse, c'est la phase de filtrage des données ou de mélange de certaines de leurs colonnes.\n",
        "\n",
        "**2. Nettoyage des données**\n",
        "\n",
        "Dans cette étape, les données sont nettoyées pour une analyse de haute qualité. Les «valeurs nulles» sont gérées et le format des données est normalisé. Nous entamerons ce processus dans les semaines à venir.\n",
        "\n",
        "**3. Enrichissement des données**\n",
        "\n",
        "Après le nettoyage, les données sont enrichies en augmentant certaines variables dans ce que l'on appelle * Augmentation des données * et en utilisant des sources supplémentaires pour les enrichir pour les étapes de traitement suivantes.\n",
        "\n",
        "Pour l'instant, nous allons examiner comment gérer les valeurs manquantes, une étape fondamentale pour le nettoyage des données."
      ]
    },
    {
      "cell_type": "markdown",
      "metadata": {
        "id": "3nI-tc-igqYV"
      },
      "source": [
        "## 5. Traitement des données manquantes"
      ]
    },
    {
      "cell_type": "markdown",
      "metadata": {
        "id": "BifKbk8y4Yk0"
      },
      "source": [
        "Il s'agit d'une étape fondamentale du nettoyage des données. Il est courant que lors des processus d'acquisition de données, des enregistrements soient perdus, soit en raison des difficultés d'acquisition, en raison d'erreurs dans la source ou la destination, ou parce que nous n'avons tout simplement pas pu acquérir les données. Il existe trois types de données manquantes:\n",
        "\n",
        "- Manquant complètement au hasard (MCAR): lorsque le fait que les données sont manquantes est indépendant des données observées et non observées.\n",
        "- Manquant au hasard (MAR): lorsque le fait que les données sont manquantes est systématiquement lié aux données observées mais pas aux données non observées.\n",
        "- Missing not at random (MNAR): lorsque le manque de données est lié à des événements ou à des facteurs non mesurés par le chercheur.\n",
        "\n",
        "Nous aborderons ces types en détail plus tard. Pour l'instant, nous allons examiner les principes de base de la gestion des données manquantes dans les pandas:"
      ]
    },
    {
      "cell_type": "markdown",
      "metadata": {
        "id": "6uJo8zUKhjt7"
      },
      "source": [
        "### 5.1. `NaN` et` None` dans les pandas\n",
        "\n",
        "Les données manquantes sont gérées dans Pandas comme des espaces réservés de valeurs «NaN». La valeur `NaN` est une représentation en virgule flottante IEEE 754 de *Not a Number (NaN)*. L'une des principales raisons de traiter les données manquantes comme «NaN» plutôt que «Null» dans Pandas est que «NaN» (de «np.nan») permet des opérations vectorisées, car il s'agit d'une valeur flottante. «Aucun», par définition, force le type d'objet, ce qui désactive fondamentalement toute efficacité dans Numpy et Pandas.\n",
        "\n",
        "`` NaN '' et `` Aucun '' sont traités de manière presque interchangeable par `Pandas`, convertissant entre eux le cas échéant:"
      ]
    },
    {
      "cell_type": "code",
      "metadata": {
        "id": "DldHcdFlhn4H"
      },
      "source": [
        "import numpy as np\n",
        "\n",
        "pd.Series([1, np.nan, 2, None])"
      ],
      "execution_count": null,
      "outputs": []
    },
    {
      "cell_type": "markdown",
      "metadata": {
        "id": "pqSmI4JXhx1Y"
      },
      "source": [
        "### 5.2. Opérations sur les valeurs manquantes\n",
        "\n",
        "Il existe plusieurs méthodes utiles pour détecter, supprimer et remplacer les valeurs manquantes dans les structures de données Pandas:\n",
        "\n",
        "- `ʻisnull ()` `: génère un masque booléen indiquant les valeurs manquantes\n",
        "- `` notnull () '': génère un masque booléen de valeurs non manquantes. Est le contraire de «isnull ()».\n",
        "- `` dropna () '': renvoie une version filtrée des données, sans valeurs manquantes.\n",
        "- `` fillna () '': retourne une copie des données avec des valeurs manquantes remplies ou imputées avec une stratégie souhaitée.\n",
        "\n",
        "Passons en revue quelques exemples des deux premières fonctions ʻisnull () `et` notnull () `:"
      ]
    },
    {
      "cell_type": "code",
      "metadata": {
        "id": "slqzJonWhoS_"
      },
      "source": [
        "data = pd.Series([1, np.nan, 'hello', None])\n",
        "data"
      ],
      "execution_count": null,
      "outputs": []
    },
    {
      "cell_type": "code",
      "metadata": {
        "id": "rGO3h34qh97l"
      },
      "source": [
        "data.isnull()"
      ],
      "execution_count": null,
      "outputs": []
    },
    {
      "cell_type": "code",
      "metadata": {
        "id": "u_4Vt-7k4YlR"
      },
      "source": [
        "data.notnull()"
      ],
      "execution_count": null,
      "outputs": []
    },
    {
      "cell_type": "markdown",
      "metadata": {
        "id": "tbqGpJzV4Ylf"
      },
      "source": [
        "Comme vous pouvez le voir, la fonction `.isnull ()` renvoie un Dataframe avec des valeurs booléennes, où `False` indique une valeur actuelle et` True` indique une valeur manquante. Inversement, la fonction «.notnull ()» renvoie un Dataframe avec des valeurs booléennes, où «True» indique une valeur actuelle et «False» indique une valeur manquante.\n",
        "\n",
        "Avec ce résultat booléen, nous pouvons créer un sous-ensemble pour filtrer ces valeurs manquantes:"
      ]
    },
    {
      "cell_type": "code",
      "metadata": {
        "id": "utfaW2xoh_0Z"
      },
      "source": [
        "data[data.notnull()]"
      ],
      "execution_count": null,
      "outputs": []
    },
    {
      "cell_type": "code",
      "metadata": {
        "id": "S3PVa2NN4Ylj"
      },
      "source": [
        "data"
      ],
      "execution_count": null,
      "outputs": []
    },
    {
      "cell_type": "markdown",
      "metadata": {
        "id": "rxSv_Aqe4Ylm"
      },
      "source": [
        "Bien que nous ayons filtré les données manquantes, si nous revoyons le contenu de la variable, nous verrons que les données manquantes persistent. En effet, aucune opération de sous-ensemble n'est effectuée sur place. Voyons maintenant comment nous supprimons les données manquantes de notre ensemble de données."
      ]
    },
    {
      "cell_type": "markdown",
      "metadata": {
        "id": "8ryJN1THiIDO"
      },
      "source": [
        "### 5.3. Supprimer les valeurs manquantes\n",
        "\n",
        "La fonction de base pour supprimer toutes les valeurs manquantes d'un objet `Series` est la suivante, bien que la fonction ne soit pas exécutée sur place:"
      ]
    },
    {
      "cell_type": "code",
      "metadata": {
        "id": "vbGhWLdxiESs"
      },
      "source": [
        "data.dropna()"
      ],
      "execution_count": null,
      "outputs": []
    },
    {
      "cell_type": "code",
      "metadata": {
        "id": "JCYW3K1i4Ylr"
      },
      "source": [
        "data"
      ],
      "execution_count": null,
      "outputs": []
    },
    {
      "cell_type": "markdown",
      "metadata": {
        "id": "MDS7T1AYiUoS"
      },
      "source": [
        "Pour un `` DataFrame '', il y a plus d'options.\n",
        "Considérez le `` DataFrame '' suivant:"
      ]
    },
    {
      "cell_type": "code",
      "metadata": {
        "id": "z0JKzK1piP3D"
      },
      "source": [
        "df = pd.DataFrame([[1,      np.nan, 2],\n",
        "                   [2,      3,      5],\n",
        "                   [np.nan, 4,      6]])\n",
        "df"
      ],
      "execution_count": null,
      "outputs": []
    },
    {
      "cell_type": "markdown",
      "metadata": {
        "id": "G_m-crjHia3f"
      },
      "source": [
        "Nous ne pouvons pas supprimer des valeurs uniques d'un `` DataFrame ''; nous ne pouvons supprimer que des lignes complètes ou des colonnes complètes.\n",
        "Selon l'application, vous voudrez peut-être l'un ou l'autre, donc `` dropna () '' donne un certain nombre d'options pour un `` DataFrame ''.\n",
        "\n",
        "Par défaut, `` dropna () '' supprimera toutes les lignes dans lesquelles * une * valeur manquante est présente:"
      ]
    },
    {
      "cell_type": "code",
      "metadata": {
        "id": "Kk9cwOY8iWtf"
      },
      "source": [
        "df.dropna()"
      ],
      "execution_count": null,
      "outputs": []
    },
    {
      "cell_type": "markdown",
      "metadata": {
        "id": "5c-N5KhgigFR"
      },
      "source": [
        "Vous pouvez également déposer les valeurs manquantes le long d'un axe différent; ʻAxis = 1` supprime toutes les colonnes contenant une valeur manquante:"
      ]
    },
    {
      "cell_type": "code",
      "metadata": {
        "id": "RccLI6QZic5h"
      },
      "source": [
        "df.dropna(axis='columns')"
      ],
      "execution_count": null,
      "outputs": []
    },
    {
      "cell_type": "markdown",
      "metadata": {
        "id": "F1AZmZXAiqU3"
      },
      "source": [
        "Mais cela laisse également tomber de bonnes données; vous pourriez plutôt être intéressé par la suppression de lignes ou de colonnes avec * toutes * les valeurs `NaN`, ou une majorité de valeurs` NaN`. Cela peut être spécifié via les paramètres `` comment '' ou `` seuil '', qui permettent un contrôle précis du nombre de valeurs nulles à autoriser.\n",
        "\n",
        "La valeur par défaut est `` how = 'any' '', de sorte que toute ligne ou colonne (selon le mot clé `ʻaxis``) contenant une valeur nulle sera supprimée. Vous pouvez également spécifier `` how = 'all' '', qui ne supprimera que les lignes / colonnes qui sont * toutes * des valeurs nulles:"
      ]
    },
    {
      "cell_type": "code",
      "metadata": {
        "id": "jKYG2VHniiUN"
      },
      "source": [
        "df = pd.DataFrame([[1,      np.nan, 2, np.nan],\n",
        "                   [2,      3,      5, np.nan],\n",
        "                   [np.nan, 4,      6, np.nan]])\n",
        "df"
      ],
      "execution_count": null,
      "outputs": []
    },
    {
      "cell_type": "code",
      "metadata": {
        "id": "kAeoH8l6iwZg"
      },
      "source": [
        "df.dropna(axis='columns', how='all')"
      ],
      "execution_count": null,
      "outputs": []
    },
    {
      "cell_type": "markdown",
      "metadata": {
        "id": "bJzFRnRVjQUo"
      },
      "source": [
        "### 5.4. Remplir les valeurs nulles\n",
        "\n",
        "Parfois, plutôt que de supprimer les valeurs `NaN`, vous préférez les remplacer par une valeur valide.\n",
        "Cette valeur peut être un seul nombre comme zéro, ou il peut s'agir d'une sorte d'imputation ou d'interpolation à partir des bonnes valeurs.\n",
        "\n",
        "Il existe quatre types de traitement qui peuvent être administrés, dans cet ordre, à des données non-existantes ou manquantes indésirables:\n",
        "\n",
        "1. **Traitement 1:** Ignorez les données manquantes ou indésirables dans certaines colonnes, étant donné que dans d'autres colonnes des mêmes lignes, il y a des données importantes ou pertinentes pour l'étude.\n",
        "2. **Traitement 2:** Remplacez les données manquantes ou indésirables par des valeurs qui représentent un indicateur de nullité.\n",
        "3. **Traitement 3:** Remplacez les données manquantes, inexistantes ou indésirables par des valeurs interpolées liées à la tendance des données présentes.\n",
        "4. **Traitement 4:** Supprimer les données manquantes, avec la certitude que les informations précieuses ne seront pas perdues lors de l'analyse des données.\n",
        "\n",
        "Vous pouvez appliquer **Traitement 2** et **Traitement 3** en place en utilisant la méthode `ʻisnull ()` `comme masque, mais comme il s'agit d'une opération si courante,` Pandas` fournit le `` fillna ( ) ``, qui renvoie une copie du tableau avec les valeurs manquantes remplacées.\n",
        "\n",
        "Considérez la `` série '' suivante:"
      ]
    },
    {
      "cell_type": "code",
      "metadata": {
        "id": "brtx-2TFi5-H"
      },
      "source": [
        "data = pd.Series([1, np.nan, 2, None, 3], index=list('abcde'))\n",
        "data"
      ],
      "execution_count": null,
      "outputs": []
    },
    {
      "cell_type": "markdown",
      "metadata": {
        "id": "8nmvNbMI4YmM"
      },
      "source": [
        "To replace the missing values of the Series with a null value, we can do the following:"
      ]
    },
    {
      "cell_type": "code",
      "metadata": {
        "id": "ZE4gEWacjXcf"
      },
      "source": [
        "data.fillna(0)"
      ],
      "execution_count": null,
      "outputs": []
    },
    {
      "cell_type": "markdown",
      "metadata": {
        "id": "wV8dHLAcjfHq"
      },
      "source": [
        "Nous pouvons spécifier un remplissage avant pour propager la valeur précédente vers l'avant:"
      ]
    },
    {
      "cell_type": "code",
      "metadata": {
        "id": "JaSxaabNjaT7"
      },
      "source": [
        "# forward-fill\n",
        "data.fillna(method='ffill')"
      ],
      "execution_count": null,
      "outputs": []
    },
    {
      "cell_type": "markdown",
      "metadata": {
        "id": "e89lgDwnjj5d"
      },
      "source": [
        "Ou nous pouvons spécifier un remplissage pour propager les valeurs suivantes vers l'arrière:"
      ]
    },
    {
      "cell_type": "code",
      "metadata": {
        "id": "ecKI6evKjdG_"
      },
      "source": [
        "# back-fill\n",
        "data.fillna(method='bfill')"
      ],
      "execution_count": null,
      "outputs": []
    },
    {
      "cell_type": "markdown",
      "metadata": {
        "id": "emsOW59kjyAX"
      },
      "source": [
        "Pour les objets `` DataFrame`` les options sont similaires, mais nous pouvons également spécifier une `ʻaxe`` le long de laquelle les remplissages ont lieu:"
      ]
    },
    {
      "cell_type": "code",
      "metadata": {
        "id": "gwy6t-xEjlw8"
      },
      "source": [
        "df"
      ],
      "execution_count": null,
      "outputs": []
    },
    {
      "cell_type": "code",
      "metadata": {
        "id": "mu29vP-7jzku"
      },
      "source": [
        "df.fillna(method='ffill', axis=1) # forward-fill along the columns"
      ],
      "execution_count": null,
      "outputs": []
    },
    {
      "cell_type": "code",
      "metadata": {
        "id": "U0tvtejJ4Ymr"
      },
      "source": [
        "df.fillna(method='ffill', axis=0) # forward-fill along the rows"
      ],
      "execution_count": null,
      "outputs": []
    },
    {
      "cell_type": "markdown",
      "metadata": {
        "id": "SkWQkZvIj4Ux"
      },
      "source": [
        "Notez que si une valeur précédente n'est pas disponible lors d'un remplissage avant, la valeur `NaN` reste."
      ]
    },
    {
      "cell_type": "markdown",
      "metadata": {
        "id": "h5t9M5SNu3nb"
      },
      "source": [
        "## 6. Opérations sur les chaînes `Pandas`"
      ]
    },
    {
      "cell_type": "markdown",
      "metadata": {
        "id": "bo3gO8WV4Ymx"
      },
      "source": [
        "Lorsqu'un objet `Pandas` stocke des données de chaîne,` Pandas` fournit certaines opérations pour faciliter sa manipulation. Voyons ce qui se passerait si une structure de stockage de données classique telle qu'une liste avait des données manquantes et qu'une opération de chaîne était exécutée. Tout d'abord, nous définissons une liste avec quatre valeurs de chaîne:"
      ]
    },
    {
      "cell_type": "code",
      "metadata": {
        "id": "xasAeBYDj0x_"
      },
      "source": [
        "data = ['peter', 'Paul', 'MARY', 'gUIDO']\n",
        "[s.capitalize() for s in data]"
      ],
      "execution_count": null,
      "outputs": []
    },
    {
      "cell_type": "markdown",
      "metadata": {
        "id": "RXk_o8GDvF7D"
      },
      "source": [
        "C'est peut-être suffisant pour travailler avec certaines données, mais cela se cassera s'il y a des valeurs manquantes:"
      ]
    },
    {
      "cell_type": "code",
      "metadata": {
        "id": "BSdSRFSXvDg7"
      },
      "source": [
        "data = ['peter', 'Paul', None, 'MARY', 'gUIDO'] #this has a missing value None hence the error below\n",
        "[s.capitalize() for s in data]"
      ],
      "execution_count": null,
      "outputs": []
    },
    {
      "cell_type": "markdown",
      "metadata": {
        "id": "2qwp6ZUL4Ym6"
      },
      "source": [
        "Regardons maintenant une `série` de Pandas:"
      ]
    },
    {
      "cell_type": "code",
      "metadata": {
        "id": "PJs2RvhkvHYH"
      },
      "source": [
        "import pandas as pd\n",
        "names = pd.Series(data)\n",
        "names"
      ],
      "execution_count": null,
      "outputs": []
    },
    {
      "cell_type": "markdown",
      "metadata": {
        "id": "IDgsV07tvM0v"
      },
      "source": [
        "Nous pouvons maintenant appeler une méthode unique qui mettra en majuscule toutes les entrées, tout en ignorant les valeurs manquantes ou les valeurs non-string:"
      ]
    },
    {
      "cell_type": "code",
      "metadata": {
        "id": "zqyNJLWBvKQG"
      },
      "source": [
        "names.str.capitalize()"
      ],
      "execution_count": null,
      "outputs": []
    },
    {
      "cell_type": "markdown",
      "metadata": {
        "id": "53WRpcIB4YnA"
      },
      "source": [
        "Nous avons accédé à l'attribut `str` qui analyse les valeurs stockées dans la` Series` en string."
      ]
    },
    {
      "cell_type": "markdown",
      "metadata": {
        "id": "sqCVYZFevoFa"
      },
      "source": [
        "### 6.1. Méthodes de chaîne"
      ]
    },
    {
      "cell_type": "markdown",
      "metadata": {
        "id": "8sfY_mCMvlFz"
      },
      "source": [
        "Voici une liste des méthodes Pandas `` str '' qui reflètent les méthodes de chaîne Python:\n",
        "\n",
        "|             |                  |                  |                  |\n",
        "|-------------|------------------|------------------|------------------|\n",
        "|``len()``    | ``lower()``      | ``translate()``  | ``islower()``    | \n",
        "|``ljust()``  | ``upper()``      | ``startswith()`` | ``isupper()``    | \n",
        "|``rjust()``  | ``find()``       | ``endswith()``   | ``isnumeric()``  | \n",
        "|``center()`` | ``rfind()``      | ``isalnum()``    | ``isdecimal()``  | \n",
        "|``zfill()``  | ``index()``      | ``isalpha()``    | ``split()``      | \n",
        "|``strip()``  | ``rindex()``     | ``isdigit()``    | ``rsplit()``     | \n",
        "|``rstrip()`` | ``capitalize()`` | ``isspace()``    | ``partition()``  | \n",
        "|``lstrip()`` |  ``swapcase()``  |  ``istitle()``   | ``rpartition()`` |"
      ]
    },
    {
      "cell_type": "markdown",
      "metadata": {
        "id": "rHqEu4e24YnD"
      },
      "source": [
        "Voyons quelques exemples de méthodes de chaîne pour Pandas `Series` avec la série` monte`:"
      ]
    },
    {
      "cell_type": "code",
      "metadata": {
        "id": "LyevXtCovOj7"
      },
      "source": [
        "monte = pd.Series(['Graham Chapman', 'John Cleese', 'Terry Gilliam',\n",
        "                   'Eric Idle', 'Terry Jones', 'Michael Palin'])"
      ],
      "execution_count": null,
      "outputs": []
    },
    {
      "cell_type": "code",
      "metadata": {
        "id": "zM8-rywYvUj0"
      },
      "source": [
        "monte.str.lower() # Parse values to string and transform all characters to lowercase"
      ],
      "execution_count": null,
      "outputs": []
    },
    {
      "cell_type": "code",
      "metadata": {
        "id": "3pWQ-VWkvYBB"
      },
      "source": [
        "monte.str.len() # Parse values to string and calculates their length"
      ],
      "execution_count": null,
      "outputs": []
    },
    {
      "cell_type": "code",
      "metadata": {
        "id": "TVgUpU8hvaF_"
      },
      "source": [
        "# Parse values to string and calculates a mask of string values starting by 'T'\n",
        "monte.str.startswith('T')"
      ],
      "execution_count": null,
      "outputs": []
    },
    {
      "cell_type": "code",
      "metadata": {
        "id": "L5vyaS90vcBc"
      },
      "source": [
        "monte.str.split() # Parse values to string and splits them by ' ' character, by default"
      ],
      "execution_count": null,
      "outputs": []
    },
    {
      "cell_type": "markdown",
      "metadata": {
        "id": "bYuKRLP04Ynn"
      },
      "source": [
        "## Exercice 5\n",
        "\n",
        "Considérez les listes suivantes:\n",
        "\n",
        "```\n",
        "country = ['Netherland', 'Germany', 'Peru', 'Israel', 'Madagascar']\n",
        "year = [2002, 2002, 1957, 2007, 1967]\n",
        "population = [16122830.0, np.nan, 9146100.0, 6426679.0, 6334556.0]\n",
        "continent = ['Europe', 'europe', 'Americas', 'asia', 'Africa']\n",
        "```\n",
        "\n",
        "1. Créez un objet Dataframe qui contient toutes les valeurs des listes sous forme de série. Le DataFrame final doit être nommé comme `country_info`, contenant 4 colonnes et 5 lignes.\n",
        "2. Supprimez les lignes contenant des valeurs manquantes\n",
        "3. Capitalisez tous les continents dans la colonne continent.\n",
        "4. Obtenez la longueur des noms de chaque pays."
      ]
    },
    {
      "cell_type": "code",
      "metadata": {
        "id": "dJFC4dMf4Ynn"
      },
      "source": [
        "# Answer 1"
      ],
      "execution_count": null,
      "outputs": []
    },
    {
      "cell_type": "code",
      "metadata": {
        "id": "ICuJOMpi4Ynp"
      },
      "source": [
        "# Answer 2"
      ],
      "execution_count": null,
      "outputs": []
    },
    {
      "cell_type": "code",
      "metadata": {
        "id": "Q84vnGv14Ynr"
      },
      "source": [
        "# Answer 3"
      ],
      "execution_count": null,
      "outputs": []
    },
    {
      "cell_type": "code",
      "metadata": {
        "id": "DbVMFCGg4Ynt"
      },
      "source": [
        "# Answer 4"
      ],
      "execution_count": null,
      "outputs": []
    },
    {
      "cell_type": "markdown",
      "metadata": {
        "id": "w9XGVvHUv72L"
      },
      "source": [
        "## 7. Concaténer `Series`\n",
        "\n",
        "Ici, nous allons jeter un œil à la simple concaténation des objets `Series` et` DataFrame` avec la fonction `pd.concat ()`:"
      ]
    },
    {
      "cell_type": "code",
      "metadata": {
        "id": "UhPWz7G9veUr"
      },
      "source": [
        "ser1 = pd.Series(['A', 'B', 'C'], index=[1, 2, 3])\n",
        "ser2 = pd.Series(['D', 'E', 'F'], index=[4, 5, 6])\n",
        "pd.concat([ser1, ser2], axis=0)"
      ],
      "execution_count": null,
      "outputs": []
    },
    {
      "cell_type": "code",
      "metadata": {
        "id": "y_3FrZpP4Yn9"
      },
      "source": [
        "pd.concat([ser1, ser2], axis=1)"
      ],
      "execution_count": null,
      "outputs": []
    },
    {
      "cell_type": "markdown",
      "metadata": {
        "id": "yW_23Rto4YoA"
      },
      "source": [
        "Par défaut, la concaténation a lieu en ligne dans le `` DataFrame`` (c'est-à-dire, `ʻaxis = 0``). Cependant, comme vous pouvez le voir, la concaténation de `Series` dans un` DataFrame` peut être effectuée dans des lignes ou des colonnes contiguës en spécifiant le paramètre ʻaxis`. Dans le cas où ce sont des colonnes, il faut prendre soin de définir les mêmes valeurs d'index, afin que les colonnes soient placées de manière contiguë sans valeurs «NaN»."
      ]
    },
    {
      "cell_type": "markdown",
      "metadata": {
        "id": "07hetTOW4YoB"
      },
      "source": [
        "## Exercice 6\n",
        "\n",
        "Considérez les listes suivantes:\n",
        "\n",
        "```\n",
        "country = ['Netherland', 'Germany', 'Peru', 'Israel', 'Madagascar']\n",
        "gdp_per_cap = [33724.757780, 30035.801980, 4245.256698, 25523.277100, 1634.047282]\n",
        "```\n",
        "\n",
        "1. Créez un objet Dataframe qui contient toutes les valeurs des listes sous forme de série. Le DataFrame final doit être nommé comme «country_gdp», contenant 2 colonnes et 5 lignes.\n",
        "2. Concaténez les deux dataframes: `country_info` et` country_gdp` avec ʻaxis = 0` et nommez-le `concat_data`\n",
        "3. Vérifiez s'il y a des valeurs nulles dans `concat_data`\n",
        "4. Trouvez le nombre total de valeurs manquantes dans chaque colonne. *astuce: Utilisez les fonctions `.isnull ()` et `.sum ()`*"
      ]
    },
    {
      "cell_type": "code",
      "metadata": {
        "id": "2Eb10iyS9Bdh"
      },
      "source": [
        "# Answer 1"
      ],
      "execution_count": null,
      "outputs": []
    },
    {
      "cell_type": "code",
      "metadata": {
        "id": "ks1yCkmy9D1f"
      },
      "source": [
        "# Answer 2"
      ],
      "execution_count": null,
      "outputs": []
    },
    {
      "cell_type": "code",
      "metadata": {
        "id": "ZsIq27Oy9E3X"
      },
      "source": [
        "# Answer 3"
      ],
      "execution_count": null,
      "outputs": []
    },
    {
      "cell_type": "code",
      "metadata": {
        "id": "SUWP8Wj29Fg3"
      },
      "source": [
        "# Answer 4"
      ],
      "execution_count": null,
      "outputs": []
    },
    {
      "cell_type": "markdown",
      "metadata": {
        "id": "_uwL4BbE4YoB"
      },
      "source": [
        "## 8. Impression de table fantaisie `DataFrame`"
      ]
    },
    {
      "cell_type": "markdown",
      "metadata": {
        "id": "P_yOZvv84YoC"
      },
      "source": [
        "Dans les deux cellules suivantes, nous allons définir une manière élégante de visualiser les données de plusieurs objets `DataFrame`. Commençons par utiliser la bibliothèque ʻIPython.display`, qui nous permet de visualiser le contenu des objets `DataFrame` individuellement, à la manière d'un tableau:"
      ]
    },
    {
      "cell_type": "code",
      "metadata": {
        "id": "EAnbkqF34YoC"
      },
      "source": [
        "from IPython.display import display, HTML\n",
        "\n",
        "display(pd.concat([ser1, ser2], axis=1))"
      ],
      "execution_count": null,
      "outputs": []
    },
    {
      "cell_type": "markdown",
      "metadata": {
        "id": "9Yw_Dp2o4YoG"
      },
      "source": [
        "Regardons maintenant une fonction que nous avons définie, qui nous permet de mettre en évidence les données de plusieurs objets `DataFrame`. Il n'est pas nécessaire pour l'instant d'avoir une compréhension complète de la fonction suivante. Ce qui est important à ce stade, c'est de savoir comment l'utiliser."
      ]
    },
    {
      "cell_type": "code",
      "metadata": {
        "id": "W5eEZIU8wqlj"
      },
      "source": [
        "class display(object):\n",
        "    \"\"\"Display HTML representation of multiple objects\"\"\"\n",
        "    template = \"\"\"<div style=\"float: left; padding: 10px;\">\n",
        "    <p style='font-family:\"Courier New\", Courier, monospace'>{0}</p>{1}\n",
        "    </div>\"\"\"\n",
        "    def __init__(self, *args):\n",
        "        self.args = args\n",
        "        \n",
        "    def _repr_html_(self):\n",
        "        return '\\n'.join(self.template.format(a, eval(a)._repr_html_())\n",
        "                         for a in self.args)\n",
        "    \n",
        "    def __repr__(self):\n",
        "        return '\\n\\n'.join(a + '\\n' + repr(eval(a))\n",
        "                           for a in self.args)"
      ],
      "execution_count": null,
      "outputs": []
    },
    {
      "cell_type": "markdown",
      "metadata": {
        "id": "8TSJlkZ94YoJ"
      },
      "source": [
        "Définissons également une fonction utilisateur qui nous permet de créer rapidement un `DataFrame` en utilisant *Dictionary Comprehension*. Cette fonction transforme une chaîne d'entrée en un tableau carré qui est ensuite converti en un `DataFrame` où les noms de colonne sont chacun des caractères de la chaîne:"
      ]
    },
    {
      "cell_type": "code",
      "metadata": {
        "id": "TBMdkEUuwF5Q"
      },
      "source": [
        "def make_df(cols, ind):\n",
        "    \"\"\"Quickly make a DataFrame\"\"\"\n",
        "    data = {c: [str(c) + str(i) for i in ind]\n",
        "            for c in cols}\n",
        "    return pd.DataFrame(data, ind)\n",
        "\n",
        "# example DataFrame\n",
        "make_df('ABC', range(3))"
      ],
      "execution_count": null,
      "outputs": []
    },
    {
      "cell_type": "markdown",
      "metadata": {
        "id": "dJlt7pLAwbJV"
      },
      "source": [
        "La fonction nous permet également de concaténer des objets de plus grande dimension, tels que des objets `` DataFrame '':"
      ]
    },
    {
      "cell_type": "code",
      "metadata": {
        "id": "byfgkY19wYCP"
      },
      "source": [
        "df1 = make_df('AB', [1, 2])\n",
        "df2 = make_df('AB', [3, 4])\n",
        "display('df1', 'df2', 'pd.concat([df1, df2])')"
      ],
      "execution_count": null,
      "outputs": []
    },
    {
      "cell_type": "code",
      "metadata": {
        "id": "RULRT3vewaji"
      },
      "source": [
        "df3 = make_df('AB', [0, 1])\n",
        "df4 = make_df('CD', [0, 1])\n",
        "display('df3', 'df4', \"pd.concat([df3, df4], axis=1)\")"
      ],
      "execution_count": null,
      "outputs": []
    },
    {
      "cell_type": "markdown",
      "metadata": {
        "id": "S2kEJlDN4YoU"
      },
      "source": [
        "## la conclusions"
      ]
    },
    {
      "cell_type": "markdown",
      "metadata": {
        "id": "oL4uLFAN4YoW"
      },
      "source": [
        "Nous avons appris les principes de base de la bibliothèque `pandas` pour l'analyse des données, qui nous permet d'exécuter efficacement des opérations avec des données stockées, d'ajouter des enregistrements et de gérer les données manquantes. Nous avons également mis en évidence certaines des fonctions les plus importantes des objets «Series» et «DataFrame» de Pandas, ainsi que suivre une procédure de Data Wrangling.\n",
        "\n",
        "Dans la prochaine étude de cas, nous passerons en revue les principes fondamentaux des bibliothèques de visualisation de données, afin de pouvoir identifier des modèles visuels dans nos données."
      ]
    }
  ]
}